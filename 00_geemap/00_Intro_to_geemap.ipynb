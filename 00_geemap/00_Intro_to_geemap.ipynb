{
  "nbformat": 4,
  "nbformat_minor": 0,
  "metadata": {
    "colab": {
      "provenance": [],
      "toc_visible": true,
      "authorship_tag": "ABX9TyNLUVFH0Xx6fqEznZRigyB5",
      "include_colab_link": true
    },
    "kernelspec": {
      "name": "python3",
      "display_name": "Python 3"
    },
    "language_info": {
      "name": "python"
    }
  },
  "cells": [
    {
      "cell_type": "markdown",
      "metadata": {
        "id": "view-in-github",
        "colab_type": "text"
      },
      "source": [
        "<a href=\"https://colab.research.google.com/github/geonextgis/Mastering-Machine-Learning-and-GEE-for-Earth-Science/blob/main/00_geemap/00_Intro_to_geemap.ipynb\" target=\"_parent\"><img src=\"https://colab.research.google.com/assets/colab-badge.svg\" alt=\"Open In Colab\"/></a>"
      ]
    },
    {
      "cell_type": "markdown",
      "source": [
        "# **Intro to geemap**\n",
        "<img src=\"https://geemap.org/assets/logo.png\" width=\"20%\">"
      ],
      "metadata": {
        "id": "dU4mDT2ygAOd"
      }
    },
    {
      "cell_type": "markdown",
      "source": [
        "## **Installing the Updated Version of geemap**\n",
        "Install geemap version `0.29.3` or a later release to enable the automatic authentication feature, as this functionality is only supported in these versions. To install other Python packages, you can use the `pip install package_name` command. To update a package, you can use `pip install --upgrade package_name` or `pip install -U package_name`."
      ],
      "metadata": {
        "id": "nV_6mhbAfK7H"
      }
    },
    {
      "cell_type": "code",
      "source": [
        "# %pip install -U geemap"
      ],
      "metadata": {
        "id": "3Nu69rwRf2ZU"
      },
      "execution_count": null,
      "outputs": []
    },
    {
      "cell_type": "markdown",
      "source": [
        "## **Import the Required Libraries**"
      ],
      "metadata": {
        "id": "xiAw2gqigGT_"
      }
    },
    {
      "cell_type": "code",
      "source": [
        "import numpy as np\n",
        "import pandas as pd\n",
        "import matplotlib.pyplot as plt\n",
        "import ee\n",
        "import geemap"
      ],
      "metadata": {
        "id": "TAvvfdPugQCg"
      },
      "execution_count": null,
      "outputs": []
    },
    {
      "cell_type": "markdown",
      "source": [
        "## **Initialize a Map**\n",
        "\n",
        "When initializing a Map object, you may be prompted for authorization. If this occurs, you can obtain the required authorization token by visiting the provided link.\n",
        "\n",
        "Certainly! When working with the Map object in a Python environment, you can play with various parameters to customize the map display."
      ],
      "metadata": {
        "id": "conlGhpFipp3"
      }
    },
    {
      "cell_type": "code",
      "source": [
        "Map = geemap.Map()\n",
        "Map"
      ],
      "metadata": {
        "id": "fAyo0CkEiuyY"
      },
      "execution_count": null,
      "outputs": []
    },
    {
      "cell_type": "code",
      "source": [
        "# Change the map height and width parameter\n",
        "Map = geemap.Map(height=\"400pt\", width=\"800pt\")\n",
        "Map"
      ],
      "metadata": {
        "id": "jbqnWaFonxPa"
      },
      "execution_count": null,
      "outputs": []
    },
    {
      "cell_type": "code",
      "source": [
        "# Print the list of basemaps\n",
        "basemaps = geemap.basemaps\n",
        "\n",
        "for basemap in basemaps:\n",
        "    print(basemap)"
      ],
      "metadata": {
        "id": "mLurHUdaqBXr"
      },
      "execution_count": null,
      "outputs": []
    },
    {
      "cell_type": "code",
      "source": [
        "# Change the basemap layer to 'Esri World Imagery'\n",
        "Map.add_basemap(basemap=\"Esri.WorldImagery\")"
      ],
      "metadata": {
        "id": "DMNjQgfnpZ0F"
      },
      "execution_count": null,
      "outputs": []
    },
    {
      "cell_type": "markdown",
      "source": [
        "## **Working with Feature Collection**\n",
        "In Google Earth Engine, a Feature Collection is a type of data structure that represents a collection of vector features. These features could represent points, lines, polygons, or a combination of these geometries. Feature Collections are fundamental for working with spatial data and conducting geospatial analyses in Earth Engine.\n",
        "\n",
        "<img src=\"https://miro.medium.com/v2/resize:fit:1284/1*TaID5vtnzOYkkKSb-VQNpg.png\" width=\"45%\">"
      ],
      "metadata": {
        "id": "A-zlyNBUptfH"
      }
    },
    {
      "cell_type": "code",
      "source": [
        "# Set up a new map object\n",
        "Map = geemap.Map(height=\"400pt\", width=\"100%\")\n",
        "Map"
      ],
      "metadata": {
        "id": "seisMMFQq14u"
      },
      "execution_count": null,
      "outputs": []
    },
    {
      "cell_type": "code",
      "source": [
        "# Import 'World Administrative Boundary' shapefile layer as a feature collection\n",
        "world = ee.FeatureCollection(\"users/geonextgis/World_Administrative_Boundaries\")\n",
        "\n",
        "# Set visualization/style parameters\n",
        "world_style = {\n",
        "    \"fillColor\": \"00000000\", # transparent color code\n",
        "    \"color\": \"black\", # color of the stroke\n",
        "    \"width\": 0.5 # stroke width\n",
        "}\n",
        "\n",
        "# Display the layer\n",
        "Map.addLayer(world.style(**world_style), {}, \"World Administrative Boundaries\")"
      ],
      "metadata": {
        "id": "1HTb8wvhrHTQ"
      },
      "execution_count": null,
      "outputs": []
    },
    {
      "cell_type": "markdown",
      "source": [
        "### **Filtering Feature Collection:**\n",
        "Filtering a Feature Collection in Google Earth Engine involves selecting a subset of features based on specific criteria, such as spatial, attribute, or temporal conditions. This process is essential for isolating relevant data for analysis. Here are the key aspects of filtering a Feature Collection:"
      ],
      "metadata": {
        "id": "-YKr7Nx1xCa_"
      }
    },
    {
      "cell_type": "markdown",
      "source": [
        "1. **Attribute Filtering:**\n",
        "\n",
        "    - Attribute filtering involves selecting features based on their attribute values, such as properties or characteristics.\n",
        "    - The `filter` function is often used in combination with `ee.Filter` to define attribute-based conditions."
      ],
      "metadata": {
        "id": "vHg967Ed42xN"
      }
    },
    {
      "cell_type": "code",
      "source": [
        "# Filter all the Asian countries\n",
        "asian_countries = world.filter(ee.Filter.eq(\"continent\", \"Asia\"))\n",
        "asian_countries_style = {\n",
        "    \"fillColor\": \"93939388\",\n",
        "    \"color\": \"black\",\n",
        "    \"width\": 1\n",
        "}\n",
        "Map.addLayer(asian_countries.style(**asian_countries_style), {}, \"Asian Countries\")\n",
        "Map.centerObject(asian_countries, 3)"
      ],
      "metadata": {
        "id": "p-6_3pxI5I-d"
      },
      "execution_count": null,
      "outputs": []
    },
    {
      "cell_type": "markdown",
      "source": [
        "2. **Spatial Filtering:**\n",
        "   - Spatial filtering involves selecting features based on their geographic location or proximity to a specified region.\n",
        "   - Common spatial filters include `geometry`, `intersects`, `bounds`, and `distance`, allowing users to focus on features within a defined area or at a certain distance from a given point."
      ],
      "metadata": {
        "id": "h29pScitxlE6"
      }
    },
    {
      "cell_type": "code",
      "source": [
        "# Read 'Gridded Population of the World Version 4' point dataset provided by NASA SEDAC\n",
        "gpw = ee.FeatureCollection(\"projects/sat-io/open-datasets/sedac/gpw-v4-admin-unit-center-points-population-estimates-rev11\")\n",
        "\n",
        "# Filter the feature collection with only Asian countries (Spatial Filtering)\n",
        "# Filter the points where population estimates is more than 5000000 in 2020 (Attribute Filtering)\n",
        "gpw_asia = gpw.filterBounds(asian_countries)\\\n",
        "              .filter(ee.Filter.gt(\"UN_2020_E\", 5000000))\n",
        "\n",
        "gpw_asia_style = {\n",
        "    \"fillColor\": \"C70039\",\n",
        "    \"color\": \"black\",\n",
        "    \"width\": 1,\n",
        "    \"pointSize\": 5\n",
        "}\n",
        "Map.addLayer(gpw_asia.style(**gpw_asia_style), {}, \"Global Population Estimates > 5 Lakhs (Asia)\")"
      ],
      "metadata": {
        "id": "7yos-gPEv4jw"
      },
      "execution_count": null,
      "outputs": []
    },
    {
      "cell_type": "markdown",
      "source": [
        "### **Downloading Feature Collection:**\n",
        "\n",
        " 🤔 **Note:** It's always a good practice to comment out the `task.start()` line when sharing code to avoid unintentional multiple downloads of the same file."
      ],
      "metadata": {
        "id": "oPEJVNFVyrKY"
      }
    },
    {
      "cell_type": "code",
      "source": [
        "# Initialize an export task\n",
        "task = ee.batch.Export.table.toDrive(collection=gpw_asia,\n",
        "                                     description=\"GPW_Asia_Pop_Est_2020\",\n",
        "                                     folder=\"GEE\",\n",
        "                                     fileNamePrefix=\"GPW_Asia_Pop_Est_2020\",\n",
        "                                     fileFormat=\"SHP\")\n",
        "\n",
        "# Export the filtered feature collection\n",
        "# task.start()"
      ],
      "metadata": {
        "id": "myOwTbnCyyaA"
      },
      "execution_count": null,
      "outputs": []
    },
    {
      "cell_type": "markdown",
      "source": [
        "🤔 **Note:** In geemap, the addLayer function is designed to visualize data on the map by adding a layer. However, it's important to note that this function always returns an Image object, not a Feature Collection or individual Feature when using with `style` function.\n",
        "\n",
        "🔑 **Exercise:**\n",
        " - Filter African countries from the `World Administrative Boundary` layer.\n",
        " - Filter global population data within the selected African countries.\n",
        " - Identify points where population estimates are more than 500,000 (5 lakhs) in 2020.\n",
        " - Visualize the filtered layers on the map with custom styling.\n",
        " - Download the filtered layers into the Google drive."
      ],
      "metadata": {
        "id": "dqiPxq5ZB-K7"
      }
    },
    {
      "cell_type": "markdown",
      "source": [
        "## **Working with Image Collection**\n",
        "In Google Earth Engine (GEE), an Image Collection is a fundamental data structure used to represent a group or sequence of images. These images can be satellite observations, remotely sensed data, or any other raster data that can be organized over time or space.\n",
        "\n",
        "<img src=\"https://www.mdpi.com/remotesensing/remotesensing-14-02778/article_deploy/html/images/remotesensing-14-02778-g001.png\">"
      ],
      "metadata": {
        "id": "RHMtRcAzyPyM"
      }
    },
    {
      "cell_type": "code",
      "source": [
        "# Set up a new map object\n",
        "Map = geemap.Map(height=\"400pt\", width=\"100%\")\n",
        "Map"
      ],
      "metadata": {
        "id": "yN0bzy4T0DYB"
      },
      "execution_count": null,
      "outputs": []
    },
    {
      "cell_type": "code",
      "source": [
        "# Add a marker to the map and convert it into an EE feature\n",
        "marker = Map.draw_last_feature\n",
        "# marker"
      ],
      "metadata": {
        "id": "l423BLL41jTM"
      },
      "execution_count": null,
      "outputs": []
    },
    {
      "cell_type": "code",
      "source": [
        "# Import USGS Landsat 9 Level 2, Collection 2, Tier 1 image collection\n",
        "L9 = ee.ImageCollection(\"LANDSAT/LC09/C02/T1_L2\")"
      ],
      "metadata": {
        "id": "LEzEwbuD7wAO"
      },
      "execution_count": null,
      "outputs": []
    },
    {
      "cell_type": "markdown",
      "source": [
        "### **Filtering Image Collection**\n",
        "  - We can filter Image Collections based on various criteria, such as `date range`, `spatial extent`, or `metadata` properties.\n",
        "  - To optimize the workflow, it is advisable to follow a specific order when filtering an Image Collection. The recommended sequence includes filtering by boundary first, followed by dates, and then metadata properties.\n",
        "  - This approach helps reduce computational load and speeds up the execution of operations."
      ],
      "metadata": {
        "id": "Ni6TGzlr6xRW"
      }
    },
    {
      "cell_type": "code",
      "source": [
        "# Filter the Landsat 9 image collection using marker points (Filter with boundary)\n",
        "# Select images acquired in the year 2022 (Filter with date range)\n",
        "# Filter the collection to include images with less than 10% cloud cover (Filter with metadata)\n",
        "# Choose the first image from the filtered image collection\n",
        "\n",
        "L9Filtered = L9.filterBounds(marker.geometry())\\\n",
        "               .filterDate(\"2022-01-01\", \"2022-12-31\")\\\n",
        "               .filterMetadata(\"CLOUD_COVER\", \"less_than\", 10)\\\n",
        "               .first()\n",
        "\n",
        "# Display the RGB and SFCC images into the map\n",
        "rgb_vis = {\n",
        "    \"min\": 8000,\n",
        "    \"max\": 17000,\n",
        "    \"bands\": [\"SR_B4\", \"SR_B3\", \"SR_B2\"]\n",
        "}\n",
        "\n",
        "sfcc_vis = {\n",
        "    \"min\": 8000,\n",
        "    \"max\": 17000,\n",
        "    \"bands\": [\"SR_B5\", \"SR_B4\", \"SR_B3\"]\n",
        "}\n",
        "\n",
        "Map.addLayer(L9Filtered, rgb_vis, \"RGB Composite\")\n",
        "Map.addLayer(L9Filtered, sfcc_vis, \"SFCC Composite\")\n",
        "Map.centerObject(marker, 9)"
      ],
      "metadata": {
        "id": "0ZQQXlh08o8r"
      },
      "execution_count": null,
      "outputs": []
    },
    {
      "cell_type": "markdown",
      "source": [
        "🤔 **Note:** `getInfo()` is a method in GEE API that allows users to retrieve the values of Earth Engine objects and transfer them from the server-side to the client-side. In the context of GEE, computations often occur on the server-side, which means that the actual data and results reside on Google's servers. To access and work with this information in your local environment, we use `getInfo()`."
      ],
      "metadata": {
        "id": "-G8nSm5rBfDl"
      }
    },
    {
      "cell_type": "code",
      "source": [
        "# Store the metadata property names in a list\n",
        "image_prop_names = L9Filtered.propertyNames()\n",
        "\n",
        "# Print the properties information\n",
        "image_props = L9Filtered.toDictionary(image_prop_names).getInfo()\n",
        "image_props"
      ],
      "metadata": {
        "id": "OFF4tJTj_huA"
      },
      "execution_count": null,
      "outputs": []
    },
    {
      "cell_type": "markdown",
      "source": [
        "🔑 **Exercise:**\n",
        " - Load Landsat 9 image collection for a specific region over a multi-year period (2020-2022).\n",
        " - Filter the image collection based on the 'CLOUD_COVER' property (< 5%).\n",
        " - Visualize the image in three different band combinations, such as (Red, Green, Blue), (NIR, Red, Green), and (SWIR2, NIR, Red).\n",
        " - Print metadata properties of the image."
      ],
      "metadata": {
        "id": "lEhpm_AYCcnr"
      }
    }
  ]
}