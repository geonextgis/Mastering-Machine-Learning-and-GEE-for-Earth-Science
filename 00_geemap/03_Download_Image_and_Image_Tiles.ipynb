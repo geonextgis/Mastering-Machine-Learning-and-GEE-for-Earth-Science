{
  "nbformat": 4,
  "nbformat_minor": 0,
  "metadata": {
    "colab": {
      "provenance": [],
      "authorship_tag": "ABX9TyPTbh9RTK5rgxidcWhsDvxc",
      "include_colab_link": true
    },
    "kernelspec": {
      "name": "python3",
      "display_name": "Python 3"
    },
    "language_info": {
      "name": "python"
    },
    "widgets": {
      "application/vnd.jupyter.widget-state+json": {
        "dcc41a0729ee47c78a13bf879d2afa47": {
          "model_module": "jupyter-leaflet",
          "model_name": "LeafletMapModel",
          "model_module_version": "^0.18",
          "state": {
            "_dom_classes": [],
            "_model_module": "jupyter-leaflet",
            "_model_module_version": "^0.18",
            "_model_name": "LeafletMapModel",
            "_view_count": null,
            "_view_module": "jupyter-leaflet",
            "_view_module_version": "^0.18",
            "_view_name": "LeafletMapView",
            "bottom": 57113.978061333735,
            "bounce_at_zoom_limits": true,
            "box_zoom": true,
            "center": [
              23.20227841615541,
              87.33169555664064
            ],
            "close_popup_on_click": true,
            "controls": [
              "IPY_MODEL_bb4b7e08c1424a54af96b3dee23c0714",
              "IPY_MODEL_a4fa12c78fcc4541b966d66d9bf97cb8",
              "IPY_MODEL_c636759c0a5c45f789585174673ee4d4",
              "IPY_MODEL_e9fcdabd48524b94bf66925e9fc48a3b",
              "IPY_MODEL_d6c446c84fe848ae9c72d32795b114fb",
              "IPY_MODEL_065a8c140b9e4383a79cfa1a67dfc739",
              "IPY_MODEL_3adb3d922e274aa5bcb4289ac0e77122",
              "IPY_MODEL_8ad23638fa7445b9b6e50430236e89d1"
            ],
            "crs": {
              "name": "EPSG3857",
              "custom": false
            },
            "default_style": "IPY_MODEL_43f20132ce784cdbaa84287eea4343a6",
            "double_click_zoom": true,
            "dragging": true,
            "dragging_style": "IPY_MODEL_87bf7925f0664ed79d67ec68fd0ff562",
            "east": 88.82171630859376,
            "fullscreen": false,
            "inertia": true,
            "inertia_deceleration": 3000,
            "inertia_max_speed": 1500,
            "interpolation": "bilinear",
            "keyboard": true,
            "keyboard_pan_offset": 80,
            "keyboard_zoom_offset": 1,
            "layers": [
              "IPY_MODEL_05e83c8f59e8498a8a045f46b2776b2b",
              "IPY_MODEL_d146b511de2e47289c91738fe1394f3e",
              "IPY_MODEL_082768304fbc4a7ba9c1104025ff8cb5",
              "IPY_MODEL_fdb41565d6cd496ca231e98779e1c823"
            ],
            "layout": "IPY_MODEL_88e77d0aa1394110ad5f62e61a898c22",
            "left": 96790,
            "max_zoom": 24,
            "min_zoom": null,
            "modisdate": "2024-03-02",
            "north": 23.873335449294235,
            "options": [
              "bounce_at_zoom_limits",
              "box_zoom",
              "center",
              "close_popup_on_click",
              "double_click_zoom",
              "dragging",
              "fullscreen",
              "inertia",
              "inertia_deceleration",
              "inertia_max_speed",
              "interpolation",
              "keyboard",
              "keyboard_pan_offset",
              "keyboard_zoom_offset",
              "max_zoom",
              "min_zoom",
              "prefer_canvas",
              "scroll_wheel_zoom",
              "tap",
              "tap_tolerance",
              "touch_zoom",
              "world_copy_jump",
              "zoom",
              "zoom_animation_threshold",
              "zoom_delta",
              "zoom_snap"
            ],
            "panes": {},
            "prefer_canvas": false,
            "right": 97875,
            "scroll_wheel_zoom": true,
            "south": 22.527835457101915,
            "style": "IPY_MODEL_43f20132ce784cdbaa84287eea4343a6",
            "tap": true,
            "tap_tolerance": 15,
            "top": 56580.978061333735,
            "touch_zoom": true,
            "west": 85.8416748046875,
            "window_url": "https://1o4gzccsjd6j-496ff2e9c6d22116-0-colab.googleusercontent.com/outputframe.html?vrz=colab_20240228-060152_RC00_611016369",
            "world_copy_jump": false,
            "zoom": 9,
            "zoom_animation_threshold": 4,
            "zoom_delta": 1,
            "zoom_snap": 1
          }
        },
        "bb4b7e08c1424a54af96b3dee23c0714": {
          "model_module": "jupyter-leaflet",
          "model_name": "LeafletWidgetControlModel",
          "model_module_version": "^0.18",
          "state": {
            "_model_module": "jupyter-leaflet",
            "_model_module_version": "^0.18",
            "_model_name": "LeafletWidgetControlModel",
            "_view_count": null,
            "_view_module": "jupyter-leaflet",
            "_view_module_version": "^0.18",
            "_view_name": "LeafletWidgetControlView",
            "max_height": null,
            "max_width": null,
            "min_height": null,
            "min_width": null,
            "options": [
              "position",
              "transparent_bg"
            ],
            "position": "topleft",
            "transparent_bg": false,
            "widget": "IPY_MODEL_3939fde103394f5f9028e8d9b3eeee60"
          }
        },
        "a4fa12c78fcc4541b966d66d9bf97cb8": {
          "model_module": "jupyter-leaflet",
          "model_name": "LeafletZoomControlModel",
          "model_module_version": "^0.18",
          "state": {
            "_model_module": "jupyter-leaflet",
            "_model_module_version": "^0.18",
            "_model_name": "LeafletZoomControlModel",
            "_view_count": null,
            "_view_module": "jupyter-leaflet",
            "_view_module_version": "^0.18",
            "_view_name": "LeafletZoomControlView",
            "options": [
              "position",
              "zoom_in_text",
              "zoom_in_title",
              "zoom_out_text",
              "zoom_out_title"
            ],
            "position": "topleft",
            "zoom_in_text": "+",
            "zoom_in_title": "Zoom in",
            "zoom_out_text": "-",
            "zoom_out_title": "Zoom out"
          }
        },
        "c636759c0a5c45f789585174673ee4d4": {
          "model_module": "jupyter-leaflet",
          "model_name": "LeafletFullScreenControlModel",
          "model_module_version": "^0.18",
          "state": {
            "_model_module": "jupyter-leaflet",
            "_model_module_version": "^0.18",
            "_model_name": "LeafletFullScreenControlModel",
            "_view_count": null,
            "_view_module": "jupyter-leaflet",
            "_view_module_version": "^0.18",
            "_view_name": "LeafletFullScreenControlView",
            "options": [
              "position"
            ],
            "position": "topleft"
          }
        },
        "e9fcdabd48524b94bf66925e9fc48a3b": {
          "model_module": "jupyter-leaflet",
          "model_name": "LeafletDrawControlModel",
          "model_module_version": "^0.18",
          "state": {
            "_model_module": "jupyter-leaflet",
            "_model_module_version": "^0.18",
            "_model_name": "LeafletDrawControlModel",
            "_view_count": null,
            "_view_module": "jupyter-leaflet",
            "_view_module_version": "^0.18",
            "_view_name": "LeafletDrawControlView",
            "circle": {},
            "circlemarker": {},
            "data": [],
            "edit": true,
            "marker": {
              "shapeOptions": {
                "color": "#3388ff"
              }
            },
            "options": [
              "position"
            ],
            "polygon": {
              "shapeOptions": {}
            },
            "polyline": {
              "shapeOptions": {}
            },
            "position": "topleft",
            "rectangle": {
              "shapeOptions": {
                "color": "#3388ff"
              }
            },
            "remove": true
          }
        },
        "d6c446c84fe848ae9c72d32795b114fb": {
          "model_module": "jupyter-leaflet",
          "model_name": "LeafletScaleControlModel",
          "model_module_version": "^0.18",
          "state": {
            "_model_module": "jupyter-leaflet",
            "_model_module_version": "^0.18",
            "_model_name": "LeafletScaleControlModel",
            "_view_count": null,
            "_view_module": "jupyter-leaflet",
            "_view_module_version": "^0.18",
            "_view_name": "LeafletScaleControlView",
            "imperial": true,
            "max_width": 100,
            "metric": true,
            "options": [
              "imperial",
              "max_width",
              "metric",
              "position",
              "update_when_idle"
            ],
            "position": "bottomleft",
            "update_when_idle": false
          }
        },
        "065a8c140b9e4383a79cfa1a67dfc739": {
          "model_module": "jupyter-leaflet",
          "model_name": "LeafletMeasureControlModel",
          "model_module_version": "^0.18",
          "state": {
            "_custom_units": {},
            "_model_module": "jupyter-leaflet",
            "_model_module_version": "^0.18",
            "_model_name": "LeafletMeasureControlModel",
            "_view_count": null,
            "_view_module": "jupyter-leaflet",
            "_view_module_version": "^0.18",
            "_view_name": "LeafletMeasureControlView",
            "active_color": "orange",
            "capture_z_index": 10000,
            "completed_color": "#C8F2BE",
            "options": [
              "active_color",
              "capture_z_index",
              "completed_color",
              "popup_options",
              "position",
              "primary_area_unit",
              "primary_length_unit",
              "secondary_area_unit",
              "secondary_length_unit"
            ],
            "popup_options": {
              "className": "leaflet-measure-resultpopup",
              "autoPanPadding": [
                10,
                10
              ]
            },
            "position": "bottomleft",
            "primary_area_unit": "acres",
            "primary_length_unit": "kilometers",
            "secondary_area_unit": null,
            "secondary_length_unit": null
          }
        },
        "3adb3d922e274aa5bcb4289ac0e77122": {
          "model_module": "jupyter-leaflet",
          "model_name": "LeafletWidgetControlModel",
          "model_module_version": "^0.18",
          "state": {
            "_model_module": "jupyter-leaflet",
            "_model_module_version": "^0.18",
            "_model_name": "LeafletWidgetControlModel",
            "_view_count": null,
            "_view_module": "jupyter-leaflet",
            "_view_module_version": "^0.18",
            "_view_name": "LeafletWidgetControlView",
            "max_height": null,
            "max_width": null,
            "min_height": null,
            "min_width": null,
            "options": [
              "position",
              "transparent_bg"
            ],
            "position": "topright",
            "transparent_bg": false,
            "widget": "IPY_MODEL_dc0b058cb0914a75b5078895efaec11a"
          }
        },
        "8ad23638fa7445b9b6e50430236e89d1": {
          "model_module": "jupyter-leaflet",
          "model_name": "LeafletAttributionControlModel",
          "model_module_version": "^0.18",
          "state": {
            "_model_module": "jupyter-leaflet",
            "_model_module_version": "^0.18",
            "_model_name": "LeafletAttributionControlModel",
            "_view_count": null,
            "_view_module": "jupyter-leaflet",
            "_view_module_version": "^0.18",
            "_view_name": "LeafletAttributionControlView",
            "options": [
              "position",
              "prefix"
            ],
            "position": "bottomright",
            "prefix": "ipyleaflet"
          }
        },
        "43f20132ce784cdbaa84287eea4343a6": {
          "model_module": "jupyter-leaflet",
          "model_name": "LeafletMapStyleModel",
          "model_module_version": "^0.18",
          "state": {
            "_model_module": "jupyter-leaflet",
            "_model_module_version": "^0.18",
            "_model_name": "LeafletMapStyleModel",
            "_view_count": null,
            "_view_module": "@jupyter-widgets/base",
            "_view_module_version": "1.2.0",
            "_view_name": "StyleView",
            "cursor": "grab"
          }
        },
        "87bf7925f0664ed79d67ec68fd0ff562": {
          "model_module": "jupyter-leaflet",
          "model_name": "LeafletMapStyleModel",
          "model_module_version": "^0.18",
          "state": {
            "_model_module": "jupyter-leaflet",
            "_model_module_version": "^0.18",
            "_model_name": "LeafletMapStyleModel",
            "_view_count": null,
            "_view_module": "@jupyter-widgets/base",
            "_view_module_version": "1.2.0",
            "_view_name": "StyleView",
            "cursor": "move"
          }
        },
        "05e83c8f59e8498a8a045f46b2776b2b": {
          "model_module": "jupyter-leaflet",
          "model_name": "LeafletTileLayerModel",
          "model_module_version": "^0.18",
          "state": {
            "_model_module": "jupyter-leaflet",
            "_model_module_version": "^0.18",
            "_model_name": "LeafletTileLayerModel",
            "_view_count": null,
            "_view_module": "jupyter-leaflet",
            "_view_module_version": "^0.18",
            "_view_name": "LeafletTileLayerView",
            "attribution": "&copy; <a href=\"https://www.openstreetmap.org/copyright\">OpenStreetMap</a> contributors",
            "base": true,
            "bottom": true,
            "bounds": null,
            "detect_retina": false,
            "loading": false,
            "max_native_zoom": null,
            "max_zoom": 19,
            "min_native_zoom": null,
            "min_zoom": 1,
            "name": "OpenStreetMap.Mapnik",
            "no_wrap": false,
            "opacity": 1,
            "options": [
              "attribution",
              "bounds",
              "detect_retina",
              "max_native_zoom",
              "max_zoom",
              "min_native_zoom",
              "min_zoom",
              "no_wrap",
              "tile_size",
              "tms",
              "zoom_offset"
            ],
            "pane": "",
            "popup": null,
            "popup_max_height": null,
            "popup_max_width": 300,
            "popup_min_width": 50,
            "show_loading": false,
            "subitems": [],
            "tile_size": 256,
            "tms": false,
            "url": "https://tile.openstreetmap.org/{z}/{x}/{y}.png",
            "visible": true,
            "zoom_offset": 0
          }
        },
        "88e77d0aa1394110ad5f62e61a898c22": {
          "model_module": "@jupyter-widgets/base",
          "model_name": "LayoutModel",
          "model_module_version": "1.2.0",
          "state": {
            "_model_module": "@jupyter-widgets/base",
            "_model_module_version": "1.2.0",
            "_model_name": "LayoutModel",
            "_view_count": null,
            "_view_module": "@jupyter-widgets/base",
            "_view_module_version": "1.2.0",
            "_view_name": "LayoutView",
            "align_content": null,
            "align_items": null,
            "align_self": null,
            "border": null,
            "bottom": null,
            "display": null,
            "flex": null,
            "flex_flow": null,
            "grid_area": null,
            "grid_auto_columns": null,
            "grid_auto_flow": null,
            "grid_auto_rows": null,
            "grid_column": null,
            "grid_gap": null,
            "grid_row": null,
            "grid_template_areas": null,
            "grid_template_columns": null,
            "grid_template_rows": null,
            "height": "400pt",
            "justify_content": null,
            "justify_items": null,
            "left": null,
            "margin": null,
            "max_height": null,
            "max_width": null,
            "min_height": null,
            "min_width": null,
            "object_fit": null,
            "object_position": null,
            "order": null,
            "overflow": null,
            "overflow_x": null,
            "overflow_y": null,
            "padding": null,
            "right": null,
            "top": null,
            "visibility": null,
            "width": null
          }
        },
        "ecf856e512264e54aa97d70527f192ff": {
          "model_module": "jupyter-leaflet",
          "model_name": "LeafletMapStyleModel",
          "model_module_version": "^0.18",
          "state": {
            "_model_module": "jupyter-leaflet",
            "_model_module_version": "^0.18",
            "_model_name": "LeafletMapStyleModel",
            "_view_count": null,
            "_view_module": "@jupyter-widgets/base",
            "_view_module_version": "1.2.0",
            "_view_name": "StyleView",
            "cursor": "grab"
          }
        },
        "3939fde103394f5f9028e8d9b3eeee60": {
          "model_module": "@jupyter-widgets/controls",
          "model_name": "HBoxModel",
          "model_module_version": "1.5.0",
          "state": {
            "_dom_classes": [
              "geemap-colab"
            ],
            "_model_module": "@jupyter-widgets/controls",
            "_model_module_version": "1.5.0",
            "_model_name": "HBoxModel",
            "_view_count": null,
            "_view_module": "@jupyter-widgets/controls",
            "_view_module_version": "1.5.0",
            "_view_name": "HBoxView",
            "box_style": "",
            "children": [
              "IPY_MODEL_829595534c0d4c20b511d475bda6d3f8"
            ],
            "layout": "IPY_MODEL_057d2f340b3642a28f5d0d37280742bd"
          }
        },
        "dc0b058cb0914a75b5078895efaec11a": {
          "model_module": "@jupyter-widgets/controls",
          "model_name": "VBoxModel",
          "model_module_version": "1.5.0",
          "state": {
            "_dom_classes": [
              "geemap-colab"
            ],
            "_model_module": "@jupyter-widgets/controls",
            "_model_module_version": "1.5.0",
            "_model_name": "VBoxModel",
            "_view_count": null,
            "_view_module": "@jupyter-widgets/controls",
            "_view_module_version": "1.5.0",
            "_view_name": "VBoxView",
            "box_style": "",
            "children": [
              "IPY_MODEL_f9e82e7dcf62447a925b7fb217686fab"
            ],
            "layout": "IPY_MODEL_422b1b348e564e6ea223a8fff4f93b66"
          }
        },
        "829595534c0d4c20b511d475bda6d3f8": {
          "model_module": "@jupyter-widgets/controls",
          "model_name": "ToggleButtonModel",
          "model_module_version": "1.5.0",
          "state": {
            "_dom_classes": [],
            "_model_module": "@jupyter-widgets/controls",
            "_model_module_version": "1.5.0",
            "_model_name": "ToggleButtonModel",
            "_view_count": null,
            "_view_module": "@jupyter-widgets/controls",
            "_view_module_version": "1.5.0",
            "_view_name": "ToggleButtonView",
            "button_style": "",
            "description": "",
            "description_tooltip": null,
            "disabled": false,
            "icon": "globe",
            "layout": "IPY_MODEL_44b0a31c7bf14d34a82470ec1b9510b5",
            "style": "IPY_MODEL_625146c091b14afeaec9a0fe5a61de0d",
            "tooltip": "Search location/data",
            "value": false
          }
        },
        "057d2f340b3642a28f5d0d37280742bd": {
          "model_module": "@jupyter-widgets/base",
          "model_name": "LayoutModel",
          "model_module_version": "1.2.0",
          "state": {
            "_model_module": "@jupyter-widgets/base",
            "_model_module_version": "1.2.0",
            "_model_name": "LayoutModel",
            "_view_count": null,
            "_view_module": "@jupyter-widgets/base",
            "_view_module_version": "1.2.0",
            "_view_name": "LayoutView",
            "align_content": null,
            "align_items": null,
            "align_self": null,
            "border": null,
            "bottom": null,
            "display": null,
            "flex": null,
            "flex_flow": null,
            "grid_area": null,
            "grid_auto_columns": null,
            "grid_auto_flow": null,
            "grid_auto_rows": null,
            "grid_column": null,
            "grid_gap": null,
            "grid_row": null,
            "grid_template_areas": null,
            "grid_template_columns": null,
            "grid_template_rows": null,
            "height": null,
            "justify_content": null,
            "justify_items": null,
            "left": null,
            "margin": null,
            "max_height": null,
            "max_width": null,
            "min_height": null,
            "min_width": null,
            "object_fit": null,
            "object_position": null,
            "order": null,
            "overflow": null,
            "overflow_x": null,
            "overflow_y": null,
            "padding": null,
            "right": null,
            "top": null,
            "visibility": null,
            "width": null
          }
        },
        "f9e82e7dcf62447a925b7fb217686fab": {
          "model_module": "@jupyter-widgets/controls",
          "model_name": "ToggleButtonModel",
          "model_module_version": "1.5.0",
          "state": {
            "_dom_classes": [],
            "_model_module": "@jupyter-widgets/controls",
            "_model_module_version": "1.5.0",
            "_model_name": "ToggleButtonModel",
            "_view_count": null,
            "_view_module": "@jupyter-widgets/controls",
            "_view_module_version": "1.5.0",
            "_view_name": "ToggleButtonView",
            "button_style": "",
            "description": "",
            "description_tooltip": null,
            "disabled": false,
            "icon": "wrench",
            "layout": "IPY_MODEL_f529b10febb845e6a7fbfe421e259974",
            "style": "IPY_MODEL_163623d0a1d24570a297203e8b5b3923",
            "tooltip": "Toolbar",
            "value": false
          }
        },
        "422b1b348e564e6ea223a8fff4f93b66": {
          "model_module": "@jupyter-widgets/base",
          "model_name": "LayoutModel",
          "model_module_version": "1.2.0",
          "state": {
            "_model_module": "@jupyter-widgets/base",
            "_model_module_version": "1.2.0",
            "_model_name": "LayoutModel",
            "_view_count": null,
            "_view_module": "@jupyter-widgets/base",
            "_view_module_version": "1.2.0",
            "_view_name": "LayoutView",
            "align_content": null,
            "align_items": null,
            "align_self": null,
            "border": null,
            "bottom": null,
            "display": null,
            "flex": null,
            "flex_flow": null,
            "grid_area": null,
            "grid_auto_columns": null,
            "grid_auto_flow": null,
            "grid_auto_rows": null,
            "grid_column": null,
            "grid_gap": null,
            "grid_row": null,
            "grid_template_areas": null,
            "grid_template_columns": null,
            "grid_template_rows": null,
            "height": null,
            "justify_content": null,
            "justify_items": null,
            "left": null,
            "margin": null,
            "max_height": null,
            "max_width": null,
            "min_height": null,
            "min_width": null,
            "object_fit": null,
            "object_position": null,
            "order": null,
            "overflow": null,
            "overflow_x": null,
            "overflow_y": null,
            "padding": null,
            "right": null,
            "top": null,
            "visibility": null,
            "width": null
          }
        },
        "44b0a31c7bf14d34a82470ec1b9510b5": {
          "model_module": "@jupyter-widgets/base",
          "model_name": "LayoutModel",
          "model_module_version": "1.2.0",
          "state": {
            "_model_module": "@jupyter-widgets/base",
            "_model_module_version": "1.2.0",
            "_model_name": "LayoutModel",
            "_view_count": null,
            "_view_module": "@jupyter-widgets/base",
            "_view_module_version": "1.2.0",
            "_view_name": "LayoutView",
            "align_content": null,
            "align_items": null,
            "align_self": null,
            "border": null,
            "bottom": null,
            "display": null,
            "flex": null,
            "flex_flow": null,
            "grid_area": null,
            "grid_auto_columns": null,
            "grid_auto_flow": null,
            "grid_auto_rows": null,
            "grid_column": null,
            "grid_gap": null,
            "grid_row": null,
            "grid_template_areas": null,
            "grid_template_columns": null,
            "grid_template_rows": null,
            "height": "28px",
            "justify_content": null,
            "justify_items": null,
            "left": null,
            "margin": null,
            "max_height": null,
            "max_width": null,
            "min_height": null,
            "min_width": null,
            "object_fit": null,
            "object_position": null,
            "order": null,
            "overflow": null,
            "overflow_x": null,
            "overflow_y": null,
            "padding": "0px 0px 0px 4px",
            "right": null,
            "top": null,
            "visibility": null,
            "width": "28px"
          }
        },
        "625146c091b14afeaec9a0fe5a61de0d": {
          "model_module": "@jupyter-widgets/controls",
          "model_name": "DescriptionStyleModel",
          "model_module_version": "1.5.0",
          "state": {
            "_model_module": "@jupyter-widgets/controls",
            "_model_module_version": "1.5.0",
            "_model_name": "DescriptionStyleModel",
            "_view_count": null,
            "_view_module": "@jupyter-widgets/base",
            "_view_module_version": "1.2.0",
            "_view_name": "StyleView",
            "description_width": ""
          }
        },
        "f529b10febb845e6a7fbfe421e259974": {
          "model_module": "@jupyter-widgets/base",
          "model_name": "LayoutModel",
          "model_module_version": "1.2.0",
          "state": {
            "_model_module": "@jupyter-widgets/base",
            "_model_module_version": "1.2.0",
            "_model_name": "LayoutModel",
            "_view_count": null,
            "_view_module": "@jupyter-widgets/base",
            "_view_module_version": "1.2.0",
            "_view_name": "LayoutView",
            "align_content": null,
            "align_items": null,
            "align_self": null,
            "border": null,
            "bottom": null,
            "display": null,
            "flex": null,
            "flex_flow": null,
            "grid_area": null,
            "grid_auto_columns": null,
            "grid_auto_flow": null,
            "grid_auto_rows": null,
            "grid_column": null,
            "grid_gap": null,
            "grid_row": null,
            "grid_template_areas": null,
            "grid_template_columns": null,
            "grid_template_rows": null,
            "height": "28px",
            "justify_content": null,
            "justify_items": null,
            "left": null,
            "margin": null,
            "max_height": null,
            "max_width": null,
            "min_height": null,
            "min_width": null,
            "object_fit": null,
            "object_position": null,
            "order": null,
            "overflow": null,
            "overflow_x": null,
            "overflow_y": null,
            "padding": "0px 0px 0px 4px",
            "right": null,
            "top": null,
            "visibility": null,
            "width": "28px"
          }
        },
        "163623d0a1d24570a297203e8b5b3923": {
          "model_module": "@jupyter-widgets/controls",
          "model_name": "DescriptionStyleModel",
          "model_module_version": "1.5.0",
          "state": {
            "_model_module": "@jupyter-widgets/controls",
            "_model_module_version": "1.5.0",
            "_model_name": "DescriptionStyleModel",
            "_view_count": null,
            "_view_module": "@jupyter-widgets/base",
            "_view_module_version": "1.2.0",
            "_view_name": "StyleView",
            "description_width": ""
          }
        },
        "d146b511de2e47289c91738fe1394f3e": {
          "model_module": "jupyter-leaflet",
          "model_name": "LeafletTileLayerModel",
          "model_module_version": "^0.18",
          "state": {
            "_model_module": "jupyter-leaflet",
            "_model_module_version": "^0.18",
            "_model_name": "LeafletTileLayerModel",
            "_view_count": null,
            "_view_module": "jupyter-leaflet",
            "_view_module_version": "^0.18",
            "_view_name": "LeafletTileLayerView",
            "attribution": "Google Earth Engine",
            "base": false,
            "bottom": true,
            "bounds": null,
            "detect_retina": false,
            "loading": false,
            "max_native_zoom": null,
            "max_zoom": 24,
            "min_native_zoom": null,
            "min_zoom": 0,
            "name": "ROI",
            "no_wrap": false,
            "opacity": 1,
            "options": [
              "attribution",
              "bounds",
              "detect_retina",
              "max_native_zoom",
              "max_zoom",
              "min_native_zoom",
              "min_zoom",
              "no_wrap",
              "tile_size",
              "tms",
              "zoom_offset"
            ],
            "pane": "",
            "popup": null,
            "popup_max_height": null,
            "popup_max_width": 300,
            "popup_min_width": 50,
            "show_loading": false,
            "subitems": [],
            "tile_size": 256,
            "tms": false,
            "url": "https://earthengine.googleapis.com/v1/projects/earthengine-legacy/maps/d61c983042a04cf0643ac0b108456247-95d028dfca2fd0228f8e22c030165702/tiles/{z}/{x}/{y}",
            "visible": true,
            "zoom_offset": 0
          }
        },
        "082768304fbc4a7ba9c1104025ff8cb5": {
          "model_module": "jupyter-leaflet",
          "model_name": "LeafletTileLayerModel",
          "model_module_version": "^0.18",
          "state": {
            "_model_module": "jupyter-leaflet",
            "_model_module_version": "^0.18",
            "_model_name": "LeafletTileLayerModel",
            "_view_count": null,
            "_view_module": "jupyter-leaflet",
            "_view_module_version": "^0.18",
            "_view_name": "LeafletTileLayerView",
            "attribution": "Google Earth Engine",
            "base": false,
            "bottom": true,
            "bounds": null,
            "detect_retina": false,
            "loading": false,
            "max_native_zoom": null,
            "max_zoom": 24,
            "min_native_zoom": null,
            "min_zoom": 0,
            "name": "L9 Median NDVI",
            "no_wrap": false,
            "opacity": 1,
            "options": [
              "attribution",
              "bounds",
              "detect_retina",
              "max_native_zoom",
              "max_zoom",
              "min_native_zoom",
              "min_zoom",
              "no_wrap",
              "tile_size",
              "tms",
              "zoom_offset"
            ],
            "pane": "",
            "popup": null,
            "popup_max_height": null,
            "popup_max_width": 300,
            "popup_min_width": 50,
            "show_loading": false,
            "subitems": [],
            "tile_size": 256,
            "tms": false,
            "url": "https://earthengine.googleapis.com/v1/projects/earthengine-legacy/maps/53bb6d2547f620c15c729352345f9817-739d6dabe6f4aed9a6f5c65792b65be1/tiles/{z}/{x}/{y}",
            "visible": true,
            "zoom_offset": 0
          }
        },
        "fdb41565d6cd496ca231e98779e1c823": {
          "model_module": "jupyter-leaflet",
          "model_name": "LeafletTileLayerModel",
          "model_module_version": "^0.18",
          "state": {
            "_model_module": "jupyter-leaflet",
            "_model_module_version": "^0.18",
            "_model_name": "LeafletTileLayerModel",
            "_view_count": null,
            "_view_module": "jupyter-leaflet",
            "_view_module_version": "^0.18",
            "_view_name": "LeafletTileLayerView",
            "attribution": "Google Earth Engine",
            "base": false,
            "bottom": true,
            "bounds": null,
            "detect_retina": false,
            "loading": false,
            "max_native_zoom": null,
            "max_zoom": 24,
            "min_native_zoom": null,
            "min_zoom": 0,
            "name": "Mesh Grid",
            "no_wrap": false,
            "opacity": 1,
            "options": [
              "attribution",
              "bounds",
              "detect_retina",
              "max_native_zoom",
              "max_zoom",
              "min_native_zoom",
              "min_zoom",
              "no_wrap",
              "tile_size",
              "tms",
              "zoom_offset"
            ],
            "pane": "",
            "popup": null,
            "popup_max_height": null,
            "popup_max_width": 300,
            "popup_min_width": 50,
            "show_loading": false,
            "subitems": [],
            "tile_size": 256,
            "tms": false,
            "url": "https://earthengine.googleapis.com/v1/projects/earthengine-legacy/maps/afa4c2d7aa960d820faf6275059011cf-446338e6d67032d503529884310fce50/tiles/{z}/{x}/{y}",
            "visible": true,
            "zoom_offset": 0
          }
        },
        "78e6d5a3c19e4d0fa4f4d520e989a5ee": {
          "model_module": "@jupyter-widgets/controls",
          "model_name": "HBoxModel",
          "model_module_version": "1.5.0",
          "state": {
            "_dom_classes": [],
            "_model_module": "@jupyter-widgets/controls",
            "_model_module_version": "1.5.0",
            "_model_name": "HBoxModel",
            "_view_count": null,
            "_view_module": "@jupyter-widgets/controls",
            "_view_module_version": "1.5.0",
            "_view_name": "HBoxView",
            "box_style": "",
            "children": [
              "IPY_MODEL_12b5483d9716435d8fc75d0d5e471da0",
              "IPY_MODEL_bfb05cf8a6ba4d2c9320210f07c3e5a6",
              "IPY_MODEL_0de7a765594e489e94ddcd555b6af3f4"
            ],
            "layout": "IPY_MODEL_f529871ce08b4ef6b6fcc9fe361194af"
          }
        },
        "12b5483d9716435d8fc75d0d5e471da0": {
          "model_module": "@jupyter-widgets/controls",
          "model_name": "HTMLModel",
          "model_module_version": "1.5.0",
          "state": {
            "_dom_classes": [],
            "_model_module": "@jupyter-widgets/controls",
            "_model_module_version": "1.5.0",
            "_model_name": "HTMLModel",
            "_view_count": null,
            "_view_module": "@jupyter-widgets/controls",
            "_view_module_version": "1.5.0",
            "_view_name": "HTMLView",
            "description": "",
            "description_tooltip": null,
            "layout": "IPY_MODEL_2c854e9a053a48139b2f3a57152e04dc",
            "placeholder": "​",
            "style": "IPY_MODEL_0f3303a4c4b3442baf571040ca286e7a",
            "value": "Median_Indices_2022.tif: "
          }
        },
        "bfb05cf8a6ba4d2c9320210f07c3e5a6": {
          "model_module": "@jupyter-widgets/controls",
          "model_name": "FloatProgressModel",
          "model_module_version": "1.5.0",
          "state": {
            "_dom_classes": [],
            "_model_module": "@jupyter-widgets/controls",
            "_model_module_version": "1.5.0",
            "_model_name": "FloatProgressModel",
            "_view_count": null,
            "_view_module": "@jupyter-widgets/controls",
            "_view_module_version": "1.5.0",
            "_view_name": "ProgressView",
            "bar_style": "success",
            "description": "",
            "description_tooltip": null,
            "layout": "IPY_MODEL_9ba7c2dda5514e6ba2969e0566ff50d7",
            "max": 952374784,
            "min": 0,
            "orientation": "horizontal",
            "style": "IPY_MODEL_5df0ac03709a4d36970f1eaf2f6e4e6b",
            "value": 952374784
          }
        },
        "0de7a765594e489e94ddcd555b6af3f4": {
          "model_module": "@jupyter-widgets/controls",
          "model_name": "HTMLModel",
          "model_module_version": "1.5.0",
          "state": {
            "_dom_classes": [],
            "_model_module": "@jupyter-widgets/controls",
            "_model_module_version": "1.5.0",
            "_model_name": "HTMLModel",
            "_view_count": null,
            "_view_module": "@jupyter-widgets/controls",
            "_view_module_version": "1.5.0",
            "_view_name": "HTMLView",
            "description": "",
            "description_tooltip": null,
            "layout": "IPY_MODEL_bb35f32ed61944e2b591ad4111002984",
            "placeholder": "​",
            "style": "IPY_MODEL_ce85141d757740fab005ce3aeab9a659",
            "value": " 952M/952M (raw) [100.0%] in 03:00 (eta: 00:00)"
          }
        },
        "f529871ce08b4ef6b6fcc9fe361194af": {
          "model_module": "@jupyter-widgets/base",
          "model_name": "LayoutModel",
          "model_module_version": "1.2.0",
          "state": {
            "_model_module": "@jupyter-widgets/base",
            "_model_module_version": "1.2.0",
            "_model_name": "LayoutModel",
            "_view_count": null,
            "_view_module": "@jupyter-widgets/base",
            "_view_module_version": "1.2.0",
            "_view_name": "LayoutView",
            "align_content": null,
            "align_items": null,
            "align_self": null,
            "border": null,
            "bottom": null,
            "display": "inline-flex",
            "flex": null,
            "flex_flow": "row wrap",
            "grid_area": null,
            "grid_auto_columns": null,
            "grid_auto_flow": null,
            "grid_auto_rows": null,
            "grid_column": null,
            "grid_gap": null,
            "grid_row": null,
            "grid_template_areas": null,
            "grid_template_columns": null,
            "grid_template_rows": null,
            "height": null,
            "justify_content": null,
            "justify_items": null,
            "left": null,
            "margin": null,
            "max_height": null,
            "max_width": null,
            "min_height": null,
            "min_width": null,
            "object_fit": null,
            "object_position": null,
            "order": null,
            "overflow": null,
            "overflow_x": null,
            "overflow_y": null,
            "padding": null,
            "right": null,
            "top": null,
            "visibility": null,
            "width": "100%"
          }
        },
        "2c854e9a053a48139b2f3a57152e04dc": {
          "model_module": "@jupyter-widgets/base",
          "model_name": "LayoutModel",
          "model_module_version": "1.2.0",
          "state": {
            "_model_module": "@jupyter-widgets/base",
            "_model_module_version": "1.2.0",
            "_model_name": "LayoutModel",
            "_view_count": null,
            "_view_module": "@jupyter-widgets/base",
            "_view_module_version": "1.2.0",
            "_view_name": "LayoutView",
            "align_content": null,
            "align_items": null,
            "align_self": null,
            "border": null,
            "bottom": null,
            "display": null,
            "flex": null,
            "flex_flow": null,
            "grid_area": null,
            "grid_auto_columns": null,
            "grid_auto_flow": null,
            "grid_auto_rows": null,
            "grid_column": null,
            "grid_gap": null,
            "grid_row": null,
            "grid_template_areas": null,
            "grid_template_columns": null,
            "grid_template_rows": null,
            "height": null,
            "justify_content": null,
            "justify_items": null,
            "left": null,
            "margin": null,
            "max_height": null,
            "max_width": null,
            "min_height": null,
            "min_width": null,
            "object_fit": null,
            "object_position": null,
            "order": null,
            "overflow": null,
            "overflow_x": null,
            "overflow_y": null,
            "padding": null,
            "right": null,
            "top": null,
            "visibility": null,
            "width": null
          }
        },
        "0f3303a4c4b3442baf571040ca286e7a": {
          "model_module": "@jupyter-widgets/controls",
          "model_name": "DescriptionStyleModel",
          "model_module_version": "1.5.0",
          "state": {
            "_model_module": "@jupyter-widgets/controls",
            "_model_module_version": "1.5.0",
            "_model_name": "DescriptionStyleModel",
            "_view_count": null,
            "_view_module": "@jupyter-widgets/base",
            "_view_module_version": "1.2.0",
            "_view_name": "StyleView",
            "description_width": ""
          }
        },
        "9ba7c2dda5514e6ba2969e0566ff50d7": {
          "model_module": "@jupyter-widgets/base",
          "model_name": "LayoutModel",
          "model_module_version": "1.2.0",
          "state": {
            "_model_module": "@jupyter-widgets/base",
            "_model_module_version": "1.2.0",
            "_model_name": "LayoutModel",
            "_view_count": null,
            "_view_module": "@jupyter-widgets/base",
            "_view_module_version": "1.2.0",
            "_view_name": "LayoutView",
            "align_content": null,
            "align_items": null,
            "align_self": null,
            "border": null,
            "bottom": null,
            "display": null,
            "flex": "2",
            "flex_flow": null,
            "grid_area": null,
            "grid_auto_columns": null,
            "grid_auto_flow": null,
            "grid_auto_rows": null,
            "grid_column": null,
            "grid_gap": null,
            "grid_row": null,
            "grid_template_areas": null,
            "grid_template_columns": null,
            "grid_template_rows": null,
            "height": null,
            "justify_content": null,
            "justify_items": null,
            "left": null,
            "margin": null,
            "max_height": null,
            "max_width": null,
            "min_height": null,
            "min_width": null,
            "object_fit": null,
            "object_position": null,
            "order": null,
            "overflow": null,
            "overflow_x": null,
            "overflow_y": null,
            "padding": null,
            "right": null,
            "top": null,
            "visibility": null,
            "width": null
          }
        },
        "5df0ac03709a4d36970f1eaf2f6e4e6b": {
          "model_module": "@jupyter-widgets/controls",
          "model_name": "ProgressStyleModel",
          "model_module_version": "1.5.0",
          "state": {
            "_model_module": "@jupyter-widgets/controls",
            "_model_module_version": "1.5.0",
            "_model_name": "ProgressStyleModel",
            "_view_count": null,
            "_view_module": "@jupyter-widgets/base",
            "_view_module_version": "1.2.0",
            "_view_name": "StyleView",
            "bar_color": null,
            "description_width": ""
          }
        },
        "bb35f32ed61944e2b591ad4111002984": {
          "model_module": "@jupyter-widgets/base",
          "model_name": "LayoutModel",
          "model_module_version": "1.2.0",
          "state": {
            "_model_module": "@jupyter-widgets/base",
            "_model_module_version": "1.2.0",
            "_model_name": "LayoutModel",
            "_view_count": null,
            "_view_module": "@jupyter-widgets/base",
            "_view_module_version": "1.2.0",
            "_view_name": "LayoutView",
            "align_content": null,
            "align_items": null,
            "align_self": null,
            "border": null,
            "bottom": null,
            "display": null,
            "flex": null,
            "flex_flow": null,
            "grid_area": null,
            "grid_auto_columns": null,
            "grid_auto_flow": null,
            "grid_auto_rows": null,
            "grid_column": null,
            "grid_gap": null,
            "grid_row": null,
            "grid_template_areas": null,
            "grid_template_columns": null,
            "grid_template_rows": null,
            "height": null,
            "justify_content": null,
            "justify_items": null,
            "left": null,
            "margin": null,
            "max_height": null,
            "max_width": null,
            "min_height": null,
            "min_width": null,
            "object_fit": null,
            "object_position": null,
            "order": null,
            "overflow": null,
            "overflow_x": null,
            "overflow_y": null,
            "padding": null,
            "right": null,
            "top": null,
            "visibility": null,
            "width": null
          }
        },
        "ce85141d757740fab005ce3aeab9a659": {
          "model_module": "@jupyter-widgets/controls",
          "model_name": "DescriptionStyleModel",
          "model_module_version": "1.5.0",
          "state": {
            "_model_module": "@jupyter-widgets/controls",
            "_model_module_version": "1.5.0",
            "_model_name": "DescriptionStyleModel",
            "_view_count": null,
            "_view_module": "@jupyter-widgets/base",
            "_view_module_version": "1.2.0",
            "_view_name": "StyleView",
            "description_width": ""
          }
        },
        "b6f95862fb2b46ee9434f9683cea279e": {
          "model_module": "@jupyter-widgets/controls",
          "model_name": "HBoxModel",
          "model_module_version": "1.5.0",
          "state": {
            "_dom_classes": [],
            "_model_module": "@jupyter-widgets/controls",
            "_model_module_version": "1.5.0",
            "_model_name": "HBoxModel",
            "_view_count": null,
            "_view_module": "@jupyter-widgets/controls",
            "_view_module_version": "1.5.0",
            "_view_name": "HBoxView",
            "box_style": "",
            "children": [
              "IPY_MODEL_4abc7204e00747a494eb601d3c6775e0",
              "IPY_MODEL_7191b33441c243709bbc4a424b8c4090",
              "IPY_MODEL_7c5ac1bc7ad64a6097f5fad3bc321e98"
            ],
            "layout": "IPY_MODEL_2b731bfcfdcd47d8839490d1fdb4d1cb"
          }
        },
        "4abc7204e00747a494eb601d3c6775e0": {
          "model_module": "@jupyter-widgets/controls",
          "model_name": "HTMLModel",
          "model_module_version": "1.5.0",
          "state": {
            "_dom_classes": [],
            "_model_module": "@jupyter-widgets/controls",
            "_model_module_version": "1.5.0",
            "_model_name": "HTMLModel",
            "_view_count": null,
            "_view_module": "@jupyter-widgets/controls",
            "_view_module_version": "1.5.0",
            "_view_name": "HTMLView",
            "description": "",
            "description_tooltip": null,
            "layout": "IPY_MODEL_3b8d39c9654241bdb27db0afb09155d1",
            "placeholder": "​",
            "style": "IPY_MODEL_534c8f3a541543c3a9faf223f20646c6",
            "value": "Median_Indices_2022_1.tif: "
          }
        },
        "7191b33441c243709bbc4a424b8c4090": {
          "model_module": "@jupyter-widgets/controls",
          "model_name": "FloatProgressModel",
          "model_module_version": "1.5.0",
          "state": {
            "_dom_classes": [],
            "_model_module": "@jupyter-widgets/controls",
            "_model_module_version": "1.5.0",
            "_model_name": "FloatProgressModel",
            "_view_count": null,
            "_view_module": "@jupyter-widgets/controls",
            "_view_module_version": "1.5.0",
            "_view_name": "ProgressView",
            "bar_style": "success",
            "description": "",
            "description_tooltip": null,
            "layout": "IPY_MODEL_f11b2e63806f48e08807458470a6ea5a",
            "max": 238086912,
            "min": 0,
            "orientation": "horizontal",
            "style": "IPY_MODEL_22d5f253b19a4d3c8a5f1238620edfa9",
            "value": 238086912
          }
        },
        "7c5ac1bc7ad64a6097f5fad3bc321e98": {
          "model_module": "@jupyter-widgets/controls",
          "model_name": "HTMLModel",
          "model_module_version": "1.5.0",
          "state": {
            "_dom_classes": [],
            "_model_module": "@jupyter-widgets/controls",
            "_model_module_version": "1.5.0",
            "_model_name": "HTMLModel",
            "_view_count": null,
            "_view_module": "@jupyter-widgets/controls",
            "_view_module_version": "1.5.0",
            "_view_name": "HTMLView",
            "description": "",
            "description_tooltip": null,
            "layout": "IPY_MODEL_2ba9c97265fa4250ad424349aea7ddcf",
            "placeholder": "​",
            "style": "IPY_MODEL_4591fabbbb1140128538f9f03c375729",
            "value": " 238M/238M (raw) [100.0%] in 01:07 (eta: 00:00)"
          }
        },
        "2b731bfcfdcd47d8839490d1fdb4d1cb": {
          "model_module": "@jupyter-widgets/base",
          "model_name": "LayoutModel",
          "model_module_version": "1.2.0",
          "state": {
            "_model_module": "@jupyter-widgets/base",
            "_model_module_version": "1.2.0",
            "_model_name": "LayoutModel",
            "_view_count": null,
            "_view_module": "@jupyter-widgets/base",
            "_view_module_version": "1.2.0",
            "_view_name": "LayoutView",
            "align_content": null,
            "align_items": null,
            "align_self": null,
            "border": null,
            "bottom": null,
            "display": "inline-flex",
            "flex": null,
            "flex_flow": "row wrap",
            "grid_area": null,
            "grid_auto_columns": null,
            "grid_auto_flow": null,
            "grid_auto_rows": null,
            "grid_column": null,
            "grid_gap": null,
            "grid_row": null,
            "grid_template_areas": null,
            "grid_template_columns": null,
            "grid_template_rows": null,
            "height": null,
            "justify_content": null,
            "justify_items": null,
            "left": null,
            "margin": null,
            "max_height": null,
            "max_width": null,
            "min_height": null,
            "min_width": null,
            "object_fit": null,
            "object_position": null,
            "order": null,
            "overflow": null,
            "overflow_x": null,
            "overflow_y": null,
            "padding": null,
            "right": null,
            "top": null,
            "visibility": null,
            "width": "100%"
          }
        },
        "3b8d39c9654241bdb27db0afb09155d1": {
          "model_module": "@jupyter-widgets/base",
          "model_name": "LayoutModel",
          "model_module_version": "1.2.0",
          "state": {
            "_model_module": "@jupyter-widgets/base",
            "_model_module_version": "1.2.0",
            "_model_name": "LayoutModel",
            "_view_count": null,
            "_view_module": "@jupyter-widgets/base",
            "_view_module_version": "1.2.0",
            "_view_name": "LayoutView",
            "align_content": null,
            "align_items": null,
            "align_self": null,
            "border": null,
            "bottom": null,
            "display": null,
            "flex": null,
            "flex_flow": null,
            "grid_area": null,
            "grid_auto_columns": null,
            "grid_auto_flow": null,
            "grid_auto_rows": null,
            "grid_column": null,
            "grid_gap": null,
            "grid_row": null,
            "grid_template_areas": null,
            "grid_template_columns": null,
            "grid_template_rows": null,
            "height": null,
            "justify_content": null,
            "justify_items": null,
            "left": null,
            "margin": null,
            "max_height": null,
            "max_width": null,
            "min_height": null,
            "min_width": null,
            "object_fit": null,
            "object_position": null,
            "order": null,
            "overflow": null,
            "overflow_x": null,
            "overflow_y": null,
            "padding": null,
            "right": null,
            "top": null,
            "visibility": null,
            "width": null
          }
        },
        "534c8f3a541543c3a9faf223f20646c6": {
          "model_module": "@jupyter-widgets/controls",
          "model_name": "DescriptionStyleModel",
          "model_module_version": "1.5.0",
          "state": {
            "_model_module": "@jupyter-widgets/controls",
            "_model_module_version": "1.5.0",
            "_model_name": "DescriptionStyleModel",
            "_view_count": null,
            "_view_module": "@jupyter-widgets/base",
            "_view_module_version": "1.2.0",
            "_view_name": "StyleView",
            "description_width": ""
          }
        },
        "f11b2e63806f48e08807458470a6ea5a": {
          "model_module": "@jupyter-widgets/base",
          "model_name": "LayoutModel",
          "model_module_version": "1.2.0",
          "state": {
            "_model_module": "@jupyter-widgets/base",
            "_model_module_version": "1.2.0",
            "_model_name": "LayoutModel",
            "_view_count": null,
            "_view_module": "@jupyter-widgets/base",
            "_view_module_version": "1.2.0",
            "_view_name": "LayoutView",
            "align_content": null,
            "align_items": null,
            "align_self": null,
            "border": null,
            "bottom": null,
            "display": null,
            "flex": "2",
            "flex_flow": null,
            "grid_area": null,
            "grid_auto_columns": null,
            "grid_auto_flow": null,
            "grid_auto_rows": null,
            "grid_column": null,
            "grid_gap": null,
            "grid_row": null,
            "grid_template_areas": null,
            "grid_template_columns": null,
            "grid_template_rows": null,
            "height": null,
            "justify_content": null,
            "justify_items": null,
            "left": null,
            "margin": null,
            "max_height": null,
            "max_width": null,
            "min_height": null,
            "min_width": null,
            "object_fit": null,
            "object_position": null,
            "order": null,
            "overflow": null,
            "overflow_x": null,
            "overflow_y": null,
            "padding": null,
            "right": null,
            "top": null,
            "visibility": null,
            "width": null
          }
        },
        "22d5f253b19a4d3c8a5f1238620edfa9": {
          "model_module": "@jupyter-widgets/controls",
          "model_name": "ProgressStyleModel",
          "model_module_version": "1.5.0",
          "state": {
            "_model_module": "@jupyter-widgets/controls",
            "_model_module_version": "1.5.0",
            "_model_name": "ProgressStyleModel",
            "_view_count": null,
            "_view_module": "@jupyter-widgets/base",
            "_view_module_version": "1.2.0",
            "_view_name": "StyleView",
            "bar_color": null,
            "description_width": ""
          }
        },
        "2ba9c97265fa4250ad424349aea7ddcf": {
          "model_module": "@jupyter-widgets/base",
          "model_name": "LayoutModel",
          "model_module_version": "1.2.0",
          "state": {
            "_model_module": "@jupyter-widgets/base",
            "_model_module_version": "1.2.0",
            "_model_name": "LayoutModel",
            "_view_count": null,
            "_view_module": "@jupyter-widgets/base",
            "_view_module_version": "1.2.0",
            "_view_name": "LayoutView",
            "align_content": null,
            "align_items": null,
            "align_self": null,
            "border": null,
            "bottom": null,
            "display": null,
            "flex": null,
            "flex_flow": null,
            "grid_area": null,
            "grid_auto_columns": null,
            "grid_auto_flow": null,
            "grid_auto_rows": null,
            "grid_column": null,
            "grid_gap": null,
            "grid_row": null,
            "grid_template_areas": null,
            "grid_template_columns": null,
            "grid_template_rows": null,
            "height": null,
            "justify_content": null,
            "justify_items": null,
            "left": null,
            "margin": null,
            "max_height": null,
            "max_width": null,
            "min_height": null,
            "min_width": null,
            "object_fit": null,
            "object_position": null,
            "order": null,
            "overflow": null,
            "overflow_x": null,
            "overflow_y": null,
            "padding": null,
            "right": null,
            "top": null,
            "visibility": null,
            "width": null
          }
        },
        "4591fabbbb1140128538f9f03c375729": {
          "model_module": "@jupyter-widgets/controls",
          "model_name": "DescriptionStyleModel",
          "model_module_version": "1.5.0",
          "state": {
            "_model_module": "@jupyter-widgets/controls",
            "_model_module_version": "1.5.0",
            "_model_name": "DescriptionStyleModel",
            "_view_count": null,
            "_view_module": "@jupyter-widgets/base",
            "_view_module_version": "1.2.0",
            "_view_name": "StyleView",
            "description_width": ""
          }
        },
        "7347c40cf2c749e68851d029ade7c553": {
          "model_module": "@jupyter-widgets/base",
          "model_name": "LayoutModel",
          "model_module_version": "1.2.0",
          "state": {
            "_model_module": "@jupyter-widgets/base",
            "_model_module_version": "1.2.0",
            "_model_name": "LayoutModel",
            "_view_count": null,
            "_view_module": "@jupyter-widgets/base",
            "_view_module_version": "1.2.0",
            "_view_name": "LayoutView",
            "align_content": null,
            "align_items": null,
            "align_self": null,
            "border": null,
            "bottom": null,
            "display": null,
            "flex": "2",
            "flex_flow": null,
            "grid_area": null,
            "grid_auto_columns": null,
            "grid_auto_flow": null,
            "grid_auto_rows": null,
            "grid_column": null,
            "grid_gap": null,
            "grid_row": null,
            "grid_template_areas": null,
            "grid_template_columns": null,
            "grid_template_rows": null,
            "height": null,
            "justify_content": null,
            "justify_items": null,
            "left": null,
            "margin": null,
            "max_height": null,
            "max_width": null,
            "min_height": null,
            "min_width": null,
            "object_fit": null,
            "object_position": null,
            "order": null,
            "overflow": null,
            "overflow_x": null,
            "overflow_y": null,
            "padding": null,
            "right": null,
            "top": null,
            "visibility": null,
            "width": null
          }
        },
        "2173c4c33cc84b77b36ee47858aebfe1": {
          "model_module": "@jupyter-widgets/controls",
          "model_name": "ProgressStyleModel",
          "model_module_version": "1.5.0",
          "state": {
            "_model_module": "@jupyter-widgets/controls",
            "_model_module_version": "1.5.0",
            "_model_name": "ProgressStyleModel",
            "_view_count": null,
            "_view_module": "@jupyter-widgets/base",
            "_view_module_version": "1.2.0",
            "_view_name": "StyleView",
            "bar_color": null,
            "description_width": ""
          }
        },
        "acf813a7d5c144e88679a84fe1d746ef": {
          "model_module": "@jupyter-widgets/base",
          "model_name": "LayoutModel",
          "model_module_version": "1.2.0",
          "state": {
            "_model_module": "@jupyter-widgets/base",
            "_model_module_version": "1.2.0",
            "_model_name": "LayoutModel",
            "_view_count": null,
            "_view_module": "@jupyter-widgets/base",
            "_view_module_version": "1.2.0",
            "_view_name": "LayoutView",
            "align_content": null,
            "align_items": null,
            "align_self": null,
            "border": null,
            "bottom": null,
            "display": null,
            "flex": null,
            "flex_flow": null,
            "grid_area": null,
            "grid_auto_columns": null,
            "grid_auto_flow": null,
            "grid_auto_rows": null,
            "grid_column": null,
            "grid_gap": null,
            "grid_row": null,
            "grid_template_areas": null,
            "grid_template_columns": null,
            "grid_template_rows": null,
            "height": null,
            "justify_content": null,
            "justify_items": null,
            "left": null,
            "margin": null,
            "max_height": null,
            "max_width": null,
            "min_height": null,
            "min_width": null,
            "object_fit": null,
            "object_position": null,
            "order": null,
            "overflow": null,
            "overflow_x": null,
            "overflow_y": null,
            "padding": null,
            "right": null,
            "top": null,
            "visibility": null,
            "width": null
          }
        },
        "cec96e00778d46fbb8d9c08305b18ce8": {
          "model_module": "@jupyter-widgets/controls",
          "model_name": "DescriptionStyleModel",
          "model_module_version": "1.5.0",
          "state": {
            "_model_module": "@jupyter-widgets/controls",
            "_model_module_version": "1.5.0",
            "_model_name": "DescriptionStyleModel",
            "_view_count": null,
            "_view_module": "@jupyter-widgets/base",
            "_view_module_version": "1.2.0",
            "_view_name": "StyleView",
            "description_width": ""
          }
        },
        "0ca50f2d9eab4099a3215d46d03e89ca": {
          "model_module": "@jupyter-widgets/base",
          "model_name": "LayoutModel",
          "model_module_version": "1.2.0",
          "state": {
            "_model_module": "@jupyter-widgets/base",
            "_model_module_version": "1.2.0",
            "_model_name": "LayoutModel",
            "_view_count": null,
            "_view_module": "@jupyter-widgets/base",
            "_view_module_version": "1.2.0",
            "_view_name": "LayoutView",
            "align_content": null,
            "align_items": null,
            "align_self": null,
            "border": null,
            "bottom": null,
            "display": null,
            "flex": null,
            "flex_flow": null,
            "grid_area": null,
            "grid_auto_columns": null,
            "grid_auto_flow": null,
            "grid_auto_rows": null,
            "grid_column": null,
            "grid_gap": null,
            "grid_row": null,
            "grid_template_areas": null,
            "grid_template_columns": null,
            "grid_template_rows": null,
            "height": null,
            "justify_content": null,
            "justify_items": null,
            "left": null,
            "margin": null,
            "max_height": null,
            "max_width": null,
            "min_height": null,
            "min_width": null,
            "object_fit": null,
            "object_position": null,
            "order": null,
            "overflow": null,
            "overflow_x": null,
            "overflow_y": null,
            "padding": null,
            "right": null,
            "top": null,
            "visibility": null,
            "width": null
          }
        },
        "fd6c5d312825494482f46715f64fdebd": {
          "model_module": "@jupyter-widgets/controls",
          "model_name": "DescriptionStyleModel",
          "model_module_version": "1.5.0",
          "state": {
            "_model_module": "@jupyter-widgets/controls",
            "_model_module_version": "1.5.0",
            "_model_name": "DescriptionStyleModel",
            "_view_count": null,
            "_view_module": "@jupyter-widgets/base",
            "_view_module_version": "1.2.0",
            "_view_name": "StyleView",
            "description_width": ""
          }
        },
        "2c7dccccebf146f891ade2b83059c1fa": {
          "model_module": "@jupyter-widgets/controls",
          "model_name": "HTMLModel",
          "model_module_version": "1.5.0",
          "state": {
            "_dom_classes": [],
            "_model_module": "@jupyter-widgets/controls",
            "_model_module_version": "1.5.0",
            "_model_name": "HTMLModel",
            "_view_count": null,
            "_view_module": "@jupyter-widgets/controls",
            "_view_module_version": "1.5.0",
            "_view_name": "HTMLView",
            "description": "",
            "description_tooltip": null,
            "layout": "IPY_MODEL_acf813a7d5c144e88679a84fe1d746ef",
            "placeholder": "​",
            "style": "IPY_MODEL_cec96e00778d46fbb8d9c08305b18ce8",
            "value": "Median_Indices_2022_2.tif: "
          }
        },
        "224293e188e44ed9b47652c2415adf4c": {
          "model_module": "@jupyter-widgets/controls",
          "model_name": "FloatProgressModel",
          "model_module_version": "1.5.0",
          "state": {
            "_dom_classes": [],
            "_model_module": "@jupyter-widgets/controls",
            "_model_module_version": "1.5.0",
            "_model_name": "FloatProgressModel",
            "_view_count": null,
            "_view_module": "@jupyter-widgets/controls",
            "_view_module_version": "1.5.0",
            "_view_name": "ProgressView",
            "bar_style": "success",
            "description": "",
            "description_tooltip": null,
            "layout": "IPY_MODEL_7347c40cf2c749e68851d029ade7c553",
            "max": 238835200,
            "min": 0,
            "orientation": "horizontal",
            "style": "IPY_MODEL_2173c4c33cc84b77b36ee47858aebfe1",
            "value": 238835200
          }
        },
        "44043d51897b44d8a73b39b589f0dc7b": {
          "model_module": "@jupyter-widgets/controls",
          "model_name": "HTMLModel",
          "model_module_version": "1.5.0",
          "state": {
            "_dom_classes": [],
            "_model_module": "@jupyter-widgets/controls",
            "_model_module_version": "1.5.0",
            "_model_name": "HTMLModel",
            "_view_count": null,
            "_view_module": "@jupyter-widgets/controls",
            "_view_module_version": "1.5.0",
            "_view_name": "HTMLView",
            "description": "",
            "description_tooltip": null,
            "layout": "IPY_MODEL_0ca50f2d9eab4099a3215d46d03e89ca",
            "placeholder": "​",
            "style": "IPY_MODEL_fd6c5d312825494482f46715f64fdebd",
            "value": " 239M/239M (raw) [100.0%] in 00:42 (eta: 00:00)"
          }
        },
        "e14a832eee834959b875debe8f1611c5": {
          "model_module": "@jupyter-widgets/base",
          "model_name": "LayoutModel",
          "model_module_version": "1.2.0",
          "state": {
            "_model_module": "@jupyter-widgets/base",
            "_model_module_version": "1.2.0",
            "_model_name": "LayoutModel",
            "_view_count": null,
            "_view_module": "@jupyter-widgets/base",
            "_view_module_version": "1.2.0",
            "_view_name": "LayoutView",
            "align_content": null,
            "align_items": null,
            "align_self": null,
            "border": null,
            "bottom": null,
            "display": "inline-flex",
            "flex": null,
            "flex_flow": "row wrap",
            "grid_area": null,
            "grid_auto_columns": null,
            "grid_auto_flow": null,
            "grid_auto_rows": null,
            "grid_column": null,
            "grid_gap": null,
            "grid_row": null,
            "grid_template_areas": null,
            "grid_template_columns": null,
            "grid_template_rows": null,
            "height": null,
            "justify_content": null,
            "justify_items": null,
            "left": null,
            "margin": null,
            "max_height": null,
            "max_width": null,
            "min_height": null,
            "min_width": null,
            "object_fit": null,
            "object_position": null,
            "order": null,
            "overflow": null,
            "overflow_x": null,
            "overflow_y": null,
            "padding": null,
            "right": null,
            "top": null,
            "visibility": null,
            "width": "100%"
          }
        },
        "99892987244247fcb6913473995f7139": {
          "model_module": "@jupyter-widgets/controls",
          "model_name": "HBoxModel",
          "model_module_version": "1.5.0",
          "state": {
            "_dom_classes": [],
            "_model_module": "@jupyter-widgets/controls",
            "_model_module_version": "1.5.0",
            "_model_name": "HBoxModel",
            "_view_count": null,
            "_view_module": "@jupyter-widgets/controls",
            "_view_module_version": "1.5.0",
            "_view_name": "HBoxView",
            "box_style": "",
            "children": [
              "IPY_MODEL_2c7dccccebf146f891ade2b83059c1fa",
              "IPY_MODEL_224293e188e44ed9b47652c2415adf4c",
              "IPY_MODEL_44043d51897b44d8a73b39b589f0dc7b"
            ],
            "layout": "IPY_MODEL_e14a832eee834959b875debe8f1611c5"
          }
        },
        "b4e88e23c12e4256912ce07dd32eff2c": {
          "model_module": "@jupyter-widgets/base",
          "model_name": "LayoutModel",
          "model_module_version": "1.2.0",
          "state": {
            "_model_module": "@jupyter-widgets/base",
            "_model_module_version": "1.2.0",
            "_model_name": "LayoutModel",
            "_view_count": null,
            "_view_module": "@jupyter-widgets/base",
            "_view_module_version": "1.2.0",
            "_view_name": "LayoutView",
            "align_content": null,
            "align_items": null,
            "align_self": null,
            "border": null,
            "bottom": null,
            "display": null,
            "flex": "2",
            "flex_flow": null,
            "grid_area": null,
            "grid_auto_columns": null,
            "grid_auto_flow": null,
            "grid_auto_rows": null,
            "grid_column": null,
            "grid_gap": null,
            "grid_row": null,
            "grid_template_areas": null,
            "grid_template_columns": null,
            "grid_template_rows": null,
            "height": null,
            "justify_content": null,
            "justify_items": null,
            "left": null,
            "margin": null,
            "max_height": null,
            "max_width": null,
            "min_height": null,
            "min_width": null,
            "object_fit": null,
            "object_position": null,
            "order": null,
            "overflow": null,
            "overflow_x": null,
            "overflow_y": null,
            "padding": null,
            "right": null,
            "top": null,
            "visibility": null,
            "width": null
          }
        },
        "cb441c5a492b47d4930df43fc62db27b": {
          "model_module": "@jupyter-widgets/controls",
          "model_name": "ProgressStyleModel",
          "model_module_version": "1.5.0",
          "state": {
            "_model_module": "@jupyter-widgets/controls",
            "_model_module_version": "1.5.0",
            "_model_name": "ProgressStyleModel",
            "_view_count": null,
            "_view_module": "@jupyter-widgets/base",
            "_view_module_version": "1.2.0",
            "_view_name": "StyleView",
            "bar_color": null,
            "description_width": ""
          }
        },
        "30dcec8c51534a04a7a220003a8e5025": {
          "model_module": "@jupyter-widgets/base",
          "model_name": "LayoutModel",
          "model_module_version": "1.2.0",
          "state": {
            "_model_module": "@jupyter-widgets/base",
            "_model_module_version": "1.2.0",
            "_model_name": "LayoutModel",
            "_view_count": null,
            "_view_module": "@jupyter-widgets/base",
            "_view_module_version": "1.2.0",
            "_view_name": "LayoutView",
            "align_content": null,
            "align_items": null,
            "align_self": null,
            "border": null,
            "bottom": null,
            "display": null,
            "flex": null,
            "flex_flow": null,
            "grid_area": null,
            "grid_auto_columns": null,
            "grid_auto_flow": null,
            "grid_auto_rows": null,
            "grid_column": null,
            "grid_gap": null,
            "grid_row": null,
            "grid_template_areas": null,
            "grid_template_columns": null,
            "grid_template_rows": null,
            "height": null,
            "justify_content": null,
            "justify_items": null,
            "left": null,
            "margin": null,
            "max_height": null,
            "max_width": null,
            "min_height": null,
            "min_width": null,
            "object_fit": null,
            "object_position": null,
            "order": null,
            "overflow": null,
            "overflow_x": null,
            "overflow_y": null,
            "padding": null,
            "right": null,
            "top": null,
            "visibility": null,
            "width": null
          }
        },
        "297c032db6fc4c03bf4c52996f71dc91": {
          "model_module": "@jupyter-widgets/controls",
          "model_name": "DescriptionStyleModel",
          "model_module_version": "1.5.0",
          "state": {
            "_model_module": "@jupyter-widgets/controls",
            "_model_module_version": "1.5.0",
            "_model_name": "DescriptionStyleModel",
            "_view_count": null,
            "_view_module": "@jupyter-widgets/base",
            "_view_module_version": "1.2.0",
            "_view_name": "StyleView",
            "description_width": ""
          }
        },
        "4947659d336d4d3ca20edea8c8cc6e4d": {
          "model_module": "@jupyter-widgets/base",
          "model_name": "LayoutModel",
          "model_module_version": "1.2.0",
          "state": {
            "_model_module": "@jupyter-widgets/base",
            "_model_module_version": "1.2.0",
            "_model_name": "LayoutModel",
            "_view_count": null,
            "_view_module": "@jupyter-widgets/base",
            "_view_module_version": "1.2.0",
            "_view_name": "LayoutView",
            "align_content": null,
            "align_items": null,
            "align_self": null,
            "border": null,
            "bottom": null,
            "display": null,
            "flex": null,
            "flex_flow": null,
            "grid_area": null,
            "grid_auto_columns": null,
            "grid_auto_flow": null,
            "grid_auto_rows": null,
            "grid_column": null,
            "grid_gap": null,
            "grid_row": null,
            "grid_template_areas": null,
            "grid_template_columns": null,
            "grid_template_rows": null,
            "height": null,
            "justify_content": null,
            "justify_items": null,
            "left": null,
            "margin": null,
            "max_height": null,
            "max_width": null,
            "min_height": null,
            "min_width": null,
            "object_fit": null,
            "object_position": null,
            "order": null,
            "overflow": null,
            "overflow_x": null,
            "overflow_y": null,
            "padding": null,
            "right": null,
            "top": null,
            "visibility": null,
            "width": null
          }
        },
        "7a0c8678f1264fdd8fc9d2d1176aa362": {
          "model_module": "@jupyter-widgets/controls",
          "model_name": "DescriptionStyleModel",
          "model_module_version": "1.5.0",
          "state": {
            "_model_module": "@jupyter-widgets/controls",
            "_model_module_version": "1.5.0",
            "_model_name": "DescriptionStyleModel",
            "_view_count": null,
            "_view_module": "@jupyter-widgets/base",
            "_view_module_version": "1.2.0",
            "_view_name": "StyleView",
            "description_width": ""
          }
        },
        "46dd069111374266b1e5d2a58568b7b9": {
          "model_module": "@jupyter-widgets/controls",
          "model_name": "HTMLModel",
          "model_module_version": "1.5.0",
          "state": {
            "_dom_classes": [],
            "_model_module": "@jupyter-widgets/controls",
            "_model_module_version": "1.5.0",
            "_model_name": "HTMLModel",
            "_view_count": null,
            "_view_module": "@jupyter-widgets/controls",
            "_view_module_version": "1.5.0",
            "_view_name": "HTMLView",
            "description": "",
            "description_tooltip": null,
            "layout": "IPY_MODEL_30dcec8c51534a04a7a220003a8e5025",
            "placeholder": "​",
            "style": "IPY_MODEL_297c032db6fc4c03bf4c52996f71dc91",
            "value": "Median_Indices_2022_3.tif: "
          }
        },
        "31a5ac368301435f89bb15cf1ae23059": {
          "model_module": "@jupyter-widgets/controls",
          "model_name": "FloatProgressModel",
          "model_module_version": "1.5.0",
          "state": {
            "_dom_classes": [],
            "_model_module": "@jupyter-widgets/controls",
            "_model_module_version": "1.5.0",
            "_model_name": "FloatProgressModel",
            "_view_count": null,
            "_view_module": "@jupyter-widgets/controls",
            "_view_module_version": "1.5.0",
            "_view_name": "ProgressView",
            "bar_style": "success",
            "description": "",
            "description_tooltip": null,
            "layout": "IPY_MODEL_b4e88e23c12e4256912ce07dd32eff2c",
            "max": 237126400,
            "min": 0,
            "orientation": "horizontal",
            "style": "IPY_MODEL_cb441c5a492b47d4930df43fc62db27b",
            "value": 237126400
          }
        },
        "b54f81d877d643719426a1503be72211": {
          "model_module": "@jupyter-widgets/controls",
          "model_name": "HTMLModel",
          "model_module_version": "1.5.0",
          "state": {
            "_dom_classes": [],
            "_model_module": "@jupyter-widgets/controls",
            "_model_module_version": "1.5.0",
            "_model_name": "HTMLModel",
            "_view_count": null,
            "_view_module": "@jupyter-widgets/controls",
            "_view_module_version": "1.5.0",
            "_view_name": "HTMLView",
            "description": "",
            "description_tooltip": null,
            "layout": "IPY_MODEL_4947659d336d4d3ca20edea8c8cc6e4d",
            "placeholder": "​",
            "style": "IPY_MODEL_7a0c8678f1264fdd8fc9d2d1176aa362",
            "value": " 237M/237M (raw) [100.0%] in 01:19 (eta: 00:00)"
          }
        },
        "30fdc48b97e748558893a4be307bb848": {
          "model_module": "@jupyter-widgets/base",
          "model_name": "LayoutModel",
          "model_module_version": "1.2.0",
          "state": {
            "_model_module": "@jupyter-widgets/base",
            "_model_module_version": "1.2.0",
            "_model_name": "LayoutModel",
            "_view_count": null,
            "_view_module": "@jupyter-widgets/base",
            "_view_module_version": "1.2.0",
            "_view_name": "LayoutView",
            "align_content": null,
            "align_items": null,
            "align_self": null,
            "border": null,
            "bottom": null,
            "display": "inline-flex",
            "flex": null,
            "flex_flow": "row wrap",
            "grid_area": null,
            "grid_auto_columns": null,
            "grid_auto_flow": null,
            "grid_auto_rows": null,
            "grid_column": null,
            "grid_gap": null,
            "grid_row": null,
            "grid_template_areas": null,
            "grid_template_columns": null,
            "grid_template_rows": null,
            "height": null,
            "justify_content": null,
            "justify_items": null,
            "left": null,
            "margin": null,
            "max_height": null,
            "max_width": null,
            "min_height": null,
            "min_width": null,
            "object_fit": null,
            "object_position": null,
            "order": null,
            "overflow": null,
            "overflow_x": null,
            "overflow_y": null,
            "padding": null,
            "right": null,
            "top": null,
            "visibility": null,
            "width": "100%"
          }
        },
        "3af11acd9c0b421ab4da83ffd83c894e": {
          "model_module": "@jupyter-widgets/controls",
          "model_name": "HBoxModel",
          "model_module_version": "1.5.0",
          "state": {
            "_dom_classes": [],
            "_model_module": "@jupyter-widgets/controls",
            "_model_module_version": "1.5.0",
            "_model_name": "HBoxModel",
            "_view_count": null,
            "_view_module": "@jupyter-widgets/controls",
            "_view_module_version": "1.5.0",
            "_view_name": "HBoxView",
            "box_style": "",
            "children": [
              "IPY_MODEL_46dd069111374266b1e5d2a58568b7b9",
              "IPY_MODEL_31a5ac368301435f89bb15cf1ae23059",
              "IPY_MODEL_b54f81d877d643719426a1503be72211"
            ],
            "layout": "IPY_MODEL_30fdc48b97e748558893a4be307bb848"
          }
        },
        "d9c93ace142a4169981ebdfac06826e2": {
          "model_module": "@jupyter-widgets/base",
          "model_name": "LayoutModel",
          "model_module_version": "1.2.0",
          "state": {
            "_model_module": "@jupyter-widgets/base",
            "_model_module_version": "1.2.0",
            "_model_name": "LayoutModel",
            "_view_count": null,
            "_view_module": "@jupyter-widgets/base",
            "_view_module_version": "1.2.0",
            "_view_name": "LayoutView",
            "align_content": null,
            "align_items": null,
            "align_self": null,
            "border": null,
            "bottom": null,
            "display": null,
            "flex": "2",
            "flex_flow": null,
            "grid_area": null,
            "grid_auto_columns": null,
            "grid_auto_flow": null,
            "grid_auto_rows": null,
            "grid_column": null,
            "grid_gap": null,
            "grid_row": null,
            "grid_template_areas": null,
            "grid_template_columns": null,
            "grid_template_rows": null,
            "height": null,
            "justify_content": null,
            "justify_items": null,
            "left": null,
            "margin": null,
            "max_height": null,
            "max_width": null,
            "min_height": null,
            "min_width": null,
            "object_fit": null,
            "object_position": null,
            "order": null,
            "overflow": null,
            "overflow_x": null,
            "overflow_y": null,
            "padding": null,
            "right": null,
            "top": null,
            "visibility": null,
            "width": null
          }
        },
        "30bc3a95026840788211be12f10d7bbd": {
          "model_module": "@jupyter-widgets/controls",
          "model_name": "ProgressStyleModel",
          "model_module_version": "1.5.0",
          "state": {
            "_model_module": "@jupyter-widgets/controls",
            "_model_module_version": "1.5.0",
            "_model_name": "ProgressStyleModel",
            "_view_count": null,
            "_view_module": "@jupyter-widgets/base",
            "_view_module_version": "1.2.0",
            "_view_name": "StyleView",
            "bar_color": null,
            "description_width": ""
          }
        },
        "b9bf2e1fe0014a9a9824a40e6c47e208": {
          "model_module": "@jupyter-widgets/base",
          "model_name": "LayoutModel",
          "model_module_version": "1.2.0",
          "state": {
            "_model_module": "@jupyter-widgets/base",
            "_model_module_version": "1.2.0",
            "_model_name": "LayoutModel",
            "_view_count": null,
            "_view_module": "@jupyter-widgets/base",
            "_view_module_version": "1.2.0",
            "_view_name": "LayoutView",
            "align_content": null,
            "align_items": null,
            "align_self": null,
            "border": null,
            "bottom": null,
            "display": null,
            "flex": null,
            "flex_flow": null,
            "grid_area": null,
            "grid_auto_columns": null,
            "grid_auto_flow": null,
            "grid_auto_rows": null,
            "grid_column": null,
            "grid_gap": null,
            "grid_row": null,
            "grid_template_areas": null,
            "grid_template_columns": null,
            "grid_template_rows": null,
            "height": null,
            "justify_content": null,
            "justify_items": null,
            "left": null,
            "margin": null,
            "max_height": null,
            "max_width": null,
            "min_height": null,
            "min_width": null,
            "object_fit": null,
            "object_position": null,
            "order": null,
            "overflow": null,
            "overflow_x": null,
            "overflow_y": null,
            "padding": null,
            "right": null,
            "top": null,
            "visibility": null,
            "width": null
          }
        },
        "128e8609d7ae44f48bd201e32ac02db5": {
          "model_module": "@jupyter-widgets/controls",
          "model_name": "DescriptionStyleModel",
          "model_module_version": "1.5.0",
          "state": {
            "_model_module": "@jupyter-widgets/controls",
            "_model_module_version": "1.5.0",
            "_model_name": "DescriptionStyleModel",
            "_view_count": null,
            "_view_module": "@jupyter-widgets/base",
            "_view_module_version": "1.2.0",
            "_view_name": "StyleView",
            "description_width": ""
          }
        },
        "d30a07aa7bed4e6182a665db4e19ff69": {
          "model_module": "@jupyter-widgets/base",
          "model_name": "LayoutModel",
          "model_module_version": "1.2.0",
          "state": {
            "_model_module": "@jupyter-widgets/base",
            "_model_module_version": "1.2.0",
            "_model_name": "LayoutModel",
            "_view_count": null,
            "_view_module": "@jupyter-widgets/base",
            "_view_module_version": "1.2.0",
            "_view_name": "LayoutView",
            "align_content": null,
            "align_items": null,
            "align_self": null,
            "border": null,
            "bottom": null,
            "display": null,
            "flex": null,
            "flex_flow": null,
            "grid_area": null,
            "grid_auto_columns": null,
            "grid_auto_flow": null,
            "grid_auto_rows": null,
            "grid_column": null,
            "grid_gap": null,
            "grid_row": null,
            "grid_template_areas": null,
            "grid_template_columns": null,
            "grid_template_rows": null,
            "height": null,
            "justify_content": null,
            "justify_items": null,
            "left": null,
            "margin": null,
            "max_height": null,
            "max_width": null,
            "min_height": null,
            "min_width": null,
            "object_fit": null,
            "object_position": null,
            "order": null,
            "overflow": null,
            "overflow_x": null,
            "overflow_y": null,
            "padding": null,
            "right": null,
            "top": null,
            "visibility": null,
            "width": null
          }
        },
        "767782f77b6947798c54213afa637b63": {
          "model_module": "@jupyter-widgets/controls",
          "model_name": "DescriptionStyleModel",
          "model_module_version": "1.5.0",
          "state": {
            "_model_module": "@jupyter-widgets/controls",
            "_model_module_version": "1.5.0",
            "_model_name": "DescriptionStyleModel",
            "_view_count": null,
            "_view_module": "@jupyter-widgets/base",
            "_view_module_version": "1.2.0",
            "_view_name": "StyleView",
            "description_width": ""
          }
        },
        "883d03614e7647c48c29776d6e076bb3": {
          "model_module": "@jupyter-widgets/controls",
          "model_name": "HTMLModel",
          "model_module_version": "1.5.0",
          "state": {
            "_dom_classes": [],
            "_model_module": "@jupyter-widgets/controls",
            "_model_module_version": "1.5.0",
            "_model_name": "HTMLModel",
            "_view_count": null,
            "_view_module": "@jupyter-widgets/controls",
            "_view_module_version": "1.5.0",
            "_view_name": "HTMLView",
            "description": "",
            "description_tooltip": null,
            "layout": "IPY_MODEL_b9bf2e1fe0014a9a9824a40e6c47e208",
            "placeholder": "​",
            "style": "IPY_MODEL_128e8609d7ae44f48bd201e32ac02db5",
            "value": "Median_Indices_2022_4.tif: "
          }
        },
        "c5c6a92f959f48b092597b905a32e59a": {
          "model_module": "@jupyter-widgets/controls",
          "model_name": "FloatProgressModel",
          "model_module_version": "1.5.0",
          "state": {
            "_dom_classes": [],
            "_model_module": "@jupyter-widgets/controls",
            "_model_module_version": "1.5.0",
            "_model_name": "FloatProgressModel",
            "_view_count": null,
            "_view_module": "@jupyter-widgets/controls",
            "_view_module_version": "1.5.0",
            "_view_name": "ProgressView",
            "bar_style": "success",
            "description": "",
            "description_tooltip": null,
            "layout": "IPY_MODEL_d9c93ace142a4169981ebdfac06826e2",
            "max": 238119552,
            "min": 0,
            "orientation": "horizontal",
            "style": "IPY_MODEL_30bc3a95026840788211be12f10d7bbd",
            "value": 238119552
          }
        },
        "3468eff9945b4189bb6b7661dfed9045": {
          "model_module": "@jupyter-widgets/controls",
          "model_name": "HTMLModel",
          "model_module_version": "1.5.0",
          "state": {
            "_dom_classes": [],
            "_model_module": "@jupyter-widgets/controls",
            "_model_module_version": "1.5.0",
            "_model_name": "HTMLModel",
            "_view_count": null,
            "_view_module": "@jupyter-widgets/controls",
            "_view_module_version": "1.5.0",
            "_view_name": "HTMLView",
            "description": "",
            "description_tooltip": null,
            "layout": "IPY_MODEL_d30a07aa7bed4e6182a665db4e19ff69",
            "placeholder": "​",
            "style": "IPY_MODEL_767782f77b6947798c54213afa637b63",
            "value": " 238M/238M (raw) [100.0%] in 00:55 (eta: 00:00)"
          }
        },
        "555732f35ba8416d896f228a164e9c40": {
          "model_module": "@jupyter-widgets/base",
          "model_name": "LayoutModel",
          "model_module_version": "1.2.0",
          "state": {
            "_model_module": "@jupyter-widgets/base",
            "_model_module_version": "1.2.0",
            "_model_name": "LayoutModel",
            "_view_count": null,
            "_view_module": "@jupyter-widgets/base",
            "_view_module_version": "1.2.0",
            "_view_name": "LayoutView",
            "align_content": null,
            "align_items": null,
            "align_self": null,
            "border": null,
            "bottom": null,
            "display": "inline-flex",
            "flex": null,
            "flex_flow": "row wrap",
            "grid_area": null,
            "grid_auto_columns": null,
            "grid_auto_flow": null,
            "grid_auto_rows": null,
            "grid_column": null,
            "grid_gap": null,
            "grid_row": null,
            "grid_template_areas": null,
            "grid_template_columns": null,
            "grid_template_rows": null,
            "height": null,
            "justify_content": null,
            "justify_items": null,
            "left": null,
            "margin": null,
            "max_height": null,
            "max_width": null,
            "min_height": null,
            "min_width": null,
            "object_fit": null,
            "object_position": null,
            "order": null,
            "overflow": null,
            "overflow_x": null,
            "overflow_y": null,
            "padding": null,
            "right": null,
            "top": null,
            "visibility": null,
            "width": "100%"
          }
        },
        "fe5dd8e6817e47c4adc233727a8c38d0": {
          "model_module": "@jupyter-widgets/controls",
          "model_name": "HBoxModel",
          "model_module_version": "1.5.0",
          "state": {
            "_dom_classes": [],
            "_model_module": "@jupyter-widgets/controls",
            "_model_module_version": "1.5.0",
            "_model_name": "HBoxModel",
            "_view_count": null,
            "_view_module": "@jupyter-widgets/controls",
            "_view_module_version": "1.5.0",
            "_view_name": "HBoxView",
            "box_style": "",
            "children": [
              "IPY_MODEL_883d03614e7647c48c29776d6e076bb3",
              "IPY_MODEL_c5c6a92f959f48b092597b905a32e59a",
              "IPY_MODEL_3468eff9945b4189bb6b7661dfed9045"
            ],
            "layout": "IPY_MODEL_555732f35ba8416d896f228a164e9c40"
          }
        }
      }
    }
  },
  "cells": [
    {
      "cell_type": "markdown",
      "metadata": {
        "id": "view-in-github",
        "colab_type": "text"
      },
      "source": [
        "<a href=\"https://colab.research.google.com/github/geonextgis/Mastering-Machine-Learning-and-GEE-for-Earth-Science/blob/main/00_geemap/03_Download_Image_and_Image_Tiles.ipynb\" target=\"_parent\"><img src=\"https://colab.research.google.com/assets/colab-badge.svg\" alt=\"Open In Colab\"/></a>"
      ]
    },
    {
      "cell_type": "markdown",
      "source": [
        "# **Download Image and Image Tiles from Earth Engine**"
      ],
      "metadata": {
        "id": "5gy3HeJpZDW5"
      }
    },
    {
      "cell_type": "markdown",
      "source": [
        "## **Import Required Libraries**"
      ],
      "metadata": {
        "id": "00tE6aU7AKq6"
      }
    },
    {
      "cell_type": "code",
      "source": [
        "from google.colab import drive\n",
        "drive.mount(\"/content/drive\")"
      ],
      "metadata": {
        "colab": {
          "base_uri": "https://localhost:8080/"
        },
        "id": "MkEGTunYAxLJ",
        "outputId": "d82da669-5e60-4239-c089-2452f660830e"
      },
      "execution_count": 1,
      "outputs": [
        {
          "output_type": "stream",
          "name": "stdout",
          "text": [
            "Mounted at /content/drive\n"
          ]
        }
      ]
    },
    {
      "cell_type": "code",
      "source": [
        "# %pip install rasterio\n",
        "# %pip install geedim"
      ],
      "metadata": {
        "id": "uKcYkfjABQhN"
      },
      "execution_count": null,
      "outputs": []
    },
    {
      "cell_type": "code",
      "source": [
        "import numpy as np\n",
        "import pandas as pd\n",
        "import geopandas as gpd\n",
        "import matplotlib.pyplot as plt\n",
        "import seaborn as sns\n",
        "import ee\n",
        "import geemap\n",
        "import rasterio\n",
        "import geedim"
      ],
      "metadata": {
        "id": "k7zrKDm2A2wK",
        "colab": {
          "base_uri": "https://localhost:8080/",
          "height": 17
        },
        "outputId": "e86f28de-e075-47c1-919f-a952ae81d17a"
      },
      "execution_count": 26,
      "outputs": [
        {
          "output_type": "display_data",
          "data": {
            "text/plain": [
              "<IPython.core.display.HTML object>"
            ],
            "text/html": [
              "\n",
              "            <style>\n",
              "                .geemap-dark {\n",
              "                    --jp-widgets-color: white;\n",
              "                    --jp-widgets-label-color: white;\n",
              "                    --jp-ui-font-color1: white;\n",
              "                    --jp-layout-color2: #454545;\n",
              "                    background-color: #383838;\n",
              "                }\n",
              "                    \n",
              "                .geemap-dark .jupyter-button {\n",
              "                    --jp-layout-color3: #383838;\n",
              "                }\n",
              "                \n",
              "                .geemap-colab {\n",
              "                    background-color: var(--colab-primary-surface-color, white);\n",
              "                }\n",
              "                    \n",
              "                .geemap-colab .jupyter-button {\n",
              "                    --jp-layout-color3: var(--colab-primary-surface-color, white);\n",
              "                }\n",
              "            </style>\n",
              "            "
            ]
          },
          "metadata": {}
        }
      ]
    },
    {
      "cell_type": "markdown",
      "source": [
        "## **Initialize a Map**"
      ],
      "metadata": {
        "id": "aKbJP6cuBbnX"
      }
    },
    {
      "cell_type": "code",
      "source": [
        "# # Trigger the authentication flow.\n",
        "# ee.Authenticate()\n",
        "\n",
        "# # Initialize the library.\n",
        "# ee.Initialize(project='my-project')"
      ],
      "metadata": {
        "colab": {
          "base_uri": "https://localhost:8080/",
          "height": 17
        },
        "id": "g-pM8eCLBg2-",
        "outputId": "fb37512d-86ba-45af-9069-cd447ed4dfff"
      },
      "execution_count": 6,
      "outputs": [
        {
          "output_type": "display_data",
          "data": {
            "text/plain": [
              "<IPython.core.display.HTML object>"
            ],
            "text/html": [
              "\n",
              "            <style>\n",
              "                .geemap-dark {\n",
              "                    --jp-widgets-color: white;\n",
              "                    --jp-widgets-label-color: white;\n",
              "                    --jp-ui-font-color1: white;\n",
              "                    --jp-layout-color2: #454545;\n",
              "                    background-color: #383838;\n",
              "                }\n",
              "                    \n",
              "                .geemap-dark .jupyter-button {\n",
              "                    --jp-layout-color3: #383838;\n",
              "                }\n",
              "                \n",
              "                .geemap-colab {\n",
              "                    background-color: var(--colab-primary-surface-color, white);\n",
              "                }\n",
              "                    \n",
              "                .geemap-colab .jupyter-button {\n",
              "                    --jp-layout-color3: var(--colab-primary-surface-color, white);\n",
              "                }\n",
              "            </style>\n",
              "            "
            ]
          },
          "metadata": {}
        }
      ]
    },
    {
      "cell_type": "code",
      "source": [
        "Map = geemap.Map(height=\"400pt\")\n",
        "Map"
      ],
      "metadata": {
        "colab": {
          "base_uri": "https://localhost:8080/",
          "height": 554,
          "referenced_widgets": [
            "dcc41a0729ee47c78a13bf879d2afa47",
            "bb4b7e08c1424a54af96b3dee23c0714",
            "a4fa12c78fcc4541b966d66d9bf97cb8",
            "c636759c0a5c45f789585174673ee4d4",
            "e9fcdabd48524b94bf66925e9fc48a3b",
            "d6c446c84fe848ae9c72d32795b114fb",
            "065a8c140b9e4383a79cfa1a67dfc739",
            "3adb3d922e274aa5bcb4289ac0e77122",
            "8ad23638fa7445b9b6e50430236e89d1",
            "43f20132ce784cdbaa84287eea4343a6",
            "87bf7925f0664ed79d67ec68fd0ff562",
            "05e83c8f59e8498a8a045f46b2776b2b",
            "88e77d0aa1394110ad5f62e61a898c22",
            "ecf856e512264e54aa97d70527f192ff",
            "3939fde103394f5f9028e8d9b3eeee60",
            "dc0b058cb0914a75b5078895efaec11a",
            "829595534c0d4c20b511d475bda6d3f8",
            "057d2f340b3642a28f5d0d37280742bd",
            "f9e82e7dcf62447a925b7fb217686fab",
            "422b1b348e564e6ea223a8fff4f93b66",
            "44b0a31c7bf14d34a82470ec1b9510b5",
            "625146c091b14afeaec9a0fe5a61de0d",
            "f529b10febb845e6a7fbfe421e259974",
            "163623d0a1d24570a297203e8b5b3923",
            "d146b511de2e47289c91738fe1394f3e",
            "082768304fbc4a7ba9c1104025ff8cb5",
            "fdb41565d6cd496ca231e98779e1c823"
          ]
        },
        "id": "-7EM78vxBh-H",
        "outputId": "939b7cb7-5554-4801-8668-8cf122f50719"
      },
      "execution_count": 8,
      "outputs": [
        {
          "output_type": "display_data",
          "data": {
            "text/plain": [
              "<IPython.core.display.HTML object>"
            ],
            "text/html": [
              "\n",
              "            <style>\n",
              "                .geemap-dark {\n",
              "                    --jp-widgets-color: white;\n",
              "                    --jp-widgets-label-color: white;\n",
              "                    --jp-ui-font-color1: white;\n",
              "                    --jp-layout-color2: #454545;\n",
              "                    background-color: #383838;\n",
              "                }\n",
              "                    \n",
              "                .geemap-dark .jupyter-button {\n",
              "                    --jp-layout-color3: #383838;\n",
              "                }\n",
              "                \n",
              "                .geemap-colab {\n",
              "                    background-color: var(--colab-primary-surface-color, white);\n",
              "                }\n",
              "                    \n",
              "                .geemap-colab .jupyter-button {\n",
              "                    --jp-layout-color3: var(--colab-primary-surface-color, white);\n",
              "                }\n",
              "            </style>\n",
              "            "
            ]
          },
          "metadata": {}
        },
        {
          "output_type": "display_data",
          "data": {
            "text/plain": [
              "Map(center=[0, 0], controls=(WidgetControl(options=['position', 'transparent_bg'], widget=SearchDataGUI(childr…"
            ],
            "application/vnd.jupyter.widget-view+json": {
              "version_major": 2,
              "version_minor": 0,
              "model_id": "dcc41a0729ee47c78a13bf879d2afa47"
            }
          },
          "metadata": {
            "application/vnd.jupyter.widget-view+json": {
              "colab": {
                "custom_widget_manager": {
                  "url": "https://ssl.gstatic.com/colaboratory-static/widgets/colab-cdn-widget-manager/2b70e893a8ba7c0f/manager.min.js"
                }
              }
            }
          }
        }
      ]
    },
    {
      "cell_type": "markdown",
      "source": [
        "## **Define a Region of Interest**"
      ],
      "metadata": {
        "id": "t8u-puRyBzzq"
      }
    },
    {
      "cell_type": "code",
      "source": [
        "# Read the shapefile of the West Bengal state using geopandas\n",
        "shp_path = r\"/content/drive/MyDrive/Colab Notebooks/GitHub Repo/Mastering-Machine-Learning-and-GEE-for-Earth-Science/Datasets/West_Bengal_Boundary/District_shape_West_Bengal.shp\"\n",
        "wb_gdf = gpd.read_file(shp_path)\n",
        "print(wb_gdf.shape)\n",
        "wb_gdf.head()"
      ],
      "metadata": {
        "colab": {
          "base_uri": "https://localhost:8080/",
          "height": 223
        },
        "id": "R15YovkpB1W5",
        "outputId": "0602b150-adcf-4aed-ba1a-1b5f67829497"
      },
      "execution_count": 9,
      "outputs": [
        {
          "output_type": "display_data",
          "data": {
            "text/plain": [
              "<IPython.core.display.HTML object>"
            ],
            "text/html": [
              "\n",
              "            <style>\n",
              "                .geemap-dark {\n",
              "                    --jp-widgets-color: white;\n",
              "                    --jp-widgets-label-color: white;\n",
              "                    --jp-ui-font-color1: white;\n",
              "                    --jp-layout-color2: #454545;\n",
              "                    background-color: #383838;\n",
              "                }\n",
              "                    \n",
              "                .geemap-dark .jupyter-button {\n",
              "                    --jp-layout-color3: #383838;\n",
              "                }\n",
              "                \n",
              "                .geemap-colab {\n",
              "                    background-color: var(--colab-primary-surface-color, white);\n",
              "                }\n",
              "                    \n",
              "                .geemap-colab .jupyter-button {\n",
              "                    --jp-layout-color3: var(--colab-primary-surface-color, white);\n",
              "                }\n",
              "            </style>\n",
              "            "
            ]
          },
          "metadata": {}
        },
        {
          "output_type": "stream",
          "name": "stdout",
          "text": [
            "(24, 5)\n"
          ]
        },
        {
          "output_type": "execute_result",
          "data": {
            "text/plain": [
              "            GM_LAYER                NAME NAME_0       NAME_1  \\\n",
              "0  Unknown Area Type            Jhargram  India  West Bengal   \n",
              "1  Unknown Area Type           Kalimpong  India  West Bengal   \n",
              "2  Unknown Area Type             Kolkata  India  West Bengal   \n",
              "3  Unknown Area Type  Paschim Barddhaman  India  West Bengal   \n",
              "4  Unknown Area Type  Pashchim Medinipur  India  West Bengal   \n",
              "\n",
              "                                            geometry  \n",
              "0  POLYGON ((87.07253 22.72494, 87.07639 22.72033...  \n",
              "1  POLYGON ((88.43195 27.08161, 88.43962 27.08417...  \n",
              "2  POLYGON ((88.40731 22.55647, 88.40570 22.55393...  \n",
              "3  POLYGON ((87.57518 23.52770, 87.57636 23.52456...  \n",
              "4  POLYGON ((87.88528 22.52200, 87.88857 22.51518...  "
            ],
            "text/html": [
              "\n",
              "  <div id=\"df-62523286-5193-4060-95ba-e98bd4f4c520\" class=\"colab-df-container\">\n",
              "    <div>\n",
              "<style scoped>\n",
              "    .dataframe tbody tr th:only-of-type {\n",
              "        vertical-align: middle;\n",
              "    }\n",
              "\n",
              "    .dataframe tbody tr th {\n",
              "        vertical-align: top;\n",
              "    }\n",
              "\n",
              "    .dataframe thead th {\n",
              "        text-align: right;\n",
              "    }\n",
              "</style>\n",
              "<table border=\"1\" class=\"dataframe\">\n",
              "  <thead>\n",
              "    <tr style=\"text-align: right;\">\n",
              "      <th></th>\n",
              "      <th>GM_LAYER</th>\n",
              "      <th>NAME</th>\n",
              "      <th>NAME_0</th>\n",
              "      <th>NAME_1</th>\n",
              "      <th>geometry</th>\n",
              "    </tr>\n",
              "  </thead>\n",
              "  <tbody>\n",
              "    <tr>\n",
              "      <th>0</th>\n",
              "      <td>Unknown Area Type</td>\n",
              "      <td>Jhargram</td>\n",
              "      <td>India</td>\n",
              "      <td>West Bengal</td>\n",
              "      <td>POLYGON ((87.07253 22.72494, 87.07639 22.72033...</td>\n",
              "    </tr>\n",
              "    <tr>\n",
              "      <th>1</th>\n",
              "      <td>Unknown Area Type</td>\n",
              "      <td>Kalimpong</td>\n",
              "      <td>India</td>\n",
              "      <td>West Bengal</td>\n",
              "      <td>POLYGON ((88.43195 27.08161, 88.43962 27.08417...</td>\n",
              "    </tr>\n",
              "    <tr>\n",
              "      <th>2</th>\n",
              "      <td>Unknown Area Type</td>\n",
              "      <td>Kolkata</td>\n",
              "      <td>India</td>\n",
              "      <td>West Bengal</td>\n",
              "      <td>POLYGON ((88.40731 22.55647, 88.40570 22.55393...</td>\n",
              "    </tr>\n",
              "    <tr>\n",
              "      <th>3</th>\n",
              "      <td>Unknown Area Type</td>\n",
              "      <td>Paschim Barddhaman</td>\n",
              "      <td>India</td>\n",
              "      <td>West Bengal</td>\n",
              "      <td>POLYGON ((87.57518 23.52770, 87.57636 23.52456...</td>\n",
              "    </tr>\n",
              "    <tr>\n",
              "      <th>4</th>\n",
              "      <td>Unknown Area Type</td>\n",
              "      <td>Pashchim Medinipur</td>\n",
              "      <td>India</td>\n",
              "      <td>West Bengal</td>\n",
              "      <td>POLYGON ((87.88528 22.52200, 87.88857 22.51518...</td>\n",
              "    </tr>\n",
              "  </tbody>\n",
              "</table>\n",
              "</div>\n",
              "    <div class=\"colab-df-buttons\">\n",
              "\n",
              "  <div class=\"colab-df-container\">\n",
              "    <button class=\"colab-df-convert\" onclick=\"convertToInteractive('df-62523286-5193-4060-95ba-e98bd4f4c520')\"\n",
              "            title=\"Convert this dataframe to an interactive table.\"\n",
              "            style=\"display:none;\">\n",
              "\n",
              "  <svg xmlns=\"http://www.w3.org/2000/svg\" height=\"24px\" viewBox=\"0 -960 960 960\">\n",
              "    <path d=\"M120-120v-720h720v720H120Zm60-500h600v-160H180v160Zm220 220h160v-160H400v160Zm0 220h160v-160H400v160ZM180-400h160v-160H180v160Zm440 0h160v-160H620v160ZM180-180h160v-160H180v160Zm440 0h160v-160H620v160Z\"/>\n",
              "  </svg>\n",
              "    </button>\n",
              "\n",
              "  <style>\n",
              "    .colab-df-container {\n",
              "      display:flex;\n",
              "      gap: 12px;\n",
              "    }\n",
              "\n",
              "    .colab-df-convert {\n",
              "      background-color: #E8F0FE;\n",
              "      border: none;\n",
              "      border-radius: 50%;\n",
              "      cursor: pointer;\n",
              "      display: none;\n",
              "      fill: #1967D2;\n",
              "      height: 32px;\n",
              "      padding: 0 0 0 0;\n",
              "      width: 32px;\n",
              "    }\n",
              "\n",
              "    .colab-df-convert:hover {\n",
              "      background-color: #E2EBFA;\n",
              "      box-shadow: 0px 1px 2px rgba(60, 64, 67, 0.3), 0px 1px 3px 1px rgba(60, 64, 67, 0.15);\n",
              "      fill: #174EA6;\n",
              "    }\n",
              "\n",
              "    .colab-df-buttons div {\n",
              "      margin-bottom: 4px;\n",
              "    }\n",
              "\n",
              "    [theme=dark] .colab-df-convert {\n",
              "      background-color: #3B4455;\n",
              "      fill: #D2E3FC;\n",
              "    }\n",
              "\n",
              "    [theme=dark] .colab-df-convert:hover {\n",
              "      background-color: #434B5C;\n",
              "      box-shadow: 0px 1px 3px 1px rgba(0, 0, 0, 0.15);\n",
              "      filter: drop-shadow(0px 1px 2px rgba(0, 0, 0, 0.3));\n",
              "      fill: #FFFFFF;\n",
              "    }\n",
              "  </style>\n",
              "\n",
              "    <script>\n",
              "      const buttonEl =\n",
              "        document.querySelector('#df-62523286-5193-4060-95ba-e98bd4f4c520 button.colab-df-convert');\n",
              "      buttonEl.style.display =\n",
              "        google.colab.kernel.accessAllowed ? 'block' : 'none';\n",
              "\n",
              "      async function convertToInteractive(key) {\n",
              "        const element = document.querySelector('#df-62523286-5193-4060-95ba-e98bd4f4c520');\n",
              "        const dataTable =\n",
              "          await google.colab.kernel.invokeFunction('convertToInteractive',\n",
              "                                                    [key], {});\n",
              "        if (!dataTable) return;\n",
              "\n",
              "        const docLinkHtml = 'Like what you see? Visit the ' +\n",
              "          '<a target=\"_blank\" href=https://colab.research.google.com/notebooks/data_table.ipynb>data table notebook</a>'\n",
              "          + ' to learn more about interactive tables.';\n",
              "        element.innerHTML = '';\n",
              "        dataTable['output_type'] = 'display_data';\n",
              "        await google.colab.output.renderOutput(dataTable, element);\n",
              "        const docLink = document.createElement('div');\n",
              "        docLink.innerHTML = docLinkHtml;\n",
              "        element.appendChild(docLink);\n",
              "      }\n",
              "    </script>\n",
              "  </div>\n",
              "\n",
              "\n",
              "<div id=\"df-0f5d4ad5-bd9e-4980-a9c3-0aeb154deb49\">\n",
              "  <button class=\"colab-df-quickchart\" onclick=\"quickchart('df-0f5d4ad5-bd9e-4980-a9c3-0aeb154deb49')\"\n",
              "            title=\"Suggest charts\"\n",
              "            style=\"display:none;\">\n",
              "\n",
              "<svg xmlns=\"http://www.w3.org/2000/svg\" height=\"24px\"viewBox=\"0 0 24 24\"\n",
              "     width=\"24px\">\n",
              "    <g>\n",
              "        <path d=\"M19 3H5c-1.1 0-2 .9-2 2v14c0 1.1.9 2 2 2h14c1.1 0 2-.9 2-2V5c0-1.1-.9-2-2-2zM9 17H7v-7h2v7zm4 0h-2V7h2v10zm4 0h-2v-4h2v4z\"/>\n",
              "    </g>\n",
              "</svg>\n",
              "  </button>\n",
              "\n",
              "<style>\n",
              "  .colab-df-quickchart {\n",
              "      --bg-color: #E8F0FE;\n",
              "      --fill-color: #1967D2;\n",
              "      --hover-bg-color: #E2EBFA;\n",
              "      --hover-fill-color: #174EA6;\n",
              "      --disabled-fill-color: #AAA;\n",
              "      --disabled-bg-color: #DDD;\n",
              "  }\n",
              "\n",
              "  [theme=dark] .colab-df-quickchart {\n",
              "      --bg-color: #3B4455;\n",
              "      --fill-color: #D2E3FC;\n",
              "      --hover-bg-color: #434B5C;\n",
              "      --hover-fill-color: #FFFFFF;\n",
              "      --disabled-bg-color: #3B4455;\n",
              "      --disabled-fill-color: #666;\n",
              "  }\n",
              "\n",
              "  .colab-df-quickchart {\n",
              "    background-color: var(--bg-color);\n",
              "    border: none;\n",
              "    border-radius: 50%;\n",
              "    cursor: pointer;\n",
              "    display: none;\n",
              "    fill: var(--fill-color);\n",
              "    height: 32px;\n",
              "    padding: 0;\n",
              "    width: 32px;\n",
              "  }\n",
              "\n",
              "  .colab-df-quickchart:hover {\n",
              "    background-color: var(--hover-bg-color);\n",
              "    box-shadow: 0 1px 2px rgba(60, 64, 67, 0.3), 0 1px 3px 1px rgba(60, 64, 67, 0.15);\n",
              "    fill: var(--button-hover-fill-color);\n",
              "  }\n",
              "\n",
              "  .colab-df-quickchart-complete:disabled,\n",
              "  .colab-df-quickchart-complete:disabled:hover {\n",
              "    background-color: var(--disabled-bg-color);\n",
              "    fill: var(--disabled-fill-color);\n",
              "    box-shadow: none;\n",
              "  }\n",
              "\n",
              "  .colab-df-spinner {\n",
              "    border: 2px solid var(--fill-color);\n",
              "    border-color: transparent;\n",
              "    border-bottom-color: var(--fill-color);\n",
              "    animation:\n",
              "      spin 1s steps(1) infinite;\n",
              "  }\n",
              "\n",
              "  @keyframes spin {\n",
              "    0% {\n",
              "      border-color: transparent;\n",
              "      border-bottom-color: var(--fill-color);\n",
              "      border-left-color: var(--fill-color);\n",
              "    }\n",
              "    20% {\n",
              "      border-color: transparent;\n",
              "      border-left-color: var(--fill-color);\n",
              "      border-top-color: var(--fill-color);\n",
              "    }\n",
              "    30% {\n",
              "      border-color: transparent;\n",
              "      border-left-color: var(--fill-color);\n",
              "      border-top-color: var(--fill-color);\n",
              "      border-right-color: var(--fill-color);\n",
              "    }\n",
              "    40% {\n",
              "      border-color: transparent;\n",
              "      border-right-color: var(--fill-color);\n",
              "      border-top-color: var(--fill-color);\n",
              "    }\n",
              "    60% {\n",
              "      border-color: transparent;\n",
              "      border-right-color: var(--fill-color);\n",
              "    }\n",
              "    80% {\n",
              "      border-color: transparent;\n",
              "      border-right-color: var(--fill-color);\n",
              "      border-bottom-color: var(--fill-color);\n",
              "    }\n",
              "    90% {\n",
              "      border-color: transparent;\n",
              "      border-bottom-color: var(--fill-color);\n",
              "    }\n",
              "  }\n",
              "</style>\n",
              "\n",
              "  <script>\n",
              "    async function quickchart(key) {\n",
              "      const quickchartButtonEl =\n",
              "        document.querySelector('#' + key + ' button');\n",
              "      quickchartButtonEl.disabled = true;  // To prevent multiple clicks.\n",
              "      quickchartButtonEl.classList.add('colab-df-spinner');\n",
              "      try {\n",
              "        const charts = await google.colab.kernel.invokeFunction(\n",
              "            'suggestCharts', [key], {});\n",
              "      } catch (error) {\n",
              "        console.error('Error during call to suggestCharts:', error);\n",
              "      }\n",
              "      quickchartButtonEl.classList.remove('colab-df-spinner');\n",
              "      quickchartButtonEl.classList.add('colab-df-quickchart-complete');\n",
              "    }\n",
              "    (() => {\n",
              "      let quickchartButtonEl =\n",
              "        document.querySelector('#df-0f5d4ad5-bd9e-4980-a9c3-0aeb154deb49 button');\n",
              "      quickchartButtonEl.style.display =\n",
              "        google.colab.kernel.accessAllowed ? 'block' : 'none';\n",
              "    })();\n",
              "  </script>\n",
              "</div>\n",
              "\n",
              "    </div>\n",
              "  </div>\n"
            ],
            "application/vnd.google.colaboratory.intrinsic+json": {
              "type": "dataframe",
              "variable_name": "wb_gdf",
              "summary": "{\n  \"name\": \"wb_gdf\",\n  \"rows\": 24,\n  \"fields\": [\n    {\n      \"column\": \"GM_LAYER\",\n      \"properties\": {\n        \"dtype\": \"category\",\n        \"num_unique_values\": 1,\n        \"samples\": [\n          \"Unknown Area Type\"\n        ],\n        \"semantic_type\": \"\",\n        \"description\": \"\"\n      }\n    },\n    {\n      \"column\": \"NAME\",\n      \"properties\": {\n        \"dtype\": \"string\",\n        \"num_unique_values\": 23,\n        \"samples\": [\n          \"Nadia\"\n        ],\n        \"semantic_type\": \"\",\n        \"description\": \"\"\n      }\n    },\n    {\n      \"column\": \"NAME_0\",\n      \"properties\": {\n        \"dtype\": \"category\",\n        \"num_unique_values\": 1,\n        \"samples\": [\n          \"India\"\n        ],\n        \"semantic_type\": \"\",\n        \"description\": \"\"\n      }\n    },\n    {\n      \"column\": \"NAME_1\",\n      \"properties\": {\n        \"dtype\": \"category\",\n        \"num_unique_values\": 1,\n        \"samples\": [\n          \"West Bengal\"\n        ],\n        \"semantic_type\": \"\",\n        \"description\": \"\"\n      }\n    },\n    {\n      \"column\": \"geometry\",\n      \"properties\": {\n        \"dtype\": \"geometry\",\n        \"num_unique_values\": 23,\n        \"samples\": [\n          \"POLYGON ((88.72438049316418 24.07718849182146, 88.72381591796886 24.073448181152628, 88.72222137451195 24.07165908813488, 88.72238159179693 24.065771102905558, 88.7227630615235 24.064870834350586, 88.72424316406267 24.06396102905279, 88.73018646240234 24.062601089477596, 88.73091125488298 24.06241989135765, 88.73470306396479 24.063150405883846, 88.73561096191435 24.06332015991228, 88.73632812500023 24.06265068054222, 88.73689270019537 24.061269760132006, 88.7376327514649 24.059429168701456, 88.73738098144548 24.05663108825695, 88.73734283447294 24.05633163452154, 88.73660278320307 24.055629730224723, 88.73143005371122 24.054580688476676, 88.7277526855471 24.053800582885685, 88.72618865966803 24.053222656250114, 88.72328948974626 24.052499771118278, 88.72657012939459 24.048929214477482, 88.73342895507812 24.04816055297863, 88.73542022705107 24.046560287475586, 88.73800659179688 24.038200378417912, 88.73916625976568 24.034589767456055, 88.73745727539068 24.023250579833984, 88.73773193359386 24.01557159423828, 88.73777008056658 24.013750076294002, 88.73764038085943 24.01359939575218, 88.73506164550793 24.010789871215763, 88.73320770263689 24.009769439697493, 88.73175811767601 24.008960723877124, 88.72944641113287 24.00510978698742, 88.7280578613283 24.0000705718997, 88.72718811035162 23.99450111389166, 88.7303695678711 23.994689941406364, 88.73738098144548 23.998270034790266, 88.74214935302751 24.000789642333984, 88.74236297607439 24.001331329345874, 88.74495697021513 24.0033607482913, 88.7460327148438 24.003879547119197, 88.74880218505871 24.0050106048584, 88.75874328613298 24.008182525634766, 88.76241302490234 24.005250930786076, 88.76505279541033 23.995529174804688, 88.7656860351563 23.994171142578296, 88.7664718627932 23.99352073669428, 88.76866149902361 23.991741180420036, 88.7698822021485 23.990779876709098, 88.7704467773438 23.98948097229004, 88.77131652832026 23.98752021789545, 88.77098846435547 23.984781265258846, 88.7688980102539 23.981830596923942, 88.76685333251976 23.98234939575201, 88.76667785644537 23.98236083984375, 88.76058197021513 23.984279632568644, 88.75511169433588 23.985969543457202, 88.75340270996111 23.986190795898438, 88.74806213378923 23.98575019836437, 88.74163055419922 23.984670639038143, 88.74108123779303 23.984569549560547, 88.74035644531256 23.983419418334904, 88.73618316650419 23.9802303314209, 88.73496246337896 23.97817039489769, 88.73471832275408 23.97747993469261, 88.73513793945312 23.9678707122805, 88.7352676391601 23.965072631835994, 88.73513793945312 23.96438026428234, 88.73439788818365 23.962120056152344, 88.73378753662126 23.96167945861822, 88.73381805419928 23.96009063720726, 88.73441314697271 23.958740234375227, 88.73898315429693 23.954450607299975, 88.73898315429693 23.95399093627924, 88.74047088623047 23.952869415283203, 88.74085998535156 23.94901084899908, 88.74035644531256 23.948310852050895, 88.73974609375006 23.947420120239542, 88.73977661132818 23.94470024108881, 88.74227142334013 23.93860054016119, 88.74228668212919 23.935880661011026, 88.74192810058605 23.934061050415153, 88.74079895019526 23.932731628417912, 88.74054718017584 23.932952880859546, 88.73587799072283 23.932239532470817, 88.73488616943354 23.931789398193416, 88.73432159423822 23.931320190429744, 88.73297119140636 23.929729461670206, 88.7324829101563 23.926578521728516, 88.73374176025385 23.921590805053825, 88.73354339599621 23.91868019104004, 88.7332611083985 23.914339065551758, 88.73153686523443 23.91298294067377, 88.73105621337902 23.912769317627067, 88.72785186767595 23.913410186767578, 88.72334289550787 23.915359497070426, 88.72117614746111 23.915439605713004, 88.72097015380854 23.915670394897745, 88.71308135986334 23.914020538330305, 88.71092987060553 23.914390563964957, 88.71010589599626 23.9144611358642, 88.70614624023438 23.91413116455101, 88.70446014404303 23.913988113403548, 88.70211791992205 23.91287994384777, 88.70102691650396 23.911718368530273, 88.70066070556663 23.909671783447322, 88.70236206054693 23.90760040283203, 88.70376586914091 23.906280517578125, 88.70449829101568 23.9056205749514, 88.70478820800798 23.90438079834007, 88.7049102783206 23.903869628906364, 88.70558929443365 23.901582717895735, 88.70493316650402 23.900030136108683, 88.7037811279298 23.898830413818644, 88.69787597656261 23.900619506835994, 88.69233703613293 23.899711608886832, 88.69207763671898 23.899669647216967, 88.69033050537115 23.897571563720874, 88.6883621215822 23.89385986328125, 88.68737030029325 23.892009735107365, 88.68679046630888 23.891782760620174, 88.68535614013672 23.88902282714855, 88.67948150634771 23.8865203857423, 88.6734161376956 23.885311126709098, 88.6706008911134 23.884729385375977, 88.66693878173857 23.883970260620174, 88.66631317138678 23.883510589599837, 88.6644821166995 23.88076019287115, 88.66461944580101 23.87621116638195, 88.66474914550781 23.872159957885856, 88.66355895996088 23.869920730591048, 88.65862274169939 23.86805915832531, 88.65518951416033 23.868270874023438, 88.65334320068365 23.868240356445426, 88.64557647705107 23.86811065673828, 88.64141082763683 23.866649627685547, 88.63796997070341 23.863231658935717, 88.63379669189447 23.861619949340934, 88.63307952880876 23.861360549926815, 88.62937927246122 23.861810684204215, 88.62741088867193 23.86272048950218, 88.62592315673857 23.863639831543253, 88.62455749511741 23.866552352905273, 88.62407684326166 23.86678123474144, 88.62325286865263 23.87021064758295, 88.62242889404303 23.873559951782283, 88.62119293212902 23.874469757080078, 88.61798095703142 23.875579833984602, 88.61666870117205 23.875259399414176, 88.61221313476591 23.874191284179688, 88.61136627197271 23.873500823974553, 88.61049652099638 23.872030258178654, 88.60993194580107 23.87107086181652, 88.60745239257841 23.86691284179699, 88.60375976562506 23.86441040039091, 88.60253143310564 23.864189147949276, 88.60009002685547 23.864839553833292, 88.60008239746111 23.86529922485346, 88.59217834472685 23.870468139648494, 88.59120178222662 23.870702743530273, 88.58727264404314 23.86976051330572, 88.58479309082048 23.867942810058594, 88.58470916748053 23.8677406311038, 88.5833663940432 23.86409950256359, 88.58114624023449 23.86203956604021, 88.57711029052763 23.860691070556925, 88.575981140137 23.859750747680835, 88.57553100585943 23.854339599609318, 88.58094787597668 23.85207939147972, 88.58613586425798 23.851432800293253, 88.58689117431658 23.850749969482536, 88.58715820312506 23.849500656128043, 88.58763885498041 23.849050521850643, 88.58811187744146 23.84486007690458, 88.58747863769548 23.83823966979992, 88.58757019042974 23.835710525512695, 88.58766937255876 23.834440231323356, 88.59142303466825 23.826320648193416, 88.59948730468767 23.82179260253929, 88.60047912597656 23.81960105896013, 88.60173034667997 23.816850662231445, 88.60018157959013 23.816062927246094, 88.59587860107439 23.813819885253963, 88.58959197998064 23.813432693481445, 88.58927917480491 23.813400268554915, 88.58672332763689 23.81225967407238, 88.58647918701183 23.81133079528837, 88.58732604980469 23.808401107788313, 88.58882904052751 23.807050704956055, 88.58882904052751 23.80661010742216, 88.58981323242193 23.806158065795955, 88.59082794189482 23.805328369140625, 88.59203338623041 23.804349899292163, 88.59217834472685 23.80074119567871, 88.5920486450197 23.800441741943473, 88.5905532836914 23.800001144409407, 88.58940124511736 23.79966926574724, 88.58843994140642 23.79861068725586, 88.58621978759788 23.79790115356451, 88.5859680175783 23.79812049865717, 88.5849914550783 23.79790115356451, 88.58396911621122 23.797727584839095, 88.58197021484375 23.796150207519645, 88.58129119873075 23.791690826416016, 88.5808181762697 23.78866958618164, 88.58032226562506 23.78800010681175, 88.57517242431646 23.786500930786133, 88.57303619384771 23.78635025024414, 88.57251739501982 23.78631019592285, 88.56359100341808 23.78656959533714, 88.56154632568376 23.785949707031477, 88.55957031250028 23.78537178039568, 88.55928039550781 23.784130096435774, 88.55969238281256 23.782539367675838, 88.55970001220709 23.781780242919922, 88.56019592285173 23.781560897827262, 88.56019592285173 23.78112030029314, 88.5602111816408 23.780651092529467, 88.56575775146484 23.776929855346907, 88.5686874389649 23.775289535522745, 88.5730209350586 23.772779464721737, 88.57621765136736 23.77008819580078, 88.57785797119169 23.766019821166992, 88.5787963867188 23.765340805053768, 88.57863616943388 23.75673103332514, 88.57804870605497 23.7551403045656, 88.5758209228515 23.752870559692667, 88.57466125488293 23.75029182434082, 88.5738983154298 23.748561859130973, 88.57377624511719 23.74355125427269, 88.57469940185564 23.73633193969755, 88.57280731201189 23.731279373169002, 88.57132720947271 23.724559783935547, 88.5657119750976 23.717279434204272, 88.5642166137697 23.71478271484375, 88.56456756591791 23.71162986755371, 88.56471252441435 23.7099418640139, 88.56584167480497 23.704202651977596, 88.56952667236322 23.691259384155273, 88.57077789306663 23.68832015991211, 88.57145690917986 23.68275070190441, 88.57393646240251 23.670000076293945, 88.57382965087913 23.667739868164176, 88.57334136962885 23.66728019714361, 88.56894683837885 23.665880203247184, 88.5679473876956 23.664281845093058, 88.5677108764649 23.66246032714838, 88.56822967529314 23.65896987915039, 88.56829833984398 23.658430099487475, 88.56838226318354 23.657960891723803, 88.56752014160162 23.657039642333984, 88.56344604492205 23.649629592895735, 88.56167602539091 23.645709991455192, 88.56167602539091 23.64207077026373, 88.5624465942384 23.640050888061808, 88.56514739990251 23.63848114013672, 88.56651306152361 23.638099670410156, 88.56672668457031 23.638080596923942, 88.56854248046903 23.63755989074707, 88.57596588134794 23.636489868164176, 88.57807159423857 23.636289596557617, 88.5897521972658 23.637680053710938, 88.59242248535173 23.63657188415533, 88.59304809570312 23.63454818725603, 88.59323120117188 23.62638092041027, 88.59182739257824 23.621522903442553, 88.59102630615263 23.618606567382812, 88.59034729003923 23.61479949951189, 88.5901870727539 23.61470031738287, 88.58473968505888 23.61095046997093, 88.58283233642607 23.608221054077262, 88.58180236816412 23.606630325317383, 88.58167266845732 23.602609634399357, 88.58085632324224 23.60074043273943, 88.58743286132824 23.599952697753906, 88.59237670898466 23.602590560913313, 88.59530639648455 23.603040695190543, 88.59899902343773 23.603538513183594, 88.59996795654303 23.603319168090934, 88.60072326660179 23.602630615234375, 88.60073852539068 23.60107040405279, 88.60073089599615 23.59857940673828, 88.60220336914062 23.598119735717887, 88.60539245605486 23.599969863891772, 88.60588073730474 23.599952697753906, 88.60711669921892 23.600870132446403, 88.61448669433622 23.602069854736442, 88.620346069336 23.60295104980463, 88.62084960937517 23.602729797363395, 88.62423706054716 23.603981018066634, 88.62647247314476 23.604810714721623, 88.62747955322294 23.605470657348576, 88.63059997558611 23.60578727722185, 88.63703918457026 23.60644149780302, 88.63729858398438 23.606210708618278, 88.63778686523449 23.605979919433707, 88.64367675781278 23.608489990234375, 88.6449203491211 23.608060836791992, 88.6449203491211 23.607601165771598, 88.64541625976574 23.6073894500733, 88.64530944824219 23.603099822998047, 88.64494323730474 23.602172851562614, 88.63931274414074 23.597160339355526, 88.63871765136747 23.593311309814396, 88.63971710205072 23.592422485351847, 88.64157104492216 23.589019775390568, 88.64180755615229 23.588100433349666, 88.64351654052746 23.587671279907283, 88.64473724365234 23.587471008300895, 88.6479568481447 23.58473968505865, 88.6479568481447 23.584310531616268, 88.64845275878935 23.584310531616268, 88.64951324462896 23.581050872802848, 88.65106964111351 23.572719573974553, 88.65246582031278 23.565509796142578, 88.65545654296898 23.55760955810547, 88.65596771240251 23.55738067626953, 88.65670013427751 23.556949615478516, 88.65670013427751 23.556499481201115, 88.65744018554699 23.556030273437443, 88.65892791748075 23.553560256958292, 88.6591873168947 23.55265998840332, 88.66160583496122 23.550619125366325, 88.66162109375028 23.550188064575366, 88.66162109375028 23.549730300903434, 88.66455078125017 23.5485897064209, 88.67442321777338 23.545909881592024, 88.67722320556646 23.54372024536127, 88.67723083496122 23.543260574341105, 88.68427276611334 23.538970947265682, 88.68453216552729 23.53805160522461, 88.68514251709001 23.536689758300838, 88.68624114990246 23.535341262817383, 88.68676757812528 23.529220581054915, 88.69242095947266 23.525611877441463, 88.69539642333996 23.517480850219783, 88.69861602783232 23.5154705047608, 88.7005691528322 23.5150203704834, 88.70549011230497 23.51435089111351, 88.70646667480463 23.514591217041016, 88.70867156982445 23.513910293579215, 88.71087646484392 23.512340545654524, 88.7113800048831 23.511220932006836, 88.71212768554693 23.509870529174805, 88.71646881103521 23.507909774780217, 88.71852874755876 23.507392883300724, 88.72516632080072 23.509229660034293, 88.7273559570313 23.508319854736555, 88.73085021972685 23.496789932251147, 88.73618316650419 23.49345016479515, 88.73864746093778 23.491849899292276, 88.73896026611328 23.491640090942553, 88.73993682861334 23.490730285644588, 88.74291992187517 23.480779647827262, 88.74613952636713 23.479431152343977, 88.74810028076172 23.479209899902344, 88.74932861328153 23.479440689086914, 88.7495727539062 23.479671478271655, 88.75334167480497 23.47859001159668, 88.75496673583984 23.47811126709007, 88.75621032714872 23.479030609131144, 88.75641632080107 23.4834575653079, 88.75678253173857 23.485210418701172, 88.75681304931652 23.485370635986328, 88.75962066650396 23.48604011535673, 88.76257324218767 23.484918594360465, 88.7629470825197 23.484680175781364, 88.7650985717774 23.483272552490234, 88.76655578613276 23.482320785522745, 88.77046203613287 23.479780197143782, 88.77201843261724 23.481309890747013, 88.77213287353516 23.48427963256836, 88.77177429199224 23.485174179077433, 88.77066040039085 23.487970352172965, 88.77014923095732 23.489250183105582, 88.77018737792986 23.490209579467944, 88.77025604248053 23.49176025390625, 88.77073669433605 23.492662429809627, 88.7748413085938 23.495021820068416, 88.77757263183622 23.49658966064476, 88.77838897705095 23.497068405151538, 88.77944183349632 23.497671127319336, 88.78263092041016 23.498140335083008, 88.78392791748064 23.497432708740234, 88.78524017333979 23.496610641479606, 88.78679656982439 23.495670318603516, 88.78707885742193 23.495719909668253, 88.78829956054682 23.495500564575423, 88.79117584228533 23.495811462402344, 88.79640960693382 23.496379852295206, 88.79712677001953 23.496168136596907, 88.79850769042991 23.494890213012695, 88.79934692382824 23.49156188964838, 88.79872894287138 23.48879241943382, 88.79530334472685 23.48528289794922, 88.79477691650385 23.483070373535384, 88.79612731933611 23.482870101928825, 88.79605865478544 23.481491088867188, 88.7977828979495 23.48080062866211, 88.7987594604495 23.48126983642578, 88.7997283935548 23.480768203735522, 88.80014801025408 23.48054122924816, 88.79962921142584 23.47715950012207, 88.79792022705084 23.47533035278343, 88.79708099365251 23.47477722167963, 88.79679870605491 23.47462081909191, 88.7905883789062 23.470539093017578, 88.78874969482428 23.466230392456282, 88.78840637207054 23.464870452880916, 88.7883529663086 23.45889282226574, 88.78942871093761 23.448802947998047, 88.79107666015648 23.445560455322266, 88.79139709472656 23.444959640503043, 88.79141998291021 23.44223976135271, 88.79094696044933 23.44135093688959, 88.78996276855497 23.440652847290153, 88.7835922241211 23.439710617065657, 88.7822494506836 23.438800811767692, 88.78089904785173 23.436300277710018, 88.78018951416021 23.435850143432788, 88.77797698974621 23.43586921691923, 88.77513122558588 23.437789916992188, 88.77350616455084 23.439229965210075, 88.77350616455084 23.43966865539562, 88.77304077148432 23.439659118652457, 88.77304077148432 23.440130233764705, 88.77008819580101 23.443258285522404, 88.76985931396484 23.443519592285327, 88.7688369750976 23.443740844726562, 88.76529693603521 23.442810058593977, 88.76442718505888 23.442110061645735, 88.76299285888672 23.43781280517578, 88.76036071777366 23.423561096191634, 88.75740814209001 23.41900825500511, 88.75840759277344 23.412918090820426, 88.75942993164068 23.410182952880973, 88.75992584228516 23.409961700439567, 88.76042938232433 23.409730911254996, 88.76035308837896 23.408990859985465, 88.76004791259777 23.4058895111084, 88.75882720947271 23.403079986572322, 88.75830078125028 23.40186119079584, 88.75820922851562 23.401580810546875, 88.75698852539091 23.401119232177734, 88.75444793701195 23.39908027648937, 88.75308227539068 23.397720336914006, 88.75260162353544 23.395441055298136, 88.75292968750023 23.389568328857706, 88.7534790039063 23.387441635132063, 88.75733947753935 23.382080078124943, 88.75817108154314 23.379610061645792, 88.75868225097685 23.379381179809627, 88.75955963134766 23.375070571899357, 88.76035308837896 23.37124061584484, 88.7608108520509 23.3710098266601, 88.76114654541021 23.370843887329215, 88.76127624511719 23.370780944824503, 88.7620773315432 23.369119644165323, 88.76261138916016 23.36800956726097, 88.76278686523438 23.36763191223139, 88.76230621337919 23.361749649048022, 88.75936889648438 23.359001159667912, 88.75791168212919 23.35832023620617, 88.75569915771501 23.358520507812727, 88.75486755371122 23.35881805419922, 88.75354766845732 23.35924911499052, 88.7529983520509 23.359430313110295, 88.75019836425781 23.358060836791992, 88.74970245361334 23.358060836791992, 88.7495727539062 23.357629776001033, 88.74740600585943 23.35057067871122, 88.74691772460955 23.350111007690487, 88.74652862548822 23.350040435791072, 88.74317932128912 23.34947967529297, 88.74243164062523 23.34877014160179, 88.74046325683611 23.349229812622127, 88.73645019531267 23.34862327575695, 88.7335586547851 23.34630012512224, 88.73358154296892 23.343059539795036, 88.73417663574219 23.341249465942496, 88.73764038085943 23.338542938232422, 88.73777008056658 23.338090896606616, 88.73789215087919 23.337619781494368, 88.73803710937506 23.331510543823413, 88.73699188232416 23.329259872436523, 88.73658752441418 23.328350067138956, 88.73673248291021 23.32632064819353, 88.73760986328125 23.325969696044922, 88.73880004882818 23.32549285888672, 88.74120330810564 23.323749542236442, 88.74482727050798 23.321132659912053, 88.74632263183605 23.319549560547046, 88.74693298339861 23.317979812622184, 88.74730682373064 23.314359664916992, 88.74709320068354 23.313560485840128, 88.746078491211 23.309801101684855, 88.74365234375011 23.30663108825695, 88.74217224121111 23.30616950988798, 88.73999786376982 23.30661964416521, 88.73581695556669 23.30842018127447, 88.73581695556669 23.308889389038143, 88.73539733886724 23.30912971496582, 88.73507690429682 23.30931282043457, 88.73461914062523 23.31067085266136, 88.73413085937494 23.310901641845703, 88.73236846923857 23.315629959106673, 88.73087310791027 23.316780090332088, 88.72843170166033 23.31698989868164, 88.72695922851568 23.31675910949707, 88.72609710693371 23.31606101989763, 88.72561645507818 23.314701080322266, 88.7252807617188 23.31159973144554, 88.72525024414068 23.31132125854498, 88.72625732421903 23.310640335083008, 88.7277221679688 23.309280395507812, 88.72749328613298 23.30632972717291, 88.72664642334013 23.304510116577205, 88.72577667236345 23.303619384765682, 88.72544097900396 23.3010311126709, 88.7227630615235 23.299022674560547, 88.72106933593773 23.29895019531267, 88.71671295166044 23.29998970031761, 88.71644592285156 23.30067062377941, 88.71523284912121 23.300430297851676, 88.71449279785173 23.30067062377941, 88.7132492065432 23.30227279663086, 88.7120971679688 23.303760528564567, 88.70968627929716 23.30863189697277, 88.70732116699224 23.307100296020565, 88.70382690429705 23.304849624633903, 88.69992828369169 23.301481246948356, 88.69740295410162 23.29648017883295, 88.69677734375017 23.29285049438488, 88.69715881347673 23.29173088073736, 88.69766235351591 23.291509628296126, 88.69766235351591 23.291048049926985, 88.69937896728544 23.289680480957088, 88.70353698730474 23.28812980651867, 88.70651245117205 23.288801193237305, 88.70823669433594 23.28791046142578, 88.71099853515653 23.28181076049833, 88.71148681640625 23.281578063964844, 88.7127761840822 23.27865982055664, 88.71402740478521 23.276861190795955, 88.71486663818354 23.275270462036417, 88.71537780761747 23.275270462036417, 88.71537780761747 23.274820327759016, 88.71586608886719 23.27367973327648, 88.71733856201166 23.272539138794173, 88.72249603271479 23.270538330078125, 88.7237167358399 23.269630432129134, 88.72376251220709 23.263959884643498, 88.71958923339872 23.261230468750227, 88.71885681152355 23.25987052917486, 88.71885681152355 23.25626182556158, 88.72035980224638 23.252662658691634, 88.72086334228521 23.252649307251147, 88.7211227416995 23.251960754394815, 88.72527313232445 23.249259948730526, 88.73121643066435 23.247680664062727, 88.73137664794945 23.247591018676815, 88.73204803466814 23.247390747070426, 88.73419189453125 23.245920181274528, 88.74711608886736 23.2373695373538, 88.74961853027361 23.23678016662592, 88.7498703002932 23.235290527343977, 88.7454681396485 23.232200622558594, 88.73525238037121 23.232450485229776, 88.73089599609392 23.237710952758903, 88.72218322753912 23.238319396972656, 88.72012329101585 23.2373104095459, 88.71845245361357 23.23308944702171, 88.71298217773455 23.23553276062023, 88.70894622802729 23.232910156250114, 88.70781707763689 23.221731185913143, 88.70437622070307 23.216430664062557, 88.7045211791995 23.213359832763786, 88.71315765380876 23.21187973022478, 88.71467590332026 23.210000991821346, 88.71544647216814 23.19347000122076, 88.71652984619169 23.186450958252067, 88.71704864501959 23.183710098266715, 88.71951293945318 23.181880950927848, 88.71893310546875 23.179750442504826, 88.71470642089861 23.179161071777514, 88.7137527465822 23.174360275268555, 88.71806335449247 23.174949645996094, 88.71710205078153 23.170200347900447, 88.71237945556635 23.169790267944336, 88.71029663085955 23.16780090332037, 88.70899963378906 23.1678600311281, 88.71247863769537 23.16319084167486, 88.70990753173822 23.162120819091797, 88.70633697509766 23.16452980041521, 88.70477294921892 23.163209915161133, 88.69853973388678 23.16403961181652, 88.69677734375017 23.161270141601562, 88.6979904174807 23.159339904785156, 88.69758605957037 23.157199859619368, 88.69822692871122 23.154590606689737, 88.69422149658232 23.15162086486839, 88.70347595214844 23.13336944580078, 88.69969940185553 23.128190994262752, 88.69953918457037 23.125352859497355, 88.69551086425804 23.1216411590579, 88.69361877441412 23.114408493042106, 88.69403076171903 23.108720779419002, 88.68325805664062 23.10692024230974, 88.68068695068388 23.10539054870611, 88.68356323242199 23.101818084716967, 88.67984771728521 23.09543037414562, 88.67665863037138 23.09407997131376, 88.67489624023443 23.091360092163086, 88.67774200439459 23.08710098266596, 88.67875671386747 23.08460998535179, 88.6826477050783 23.075109481811637, 88.68253326416021 23.069549560547102, 88.68766021728521 23.063629150390852, 88.690971374512 23.064760208129883, 88.69428253173845 23.06454277038597, 88.69544982910173 23.062150955200423, 88.69467926025408 23.060131072998104, 88.69138336181652 23.05808067321783, 88.68650817871094 23.052680969238224, 88.68128204345714 23.05035972595215, 88.68415069580072 23.047550201416072, 88.68297576904325 23.045640945434684, 88.68016052246111 23.045450210571403, 88.6851577758789 23.02283096313471, 88.68356323242199 23.01844024658226, 88.68009948730497 23.01667976379389, 88.67912292480474 23.012809753417912, 88.67296600341797 23.01218032836931, 88.67384338378918 23.003868103027344, 88.6771469116211 23.00163078308111, 88.67614746093744 22.99792098999046, 88.67620849609375 22.99559974670433, 88.67063903808611 22.99341964721708, 88.66591644287115 22.990159988403263, 88.6608963012697 22.980150222778548, 88.66085052490263 22.967599868774528, 88.66230010986334 22.95463943481468, 88.66181182861357 22.94838905334467, 88.66925048828153 22.9439506530764, 88.67695617675781 22.94140815734886, 88.67311859130876 22.93659973144554, 88.66629791259771 22.938510894775504, 88.66145324707026 22.93579101562517, 88.65548706054716 22.934099197387695, 88.6604766845706 22.925489425659407, 88.65470123291038 22.918251037597656, 88.65458679199213 22.913841247558594, 88.6573333740235 22.903560638427848, 88.66403961181663 22.897502899170036, 88.66588592529314 22.89130973815918, 88.66887664794933 22.885940551758097, 88.66548919677751 22.880912780761946, 88.65612792968767 22.870950698852482, 88.65476226806652 22.87730979919462, 88.6504211425783 22.881122589111328, 88.6426620483399 22.879610061645735, 88.64186096191406 22.877239227295036, 88.63211822509783 22.877000808715934, 88.62133026123053 22.877801895141715, 88.61868286132841 22.88132095336914, 88.61782073974626 22.892360687255803, 88.61235046386741 22.89842987060547, 88.61073303222673 22.901609420776367, 88.60305023193388 22.901201248169002, 88.6006927490235 22.90518951416027, 88.5880432128908 22.90765190124523, 88.58300781250028 22.905559539795092, 88.57853698730469 22.909032821655444, 88.56730651855474 22.910921096801815, 88.56379699707026 22.917100906372184, 88.56189727783197 22.91409111022955, 88.55786132812528 22.918012619018555, 88.55177307128918 22.916677474975586, 88.54383087158203 22.922210693359318, 88.5269317626956 22.928031921386946, 88.52303314208984 22.92766761779785, 88.52060699462913 22.928470611572266, 88.51653289794939 22.92752838134777, 88.5118026733399 22.931060791015852, 88.51188659667997 22.937601089477766, 88.50704956054693 22.939960479736385, 88.50538635253935 22.939029693603572, 88.49433135986357 22.933860778808594, 88.48758697509771 22.932390213012695, 88.47447967529325 22.931390762329215, 88.46658325195312 22.94136047363304, 88.46024322509783 22.947080612182674, 88.43456268310553 22.94869041442871, 88.42247772216814 22.952949523925952, 88.4141769409182 22.9491615295413, 88.41358184814459 22.941530227661076, 88.40808105468773 22.942270278930778, 88.40795898437511 22.951469421386946, 88.40676116943365 22.962329864502237, 88.40323638916033 22.97290992736822, 88.40352630615263 22.982641220092773, 88.40643310546886 22.990051269531307, 88.41069030761719 22.997940063476506, 88.41265869140648 23.0071697235108, 88.4154357910158 23.012760162353516, 88.42176818847656 23.019502639770792, 88.4283828735351 23.022800445556754, 88.43287658691429 23.023920059204045, 88.4405899047851 23.024549484253214, 88.44653320312517 23.02787017822277, 88.45198822021513 23.033859252929688, 88.45581054687528 23.041469573974723, 88.45790863037138 23.05890083313011, 88.46050262451178 23.06827163696289, 88.46634674072283 23.077611923217717, 88.47151184082048 23.08029174804716, 88.476318359375 23.07978057861328, 88.48309326171903 23.077051162719783, 88.49037933349626 23.07604026794445, 88.49595642089844 23.078540802001953, 88.50115966796898 23.083419799804858, 88.5042877197265 23.091220855712947, 88.50447845458979 23.098579406738338, 88.50274658203136 23.10497283935564, 88.5016860961914 23.11331939697277, 88.49903106689459 23.121290206909123, 88.48848724365251 23.127250671386662, 88.46656799316423 23.12745094299345, 88.45553588867193 23.12849044799799, 88.45157623291021 23.131128311157227, 88.44941711425781 23.137420654296875, 88.44943237304693 23.14484024047863, 88.45343017578125 23.15970039367687, 88.45630645751959 23.166570663452376, 88.46180725097656 23.184671401977823, 88.47233581542974 23.207061767578352, 88.47165679931652 23.213209152221793, 88.469009399414 23.21920967102062, 88.46349334716814 23.223199844360636, 88.45616912841825 23.22507095336914, 88.44827270507812 23.22299957275385, 88.43801116943365 23.219089508056584, 88.4214630126956 23.211240768432674, 88.41606140136724 23.209470748901367, 88.40876007080095 23.208810806274414, 88.40296936035185 23.209440231323413, 88.38337707519548 23.216920852661246, 88.37275695800787 23.224790573120174, 88.36004638671903 23.231109619140852, 88.35415649414091 23.23497009277355, 88.35250091552751 23.238821029663256, 88.35385131835938 23.24279975891119, 88.36136627197271 23.25138092041044, 88.36067199707026 23.253820419311808, 88.35401916503923 23.26317024230957, 88.34971618652366 23.274040222168026, 88.34938812255888 23.27820968627941, 88.33844757080084 23.276920318603686, 88.33174133300781 23.279350280761946, 88.33170318603533 23.28283119201683, 88.3338470458985 23.28942108154297, 88.34089660644531 23.289360046386832, 88.34662628173834 23.287160873413143, 88.34776306152344 23.288600921631087, 88.34223175048828 23.296470642090014, 88.33827972412115 23.30051994323736, 88.32688903808605 23.309829711914062, 88.32581329345703 23.313079833984375, 88.327377319336 23.319561004638786, 88.33040618896484 23.321622848510742, 88.33402252197266 23.3228702545166, 88.33545684814482 23.32826042175293, 88.32982635498047 23.327369689941577, 88.33495330810564 23.33724021911638, 88.34163665771501 23.337139129638786, 88.34377288818365 23.343891143798828, 88.33129119873041 23.349679946899528, 88.32804870605463 23.355800628662223, 88.32907104492188 23.363609313965014, 88.33818817138689 23.374090194702376, 88.34850311279314 23.381008148193473, 88.35307312011736 23.386890411377067, 88.3557205200197 23.393238067626896, 88.35485076904303 23.40200042724632, 88.35146331787138 23.408639907836857, 88.34491729736334 23.411649703979492, 88.33846282959007 23.4100284576416, 88.32903289794939 23.409759521484546, 88.32832336425787 23.414640426635685, 88.33464813232445 23.415920257568473, 88.33970642089861 23.421270370483512, 88.34918975830107 23.425479888916016, 88.34844207763683 23.43053054809576, 88.34523773193376 23.430210113525504, 88.34214019775419 23.431680679321573, 88.3448562622072 23.44082069396984, 88.3441390991211 23.442850112915266, 88.33963012695341 23.44676971435564, 88.33849334716825 23.452011108398494, 88.34039306640653 23.45292091369646, 88.35134124755876 23.45409965515148, 88.35587310791044 23.452150344848803, 88.36022186279303 23.454500198364485, 88.36617279052763 23.455432891845703, 88.36470031738298 23.45718002319336, 88.35994720459001 23.45813941955572, 88.3568496704101 23.46100807189947, 88.35946655273466 23.465110778808594, 88.36412811279314 23.46744155883789, 88.36225128173828 23.472101211547965, 88.36176300048857 23.47540283203125, 88.37909698486334 23.4862709045413, 88.38764953613287 23.494430541992188, 88.38754272460949 23.497671127319336, 88.38577270507818 23.501750946045036, 88.38214111328148 23.505950927734602, 88.37744903564447 23.51127052307129, 88.37120056152361 23.516490936279297, 88.36727905273443 23.524410247802848, 88.36479187011724 23.525360107421875, 88.36151885986334 23.52850914001459, 88.35788726806646 23.540718078613395, 88.35621643066412 23.541149139404524, 88.35482788085943 23.540178298950252, 88.3507461547851 23.543159484863338, 88.34617614746088 23.54507064819336, 88.32895660400419 23.543989181518725, 88.32074737548857 23.54718971252464, 88.31720733642595 23.54572105407715, 88.31707000732428 23.54409027099632, 88.31394958496111 23.543710708618335, 88.307426452637 23.5381507873538, 88.29483032226591 23.540279388427848, 88.29228973388678 23.538909912109375, 88.29157257080107 23.535499572754134, 88.28483581542974 23.536769866943416, 88.27897644042997 23.534088134765568, 88.27487182617205 23.534650802612475, 88.27300262451178 23.542961120605696, 88.27307128906278 23.549451828003214, 88.27535247802763 23.556800842285156, 88.2871704101563 23.556520462036133, 88.29222869873064 23.557052612304915, 88.29817199707031 23.56036949157709, 88.30664825439482 23.56279182434082, 88.317626953125 23.57069969177263, 88.32100677490251 23.572298049926758, 88.31970214843767 23.576999664306868, 88.31556701660179 23.583370208740348, 88.31259155273449 23.586231231689567, 88.30065155029297 23.58111000061035, 88.28572845459001 23.573459625244254, 88.2829208374024 23.574880599975586, 88.2829208374024 23.579750061035384, 88.28507995605497 23.583379745483455, 88.28008270263678 23.587890625, 88.2808685302735 23.598440170288143, 88.27902221679699 23.602390289306697, 88.27702331542974 23.602060317993164, 88.27504730224626 23.592920303344897, 88.26727294921875 23.596809387207315, 88.26487731933622 23.60685920715332, 88.261489868164 23.613561630249137, 88.25782012939482 23.615320205688533, 88.25537109375011 23.61413002014183, 88.25150299072271 23.615781784057674, 88.2401962280274 23.613201141357422, 88.22911834716797 23.61224937438959, 88.2242126464846 23.60503005981468, 88.21980285644537 23.602571487427042, 88.21405029296875 23.60280036926264, 88.21028137207054 23.60729026794428, 88.20220184326189 23.61378288269043, 88.19505310058622 23.61785125732439, 88.17354583740246 23.616510391235465, 88.16429901123053 23.618141174316463, 88.15273284912138 23.6251811981204, 88.15069580078142 23.629489898681697, 88.14901733398438 23.637269973754996, 88.13963317871111 23.64379119873064, 88.1341323852539 23.649789810180664, 88.13318634033203 23.6569309234622, 88.13765716552763 23.672660827636946, 88.14200592041038 23.682960510254134, 88.149642944336 23.693689346313704, 88.15792846679705 23.70331192016613, 88.16387176513689 23.708370208740234, 88.17160797119169 23.710279464721623, 88.18170166015653 23.711532592773438, 88.18255615234392 23.70980262756342, 88.18607330322271 23.70878982543968, 88.1994018554688 23.708391189575252, 88.22371673583979 23.702800750732365, 88.22592926025413 23.70406150817894, 88.22969818115234 23.704269409179688, 88.23206329345732 23.708480834960938, 88.23214721679705 23.711671829223917, 88.23013305664068 23.71533966064453, 88.22608947753912 23.71879005432129, 88.20966339111328 23.723911285400504, 88.20461273193388 23.72626113891596, 88.2002563476562 23.724269866943416, 88.19744873046875 23.725692749023494, 88.19225311279291 23.73175048828125, 88.19159698486351 23.73426055908226, 88.19583892822294 23.74065017700218, 88.19153594970703 23.747882843017805, 88.19246673584001 23.754198074340934, 88.1934585571289 23.76274108886747, 88.19918060302734 23.76429939270031, 88.20292663574213 23.764320373535156, 88.2084426879884 23.76276969909685, 88.2133178710938 23.75798034667997, 88.21820831298845 23.754520416259936, 88.22577667236357 23.754110336303995, 88.23551940917997 23.75653076171875, 88.23899841308611 23.760040283203182, 88.23983764648443 23.76345062255882, 88.23557281494158 23.774272918701286, 88.23343658447277 23.79151916503912, 88.23393249511741 23.795110702514762, 88.23634338378923 23.796649932861328, 88.24365997314476 23.797639846801985, 88.25131988525419 23.79845046997093, 88.25506591796875 23.797660827636832, 88.25871276855474 23.802680969238452, 88.26570892334001 23.80574989318842, 88.26766967773443 23.807819366455135, 88.27194213867216 23.804069519043196, 88.27488708496094 23.804109573364485, 88.2902374267581 23.801309585571403, 88.29535675048851 23.806890487671126, 88.29934692382818 23.805931091308594, 88.30493927001982 23.807170867919922, 88.31208038330078 23.80508041381836, 88.31687164306646 23.802370071411133, 88.32890319824224 23.805740356445312, 88.33582305908232 23.804700851440373, 88.33775329589872 23.807580947876033, 88.34118652343778 23.808942794799805, 88.34749603271496 23.81631088256853, 88.35154724121111 23.82456970214855, 88.3564071655274 23.821050643921012, 88.3607177734375 23.82164955139183, 88.36376190185564 23.81876945495634, 88.36641693115251 23.819799423217944, 88.36709594726591 23.813190460205362, 88.3788681030274 23.8084392547608, 88.38491058349626 23.80913925170904, 88.38446044921903 23.814069747924975, 88.38642120361322 23.81672096252447, 88.4009170532226 23.81549072265625, 88.40673065185553 23.81590080261242, 88.40831756591825 23.81135940551775, 88.40689849853521 23.807489395141772, 88.40786743164068 23.804519653320597, 88.41021728515653 23.802410125732422, 88.41036224365257 23.798870086670036, 88.41474914550804 23.797849655151367, 88.42238616943382 23.80943107605009, 88.4283065795899 23.82080078125017, 88.43630981445335 23.84109115600586, 88.44010162353521 23.84859275817888, 88.44415283203153 23.850870132446346, 88.44709014892595 23.850030899048022, 88.45136260986334 23.845460891723633, 88.45449829101574 23.836910247802905, 88.45452880859392 23.833938598632812, 88.4490585327149 23.822639465332315, 88.44812011718756 23.817829132080078, 88.44873046875028 23.814760208129883, 88.45973205566412 23.817899703979492, 88.47322082519548 23.817369461059684, 88.4740829467774 23.822990417480526, 88.47104644775419 23.83176994323742, 88.47371673584013 23.844839096069563, 88.47358703613276 23.855230331421012, 88.46331024169939 23.879741668701286, 88.46248626709013 23.88421058654808, 88.46598052978533 23.88819122314476, 88.47827148437523 23.89821052551298, 88.48336029052734 23.898750305175895, 88.49800872802751 23.881961822509766, 88.50263214111328 23.88128280639677, 88.50714111328136 23.88558006286621, 88.5077896118164 23.892650604248274, 88.5058059692384 23.899980545043945, 88.49991607666033 23.905889511108455, 88.47657775878935 23.910980224609318, 88.46717071533209 23.913970947265682, 88.4579315185548 23.918470382690657, 88.455551147461 23.92244148254423, 88.4575576782226 23.927980422973746, 88.46650695800793 23.935840606689737, 88.47245025634783 23.936370849609375, 88.48111724853521 23.93244934082037, 88.48700714111334 23.93244934082037, 88.49124145507835 23.93613052368164, 88.49421691894548 23.947120666504134, 88.50113677978521 23.94524955749523, 88.504150390625 23.945220947265852, 88.50611114501976 23.948160171508846, 88.50672149658232 23.952320098876953, 88.51000976562494 23.952302932739485, 88.51493835449247 23.949052810668945, 88.51825714111345 23.945890426635742, 88.52076721191412 23.952310562134016, 88.52097320556646 23.964071273803768, 88.51568603515653 23.975032806396484, 88.50950622558594 23.98146057128929, 88.50904083251964 23.986860275268555, 88.51335906982445 23.990240097046183, 88.52848052978544 23.987880706787166, 88.53225708007818 23.98924064636236, 88.53856658935575 23.993461608886946, 88.54219818115263 23.999139785766715, 88.54308319091803 24.00426101684576, 88.54783630371094 24.01836013793968, 88.54821014404297 24.024761199951115, 88.54617309570335 24.034429550171126, 88.54685974121111 24.036331176757983, 88.55013275146484 24.038970947265568, 88.56107330322294 24.036720275878906, 88.56439971923845 24.034469604492415, 88.5808181762697 24.02646064758318, 88.58558654785173 24.022029876709098, 88.5879669189456 24.017250061035327, 88.5879669189456 24.009338378906307, 88.58895874023449 24.005920410156364, 88.59282684326189 23.999120712280273, 88.5965270996096 23.99393844604515, 88.61173248291016 23.980552673339957, 88.61667633056658 23.978240966796932, 88.62174987792997 23.978179931640625, 88.62708282470732 23.98101806640642, 88.63421630859392 23.988769531250284, 88.63929748535185 23.999099731445256, 88.64716339111345 24.005689620971964, 88.64897155761741 24.010839462280558, 88.64856719970709 24.015119552612305, 88.64640808105486 24.01804924011236, 88.63033294677763 24.02289009094261, 88.62901306152355 24.027191162109375, 88.63149261474621 24.033727645874308, 88.63960266113287 24.04255104064947, 88.64451599121111 24.050060272216854, 88.64689636230474 24.06143951416044, 88.6498794555664 24.06777000427246, 88.65136718750017 24.070060729980412, 88.65471649169928 24.071420669555778, 88.66474914550781 24.072082519531307, 88.66870117187494 24.075691223144588, 88.67642211914068 24.075349807739485, 88.67974853515636 24.076271057128963, 88.6803359985351 24.07965087890625, 88.66921997070341 24.080760955810604, 88.66706848144537 24.08167076110857, 88.66790771484403 24.083660125732706, 88.68017578125017 24.08612060546875, 88.68833923339855 24.089290618896484, 88.69467926025408 24.09043121337919, 88.70388793945318 24.093769073486612, 88.70464324951178 24.09400939941412, 88.71028137207026 24.098091125488224, 88.71372985839861 24.099010467529297, 88.72161102294928 24.09951019287132, 88.72558593750017 24.09589004516613, 88.7259597778322 24.094539642334098, 88.72460937500017 24.089099884033203, 88.72448730468756 24.083410263061523, 88.72438049316418 24.07718849182146))\"\n        ],\n        \"semantic_type\": \"\",\n        \"description\": \"\"\n      }\n    }\n  ]\n}"
            }
          },
          "metadata": {},
          "execution_count": 9
        }
      ]
    },
    {
      "cell_type": "code",
      "source": [
        "# Filter the 'Bankura' district from the geodataframe\n",
        "roi_gdf = wb_gdf[wb_gdf['NAME']==\"Bankura\"]\n",
        "roi_gdf"
      ],
      "metadata": {
        "colab": {
          "base_uri": "https://localhost:8080/",
          "height": 89
        },
        "id": "RqFgtywgB53Y",
        "outputId": "b0b339cb-ed31-463d-9df7-726a5e76b84e"
      },
      "execution_count": 10,
      "outputs": [
        {
          "output_type": "display_data",
          "data": {
            "text/plain": [
              "<IPython.core.display.HTML object>"
            ],
            "text/html": [
              "\n",
              "            <style>\n",
              "                .geemap-dark {\n",
              "                    --jp-widgets-color: white;\n",
              "                    --jp-widgets-label-color: white;\n",
              "                    --jp-ui-font-color1: white;\n",
              "                    --jp-layout-color2: #454545;\n",
              "                    background-color: #383838;\n",
              "                }\n",
              "                    \n",
              "                .geemap-dark .jupyter-button {\n",
              "                    --jp-layout-color3: #383838;\n",
              "                }\n",
              "                \n",
              "                .geemap-colab {\n",
              "                    background-color: var(--colab-primary-surface-color, white);\n",
              "                }\n",
              "                    \n",
              "                .geemap-colab .jupyter-button {\n",
              "                    --jp-layout-color3: var(--colab-primary-surface-color, white);\n",
              "                }\n",
              "            </style>\n",
              "            "
            ]
          },
          "metadata": {}
        },
        {
          "output_type": "execute_result",
          "data": {
            "text/plain": [
              "            GM_LAYER     NAME NAME_0       NAME_1  \\\n",
              "6  Unknown Area Type  Bankura  India  West Bengal   \n",
              "\n",
              "                                            geometry  \n",
              "6  POLYGON ((86.89942 23.63156, 86.91116 23.62734...  "
            ],
            "text/html": [
              "\n",
              "  <div id=\"df-1830c3a5-f56d-48c8-a755-231127bf4eeb\" class=\"colab-df-container\">\n",
              "    <div>\n",
              "<style scoped>\n",
              "    .dataframe tbody tr th:only-of-type {\n",
              "        vertical-align: middle;\n",
              "    }\n",
              "\n",
              "    .dataframe tbody tr th {\n",
              "        vertical-align: top;\n",
              "    }\n",
              "\n",
              "    .dataframe thead th {\n",
              "        text-align: right;\n",
              "    }\n",
              "</style>\n",
              "<table border=\"1\" class=\"dataframe\">\n",
              "  <thead>\n",
              "    <tr style=\"text-align: right;\">\n",
              "      <th></th>\n",
              "      <th>GM_LAYER</th>\n",
              "      <th>NAME</th>\n",
              "      <th>NAME_0</th>\n",
              "      <th>NAME_1</th>\n",
              "      <th>geometry</th>\n",
              "    </tr>\n",
              "  </thead>\n",
              "  <tbody>\n",
              "    <tr>\n",
              "      <th>6</th>\n",
              "      <td>Unknown Area Type</td>\n",
              "      <td>Bankura</td>\n",
              "      <td>India</td>\n",
              "      <td>West Bengal</td>\n",
              "      <td>POLYGON ((86.89942 23.63156, 86.91116 23.62734...</td>\n",
              "    </tr>\n",
              "  </tbody>\n",
              "</table>\n",
              "</div>\n",
              "    <div class=\"colab-df-buttons\">\n",
              "\n",
              "  <div class=\"colab-df-container\">\n",
              "    <button class=\"colab-df-convert\" onclick=\"convertToInteractive('df-1830c3a5-f56d-48c8-a755-231127bf4eeb')\"\n",
              "            title=\"Convert this dataframe to an interactive table.\"\n",
              "            style=\"display:none;\">\n",
              "\n",
              "  <svg xmlns=\"http://www.w3.org/2000/svg\" height=\"24px\" viewBox=\"0 -960 960 960\">\n",
              "    <path d=\"M120-120v-720h720v720H120Zm60-500h600v-160H180v160Zm220 220h160v-160H400v160Zm0 220h160v-160H400v160ZM180-400h160v-160H180v160Zm440 0h160v-160H620v160ZM180-180h160v-160H180v160Zm440 0h160v-160H620v160Z\"/>\n",
              "  </svg>\n",
              "    </button>\n",
              "\n",
              "  <style>\n",
              "    .colab-df-container {\n",
              "      display:flex;\n",
              "      gap: 12px;\n",
              "    }\n",
              "\n",
              "    .colab-df-convert {\n",
              "      background-color: #E8F0FE;\n",
              "      border: none;\n",
              "      border-radius: 50%;\n",
              "      cursor: pointer;\n",
              "      display: none;\n",
              "      fill: #1967D2;\n",
              "      height: 32px;\n",
              "      padding: 0 0 0 0;\n",
              "      width: 32px;\n",
              "    }\n",
              "\n",
              "    .colab-df-convert:hover {\n",
              "      background-color: #E2EBFA;\n",
              "      box-shadow: 0px 1px 2px rgba(60, 64, 67, 0.3), 0px 1px 3px 1px rgba(60, 64, 67, 0.15);\n",
              "      fill: #174EA6;\n",
              "    }\n",
              "\n",
              "    .colab-df-buttons div {\n",
              "      margin-bottom: 4px;\n",
              "    }\n",
              "\n",
              "    [theme=dark] .colab-df-convert {\n",
              "      background-color: #3B4455;\n",
              "      fill: #D2E3FC;\n",
              "    }\n",
              "\n",
              "    [theme=dark] .colab-df-convert:hover {\n",
              "      background-color: #434B5C;\n",
              "      box-shadow: 0px 1px 3px 1px rgba(0, 0, 0, 0.15);\n",
              "      filter: drop-shadow(0px 1px 2px rgba(0, 0, 0, 0.3));\n",
              "      fill: #FFFFFF;\n",
              "    }\n",
              "  </style>\n",
              "\n",
              "    <script>\n",
              "      const buttonEl =\n",
              "        document.querySelector('#df-1830c3a5-f56d-48c8-a755-231127bf4eeb button.colab-df-convert');\n",
              "      buttonEl.style.display =\n",
              "        google.colab.kernel.accessAllowed ? 'block' : 'none';\n",
              "\n",
              "      async function convertToInteractive(key) {\n",
              "        const element = document.querySelector('#df-1830c3a5-f56d-48c8-a755-231127bf4eeb');\n",
              "        const dataTable =\n",
              "          await google.colab.kernel.invokeFunction('convertToInteractive',\n",
              "                                                    [key], {});\n",
              "        if (!dataTable) return;\n",
              "\n",
              "        const docLinkHtml = 'Like what you see? Visit the ' +\n",
              "          '<a target=\"_blank\" href=https://colab.research.google.com/notebooks/data_table.ipynb>data table notebook</a>'\n",
              "          + ' to learn more about interactive tables.';\n",
              "        element.innerHTML = '';\n",
              "        dataTable['output_type'] = 'display_data';\n",
              "        await google.colab.output.renderOutput(dataTable, element);\n",
              "        const docLink = document.createElement('div');\n",
              "        docLink.innerHTML = docLinkHtml;\n",
              "        element.appendChild(docLink);\n",
              "      }\n",
              "    </script>\n",
              "  </div>\n",
              "\n",
              "\n",
              "  <div id=\"id_544efdb1-b238-4a76-8457-40a6eb07d3d7\">\n",
              "    <style>\n",
              "      .colab-df-generate {\n",
              "        background-color: #E8F0FE;\n",
              "        border: none;\n",
              "        border-radius: 50%;\n",
              "        cursor: pointer;\n",
              "        display: none;\n",
              "        fill: #1967D2;\n",
              "        height: 32px;\n",
              "        padding: 0 0 0 0;\n",
              "        width: 32px;\n",
              "      }\n",
              "\n",
              "      .colab-df-generate:hover {\n",
              "        background-color: #E2EBFA;\n",
              "        box-shadow: 0px 1px 2px rgba(60, 64, 67, 0.3), 0px 1px 3px 1px rgba(60, 64, 67, 0.15);\n",
              "        fill: #174EA6;\n",
              "      }\n",
              "\n",
              "      [theme=dark] .colab-df-generate {\n",
              "        background-color: #3B4455;\n",
              "        fill: #D2E3FC;\n",
              "      }\n",
              "\n",
              "      [theme=dark] .colab-df-generate:hover {\n",
              "        background-color: #434B5C;\n",
              "        box-shadow: 0px 1px 3px 1px rgba(0, 0, 0, 0.15);\n",
              "        filter: drop-shadow(0px 1px 2px rgba(0, 0, 0, 0.3));\n",
              "        fill: #FFFFFF;\n",
              "      }\n",
              "    </style>\n",
              "    <button class=\"colab-df-generate\" onclick=\"generateWithVariable('roi_gdf')\"\n",
              "            title=\"Generate code using this dataframe.\"\n",
              "            style=\"display:none;\">\n",
              "\n",
              "  <svg xmlns=\"http://www.w3.org/2000/svg\" height=\"24px\"viewBox=\"0 0 24 24\"\n",
              "       width=\"24px\">\n",
              "    <path d=\"M7,19H8.4L18.45,9,17,7.55,7,17.6ZM5,21V16.75L18.45,3.32a2,2,0,0,1,2.83,0l1.4,1.43a1.91,1.91,0,0,1,.58,1.4,1.91,1.91,0,0,1-.58,1.4L9.25,21ZM18.45,9,17,7.55Zm-12,3A5.31,5.31,0,0,0,4.9,8.1,5.31,5.31,0,0,0,1,6.5,5.31,5.31,0,0,0,4.9,4.9,5.31,5.31,0,0,0,6.5,1,5.31,5.31,0,0,0,8.1,4.9,5.31,5.31,0,0,0,12,6.5,5.46,5.46,0,0,0,6.5,12Z\"/>\n",
              "  </svg>\n",
              "    </button>\n",
              "    <script>\n",
              "      (() => {\n",
              "      const buttonEl =\n",
              "        document.querySelector('#id_544efdb1-b238-4a76-8457-40a6eb07d3d7 button.colab-df-generate');\n",
              "      buttonEl.style.display =\n",
              "        google.colab.kernel.accessAllowed ? 'block' : 'none';\n",
              "\n",
              "      buttonEl.onclick = () => {\n",
              "        google.colab.notebook.generateWithVariable('roi_gdf');\n",
              "      }\n",
              "      })();\n",
              "    </script>\n",
              "  </div>\n",
              "\n",
              "    </div>\n",
              "  </div>\n"
            ],
            "application/vnd.google.colaboratory.intrinsic+json": {
              "type": "dataframe",
              "variable_name": "roi_gdf",
              "summary": "{\n  \"name\": \"roi_gdf\",\n  \"rows\": 1,\n  \"fields\": [\n    {\n      \"column\": \"GM_LAYER\",\n      \"properties\": {\n        \"dtype\": \"string\",\n        \"num_unique_values\": 1,\n        \"samples\": [\n          \"Unknown Area Type\"\n        ],\n        \"semantic_type\": \"\",\n        \"description\": \"\"\n      }\n    },\n    {\n      \"column\": \"NAME\",\n      \"properties\": {\n        \"dtype\": \"string\",\n        \"num_unique_values\": 1,\n        \"samples\": [\n          \"Bankura\"\n        ],\n        \"semantic_type\": \"\",\n        \"description\": \"\"\n      }\n    },\n    {\n      \"column\": \"NAME_0\",\n      \"properties\": {\n        \"dtype\": \"string\",\n        \"num_unique_values\": 1,\n        \"samples\": [\n          \"India\"\n        ],\n        \"semantic_type\": \"\",\n        \"description\": \"\"\n      }\n    },\n    {\n      \"column\": \"NAME_1\",\n      \"properties\": {\n        \"dtype\": \"string\",\n        \"num_unique_values\": 1,\n        \"samples\": [\n          \"West Bengal\"\n        ],\n        \"semantic_type\": \"\",\n        \"description\": \"\"\n      }\n    },\n    {\n      \"column\": \"geometry\",\n      \"properties\": {\n        \"dtype\": \"geometry\",\n        \"num_unique_values\": 1,\n        \"samples\": [\n          \"POLYGON ((86.89942169189482 23.631561279296818, 86.91116333007818 23.62734031677263, 86.92294311523455 23.63001060485857, 86.94941711425776 23.631469726562557, 86.96404266357428 23.625820159912337, 86.96971893310553 23.62638092041027, 86.98219299316435 23.629779815674, 86.98992156982422 23.630880355835075, 86.99465179443376 23.630979537963867, 87.00509643554699 23.631219863891545, 87.01226043701178 23.632240295410213, 87.017578125 23.628780364990348, 87.02799987792963 23.619621276855696, 87.03708648681646 23.616550445556925, 87.0577697753908 23.611669540405217, 87.06991577148466 23.601350784301985, 87.07905578613287 23.597280502319393, 87.08632659912138 23.59527015686058, 87.10381317138678 23.582700729370117, 87.1196060180664 23.573610305786246, 87.12742614746094 23.573261260986442, 87.1385421752932 23.56987953186058, 87.14646911621111 23.569009780884073, 87.15656280517572 23.56309127807623, 87.16229248046892 23.562259674072436, 87.18228912353527 23.562419891357365, 87.18856811523466 23.56158065795904, 87.20182800292969 23.554351806640625, 87.2092361450197 23.553379058837947, 87.23657989501976 23.529850006103516, 87.2501907348634 23.513629913330078, 87.25662231445318 23.50978851318365, 87.26228332519531 23.507690429687557, 87.2672729492188 23.504220962524585, 87.2710266113283 23.500762939453125, 87.2746658325197 23.495229721069563, 87.30326843261736 23.477899551391772, 87.31144714355486 23.473739624023494, 87.32995605468767 23.468090057373274, 87.3704757690432 23.439439773559798, 87.37917327880876 23.434059143066463, 87.38392639160173 23.4317302703858, 87.39617919921875 23.42882156372076, 87.40586090087908 23.425382614135742, 87.41941070556658 23.41541862487793, 87.4338073730471 23.4083194732666, 87.44230651855486 23.40294075012224, 87.45642089843767 23.38928031921381, 87.47292327880865 23.370580673217717, 87.48484039306658 23.360460281372298, 87.49621582031278 23.345689773559513, 87.50090789794928 23.34222030639654, 87.50956726074247 23.33838081359869, 87.5243759155274 23.329889297485522, 87.52831268310564 23.326019287109375, 87.53115844726557 23.32193756103527, 87.53788757324219 23.31629180908203, 87.54202270507824 23.31443977355974, 87.55622863769537 23.30686950683605, 87.55874633789068 23.30210113525402, 87.56059265136719 23.29636955261242, 87.56564331054716 23.28808975219738, 87.57795715332031 23.27947998046875, 87.58975982666033 23.267860412597827, 87.59831237792986 23.255502700805835, 87.60544586181646 23.250312805175952, 87.6287460327149 23.237609863281307, 87.63272094726568 23.23633003234869, 87.64953613281256 23.236190795898608, 87.6517562866211 23.23564910888672, 87.65273284912115 23.225200653076115, 87.65677642822288 23.218851089477482, 87.6500320434572 23.217870712280273, 87.64758300781256 23.213359832763786, 87.64642333984375 23.208391189575366, 87.64589691162132 23.195209503174112, 87.65043640136719 23.190631866455362, 87.65368652343756 23.185279846191406, 87.6589660644533 23.17262077331543, 87.6657409667971 23.164840698242188, 87.65876007080072 23.164911270141772, 87.66224670410156 23.15851020812994, 87.67159271240234 23.155691146850586, 87.67475128173857 23.1540203094483, 87.67755889892601 23.14590835571289, 87.68077850341803 23.14159011840826, 87.68675231933622 23.14211082458513, 87.68443298339866 23.12833976745617, 87.68337249755854 23.125118255615234, 87.68042755126976 23.121440887451115, 87.6827011108399 23.11955070495617, 87.68573760986334 23.121690750122127, 87.68885803222685 23.125610351562727, 87.69322967529325 23.12315940856962, 87.71508026123047 23.11681747436552, 87.71652221679716 23.113742828369197, 87.72355651855497 23.111648559570483, 87.72512817382824 23.115472793579045, 87.72976684570312 23.114290237427042, 87.72715759277366 23.120571136474837, 87.72749328613281 23.12482070922863, 87.73825073242216 23.111551284790266, 87.7446365356447 23.104919433593864, 87.74518585205095 23.102090835571573, 87.74201202392584 23.101110458374194, 87.74209594726574 23.099380493164176, 87.74613189697283 23.098501205444563, 87.75003814697288 23.09507942199707, 87.75396728515642 23.086320877075366, 87.75392150878918 23.077960968017578, 87.75988769531267 23.077392578125057, 87.7619705200197 23.072811126708984, 87.76138305664057 23.068609237671183, 87.75866699218778 23.066770553589038, 87.75467681884794 23.066667556762695, 87.75160980224638 23.064659118652628, 87.74151611328153 23.053268432617188, 87.74135589599604 23.049110412597656, 87.7423400878908 23.044162750244254, 87.73857879638678 23.03996086120611, 87.73983001708979 23.028142929077205, 87.73523712158214 23.02575111389166, 87.72515869140642 23.025651931762695, 87.71832275390625 23.02481079101574, 87.7192687988283 23.019699096679688, 87.71769714355463 23.01600074768089, 87.7097396850586 23.007570266723633, 87.70504760742193 23.011749267578352, 87.7007217407226 23.023170471191406, 87.6959609985351 23.021820068359375, 87.68614196777366 23.021360397338867, 87.68537902832054 23.020402908325252, 87.68775177001947 23.01540756225586, 87.69603729248053 23.015541076660156, 87.69748687744135 23.014190673828125, 87.69460296630871 23.009002685546818, 87.69441223144543 23.005781173706282, 87.69489288330084 23.001401901245345, 87.69727325439464 22.99771118164091, 87.69441986083996 22.99295043945324, 87.69210815429716 22.99157905578636, 87.68161773681669 22.989719390869368, 87.67514038085966 22.989740371704386, 87.67283630371122 22.98883056640625, 87.67167663574247 22.986000061035384, 87.65975189209001 22.984262466430664, 87.65422058105486 22.986761093139705, 87.6456909179688 22.987251281738224, 87.64125061035173 22.984500885009766, 87.64292144775402 22.98022079467779, 87.64376068115234 22.975080490112532, 87.64324188232428 22.965150833129996, 87.64781951904303 22.965490341186694, 87.65100860595703 22.962829589843864, 87.65202331542974 22.953239440918026, 87.6502532958985 22.93934059143072, 87.64779663085943 22.932931900024528, 87.64343261718756 22.928100585937614, 87.64369964599604 22.923139572143555, 87.64248657226568 22.91905021667486, 87.63115692138672 22.91844940185547, 87.62947082519537 22.917648315429688, 87.62645721435553 22.915809631347884, 87.62252807617182 22.90936088562023, 87.62111663818365 22.903829574585075, 87.62140655517595 22.90036964416504, 87.62306213378935 22.89937019348139, 87.62828063964861 22.900171279907397, 87.62953948974638 22.89773941040056, 87.6264266967774 22.89295959472662, 87.61827850341825 22.890792846679688, 87.61537170410162 22.888732910156477, 87.61355590820307 22.888330459594727, 87.60434722900419 22.889738082885685, 87.60279846191429 22.89084815979004, 87.59947967529314 22.895761489868164, 87.59133148193365 22.89158058166521, 87.58402252197283 22.896392822265682, 87.5831069946289 22.898639678955192, 87.58451080322294 22.90302276611351, 87.58284759521479 22.905162811279297, 87.57469940185547 22.90842056274431, 87.57132720947288 22.90872001647972, 87.57060241699247 22.910800933837947, 87.56352233886724 22.915550231933594, 87.56015014648432 22.915670394897575, 87.55674743652361 22.917631149291992, 87.55345153808622 22.918340682983512, 87.54866790771513 22.91842079162609, 87.54406738281256 22.920680999756087, 87.53766632080095 22.921220779419002, 87.52955627441429 22.926959991455305, 87.5252761840822 22.927721023559627, 87.52030944824236 22.927110671997298, 87.51750946044928 22.928039550781307, 87.51613616943376 22.927690505981673, 87.51570892333979 22.922960281372127, 87.51123046875006 22.920829772949332, 87.5079574584961 22.92418098449707, 87.50614166259794 22.924781799316634, 87.50119018554716 22.92420959472679, 87.49434661865229 22.91851997375511, 87.48941802978533 22.917661666870345, 87.48268127441435 22.913171768188477, 87.47521972656278 22.90956115722662, 87.46909332275413 22.90818977355957, 87.45952606201178 22.908599853515682, 87.45292663574247 22.91168022155756, 87.44792175292991 22.916830062866154, 87.44493865966808 22.918741226196346, 87.44062805175781 22.91789054870611, 87.42143249511747 22.921100616455135, 87.41523742675798 22.929250717163256, 87.41145324707037 22.930179595947266, 87.3967361450197 22.930561065673828, 87.39395904541021 22.935350418090877, 87.39047241210943 22.936742782593, 87.3884887695312 22.93842124938965, 87.38463592529325 22.939689636230526, 87.36946868896484 22.939720153808878, 87.36606597900396 22.940710067749023, 87.36168670654303 22.944000244140625, 87.36028289794939 22.9469509124757, 87.35798645019548 22.948730468749943, 87.3552169799807 22.949441909790266, 87.338607788086 22.945310592651367, 87.33123779296903 22.944971084594727, 87.32891082763678 22.94318962097168, 87.3160476684572 22.940319061279524, 87.30995178222673 22.928100585937614, 87.30120086669922 22.924350738525504, 87.28868103027372 22.920911788940657, 87.28456878662126 22.917858123779354, 87.28238677978544 22.912429809570426, 87.28172302246111 22.90787124633789, 87.27365112304699 22.905740737915266, 87.2662658691408 22.90061950683622, 87.26373291015636 22.902179718017805, 87.24948883056658 22.89532089233421, 87.24125671386736 22.894060134887866, 87.23294067382818 22.89822959899925, 87.21758270263683 22.90348052978544, 87.2113876342774 22.894252777099723, 87.206787109375 22.891420364379883, 87.20101165771501 22.892530441284237, 87.19155883789068 22.888320922851562, 87.1830368041995 22.886430740356616, 87.1747131347658 22.890399932861442, 87.17340087890625 22.88826942443876, 87.16848754882835 22.889419555664062, 87.16684722900402 22.887340545654354, 87.16304779052729 22.877889633178825, 87.16130065917997 22.875930786132812, 87.1533279418947 22.8687801361084, 87.14137268066412 22.85383987426752, 87.1353302001956 22.84772109985363, 87.12835693359392 22.842069625854492, 87.1242370605471 22.840232849121264, 87.11492919921903 22.83993911743181, 87.09864807128912 22.8413219451906, 87.08204650878906 22.84086036682129, 87.06867980957031 22.843742370605526, 87.06183624267584 22.846281051635913, 87.05776214599604 22.845930099487305, 87.05607604980486 22.84160041809082, 87.05538177490257 22.83180046081543, 87.05580902099638 22.82850074768089, 87.05425262451178 22.82464981079096, 87.05181884765653 22.822050094604492, 87.0491485595706 22.820560455322322, 87.05242156982416 22.809770584106445, 87.05706024169922 22.801990509033374, 87.06051635742193 22.7977809906007, 87.05930328369158 22.79282951354992, 87.06487274169922 22.786020278930778, 87.07206726074213 22.77997970581083, 87.07460021972656 22.775249481201115, 87.07627868652361 22.765581130981502, 87.07792663574247 22.76110076904297, 87.07914733886736 22.745330810546932, 87.08265686035179 22.734790802002067, 87.07253265380865 22.72494125366211, 87.0659561157226 22.729089736938477, 87.05825042724632 22.727870941162166, 87.04662322998053 22.723611831665266, 87.03302001953125 22.715871810913313, 87.03420257568365 22.711652755737305, 87.03367614746122 22.709619522094897, 87.0318832397461 22.706819534301985, 87.02938079834001 22.70574951171875, 87.0261459350586 22.700332641601676, 87.01770782470697 22.698970794677734, 87.01532745361351 22.693082809448356, 87.01098632812528 22.69079017639183, 87.0141372680664 22.683450698852653, 87.01518249511747 22.67702102661127, 87.01442718505888 22.672639846801758, 87.01583862304705 22.664199829101562, 87.01515197753912 22.65818023681652, 87.01127624511719 22.64715003967291, 86.99980163574236 22.64663124084484, 86.99745941162138 22.65326118469244, 86.99503326416033 22.65434074401884, 86.98854064941423 22.657569885254134, 86.98301696777361 22.666440963745117, 86.97123718261724 22.669740676879883, 86.96836853027344 22.667102813720646, 86.96496582031256 22.666589736938533, 86.96206665039062 22.668752670288313, 86.96009063720714 22.672050476074446, 86.9563064575197 22.664791107177848, 86.95247650146479 22.66410064697277, 86.94590759277366 22.666311264038143, 86.94616699218761 22.6551895141601, 86.94412994384766 22.648569107055664, 86.94786834716825 22.644189834594727, 86.95079803466814 22.63903045654297, 86.95169067382824 22.634370803833065, 86.9437484741211 22.63032913208025, 86.94026947021479 22.631732940673885, 86.93723297119158 22.63117027282715, 86.92215728759783 22.6230926513673, 86.91870117187511 22.624900817871094, 86.91507720947277 22.622819900512695, 86.91445159912115 22.62720108032255, 86.9086685180664 22.631620407104606, 86.90215301513689 22.630540847778377, 86.90129089355474 22.63785934448248, 86.88842010498064 22.648910522460938, 86.86930847167963 22.658500671386946, 86.8596801757813 22.661540985107706, 86.85056304931669 22.669071197509766, 86.84156036376959 22.681350708007983, 86.838119506836 22.679161071777457, 86.83574676513666 22.68374252319336, 86.81330108642578 22.693149566650447, 86.80124664306658 22.704860687255973, 86.79267120361345 22.7052001953125, 86.78415679931663 22.707660675048885, 86.77741241455095 22.71269035339367, 86.76772308349615 22.716800689697322, 86.76921081542986 22.722999572753963, 86.75495147705084 22.72814750671415, 86.74469757080084 22.734111785888672, 86.73966217041016 22.734600067138786, 86.736137390137 22.736980438232422, 86.72722625732439 22.740882873535156, 86.72104644775396 22.74263000488304, 86.71240997314459 22.742202758789062, 86.70659637451183 22.74711990356468, 86.69622039794928 22.759950637817326, 86.69116973876947 22.763612747192383, 86.67878723144548 22.763830184936637, 86.67076110839838 22.765079498291072, 86.66678619384783 22.766979217529354, 86.66055297851568 22.77766990661644, 86.65470123291044 22.784378051757812, 86.64688110351591 22.787830352783317, 86.63951110839861 22.788930892944563, 86.63648986816406 22.79297256469738, 86.62201690673834 22.795158386230582, 86.60692596435547 22.795778274536246, 86.60494995117182 22.803108215332088, 86.6087188720706 22.808130264282283, 86.61009216308605 22.8138809204101, 86.61245727539062 22.81662940979021, 86.6127471923831 22.820499420166016, 86.61476898193365 22.82256126403837, 86.63069152832043 22.822750091552678, 86.63574218750006 22.825260162353686, 86.64016723632818 22.829490661621207, 86.64266204834013 22.83356094360363, 86.64328765869135 22.836990356445483, 86.65178680419945 22.83452987670927, 86.656723022461 22.846200942993164, 86.6678161621096 22.85244178771984, 86.67166900634794 22.8554496765139, 86.67440795898455 22.859012603759936, 86.6833572387697 22.859781265259016, 86.69016265869169 22.8649711608889, 86.69927978515648 22.869100570678995, 86.70408630371122 22.884511947631893, 86.699447631836 22.889749526977596, 86.70334625244169 22.891370773315487, 86.702201843262 22.89297103881853, 86.70320129394548 22.89552116394043, 86.70284271240251 22.898000717163086, 86.69689178466791 22.903730392456055, 86.6986389160158 22.90693092346197, 86.69296264648443 22.91411018371582, 86.69261932373053 22.918781280517805, 86.68995666503912 22.921342849731616, 86.68712615966825 22.926710128784464, 86.68811798095697 22.930191040039347, 86.69146728515648 22.933469772338867, 86.69113159179716 22.935888290405387, 86.69342803955107 22.93650054931652, 86.69590759277372 22.94387054443365, 86.697509765625 22.945148468017692, 86.697807312012 22.948047637939567, 86.70256042480497 22.94876289367687, 86.70582580566435 22.95383071899414, 86.70889282226574 22.96236038208002, 86.70744323730469 22.963661193847656, 86.71141815185564 22.970720291137695, 86.71447753906267 22.980630874633732, 86.71425628662126 22.98414039611839, 86.71592712402372 22.988780975342024, 86.72226715087908 22.99253845214855, 86.72261810302746 22.99871063232422, 86.72141265869163 23.004079818725813, 86.72802734375 23.02271080017107, 86.72103118896507 23.02627944946289, 86.71775054931646 23.02989006042509, 86.71833801269537 23.034362792968693, 86.72924804687506 23.039350509643782, 86.72988128662104 23.04204940795927, 86.72824859619146 23.04384994506836, 86.72384643554688 23.04479026794445, 86.72232055664062 23.04779815673851, 86.72410583496122 23.054042816162166, 86.73007202148432 23.060560226440487, 86.7304763793947 23.065731048584098, 86.73603820800781 23.07225990295433, 86.73594665527372 23.076339721679688, 86.73935699462896 23.08359909057623, 86.73973846435553 23.09165000915533, 86.73809814453142 23.095478057861442, 86.73575592041044 23.098392486572436, 86.73143768310564 23.100019454956282, 86.71877288818388 23.101560592651424, 86.71375274658209 23.108659744262695, 86.70609283447266 23.11697959899925, 86.70674133300787 23.11833953857422, 86.7108459472658 23.11878967285162, 86.71980285644548 23.133150100708065, 86.71926879882812 23.148361206054744, 86.73002624511747 23.165500640869084, 86.73340606689459 23.165969848632756, 86.73641204834001 23.165178298950252, 86.73985290527344 23.16229057312023, 86.74256896972662 23.16323089599615, 86.74236297607428 23.169731140136832, 86.74735260009788 23.173629760742358, 86.74778747558622 23.179260253906307, 86.74579620361334 23.18701934814453, 86.74601745605491 23.190982818603572, 86.74839019775385 23.195770263671875, 86.75318908691423 23.19852066040056, 86.75949096679705 23.200031280517578, 86.77060699462896 23.19897079467796, 86.77923583984403 23.2055606842041, 86.77929687500017 23.208209991455192, 86.7759017944336 23.215642929077205, 86.77046966552763 23.2232608795166, 86.77101898193365 23.225860595703068, 86.76940155029314 23.22834968566923, 86.75833892822283 23.23764038085949, 86.75865936279325 23.24068832397461, 86.76184082031273 23.24265289306635, 86.7661972045899 23.23975944519043, 86.76860809326166 23.23973083496105, 86.76976013183611 23.24776268005371, 86.76934814453136 23.251390457153377, 86.7714920043947 23.258890151977653, 86.7700958251956 23.26161956787132, 86.76915740966808 23.26901054382347, 86.7701492309572 23.272220611572322, 86.7731475830081 23.27695083618164, 86.76722717285185 23.288099288940487, 86.76857757568388 23.29354858398449, 86.77305603027344 23.295669555664006, 86.77836608886736 23.29677963256836, 86.7782592773438 23.299840927124023, 86.77260589599604 23.307821273803825, 86.7733764648437 23.31356811523466, 86.7734375 23.317819595337028, 86.77565765380854 23.32296943664562, 86.77413177490229 23.33053970336914, 86.77517700195318 23.336051940918082, 86.77852630615229 23.339330673217944, 86.78389739990251 23.340169906616268, 86.78881072998058 23.339450836181584, 86.79219818115263 23.340820312500114, 86.79750061035162 23.341310501098576, 86.80091857910162 23.358301162719727, 86.8038177490235 23.360549926757983, 86.81227111816418 23.3610897064209, 86.81768035888672 23.358688354492415, 86.82177734375028 23.361051559448185, 86.82393646240251 23.364059448242244, 86.82328033447271 23.367820739746094, 86.82396697998047 23.371839523315487, 86.82248687744146 23.3750896453858, 86.81942749023443 23.37824821472185, 86.82401275634771 23.38232040405302, 86.83245849609403 23.379341125488338, 86.83672332763689 23.37990951538103, 86.83817291259794 23.383680343627987, 86.83808135986328 23.387880325317553, 86.8416290283206 23.393577575683594, 86.84175872802757 23.398990631103686, 86.83510589599615 23.40516090393095, 86.8387298583985 23.407569885253963, 86.83952331542997 23.41008949279791, 86.83873748779325 23.417301177978686, 86.84623718261713 23.424480438232706, 86.85331726074236 23.432760238647404, 86.84961700439482 23.43674087524414, 86.84395599365251 23.44012069702177, 86.83471679687506 23.435438156127873, 86.82717132568376 23.437240600585938, 86.82184600830095 23.434101104736328, 86.81471252441435 23.434240341186637, 86.81366729736328 23.43960189819336, 86.81461334228533 23.445699691772745, 86.81178283691412 23.448970794677734, 86.81491851806669 23.46429061889654, 86.81984710693365 23.463172912597827, 86.8335800170899 23.464551925659237, 86.84066772460966 23.46419143676752, 86.84565734863276 23.46347045898449, 86.85147857666021 23.46078109741228, 86.85555267334013 23.46335029602062, 86.85959625244158 23.471801757812727, 86.85772705078125 23.47678947448759, 86.85954284667997 23.480949401855696, 86.8589477539063 23.485811233520565, 86.86384582519531 23.48676109313965, 86.86952209472673 23.494951248169002, 86.89176177978544 23.490690231323356, 86.89228820800787 23.493789672851676, 86.88858795166033 23.497089385986555, 86.88109588623075 23.51466941833519, 86.8821868896485 23.527999877929688, 86.88131713867199 23.534120559692496, 86.878158569336 23.53643035888672, 86.87297821044939 23.536518096923828, 86.87000274658209 23.540081024170036, 86.87164306640642 23.546380996704272, 86.87217712402338 23.554319381713867, 86.86853790283214 23.55462074279808, 86.86678314209013 23.55862808227556, 86.86657714843756 23.563650131225586, 86.85138702392572 23.567129135132063, 86.85772705078125 23.570430755615178, 86.86544036865263 23.572950363159123, 86.87030792236345 23.568710327148665, 86.8769073486331 23.573789596557845, 86.87755584716814 23.578519821167163, 86.87497711181669 23.581148147583235, 86.87391662597673 23.584529876709098, 86.87777709960943 23.59075927734375, 86.8756179809572 23.59779930114746, 86.87837982177757 23.603609085083008, 86.88179016113287 23.617740631103516, 86.88205718994169 23.624282836914176, 86.88846588134771 23.627290725708235, 86.89406585693388 23.63799095153803, 86.89942169189482 23.631561279296818))\"\n        ],\n        \"semantic_type\": \"\",\n        \"description\": \"\"\n      }\n    }\n  ]\n}"
            }
          },
          "metadata": {},
          "execution_count": 10
        }
      ]
    },
    {
      "cell_type": "code",
      "source": [
        "# Push the filtered geometry to the Earth Engine\n",
        "roi_ee = geemap.gdf_to_ee(roi_gdf)\n",
        "\n",
        "vis_params = {\n",
        "    \"fillColor\": \"00000000\",\n",
        "    \"color\": \"black\",\n",
        "    \"width\": 1\n",
        "}\n",
        "Map.addLayer(roi_ee.style(**vis_params), {}, \"ROI\")\n",
        "Map.centerObject(roi_ee, 9)"
      ],
      "metadata": {
        "colab": {
          "base_uri": "https://localhost:8080/",
          "height": 17
        },
        "id": "e6dCxSWUB8MZ",
        "outputId": "06e117a4-86d7-4a99-ebef-41ceee103483"
      },
      "execution_count": 11,
      "outputs": [
        {
          "output_type": "display_data",
          "data": {
            "text/plain": [
              "<IPython.core.display.HTML object>"
            ],
            "text/html": [
              "\n",
              "            <style>\n",
              "                .geemap-dark {\n",
              "                    --jp-widgets-color: white;\n",
              "                    --jp-widgets-label-color: white;\n",
              "                    --jp-ui-font-color1: white;\n",
              "                    --jp-layout-color2: #454545;\n",
              "                    background-color: #383838;\n",
              "                }\n",
              "                    \n",
              "                .geemap-dark .jupyter-button {\n",
              "                    --jp-layout-color3: #383838;\n",
              "                }\n",
              "                \n",
              "                .geemap-colab {\n",
              "                    background-color: var(--colab-primary-surface-color, white);\n",
              "                }\n",
              "                    \n",
              "                .geemap-colab .jupyter-button {\n",
              "                    --jp-layout-color3: var(--colab-primary-surface-color, white);\n",
              "                }\n",
              "            </style>\n",
              "            "
            ]
          },
          "metadata": {}
        }
      ]
    },
    {
      "cell_type": "markdown",
      "source": [
        "## **Band Arithmetic on Landsat Data**"
      ],
      "metadata": {
        "id": "h3Jvfz7K7K7W"
      }
    },
    {
      "cell_type": "markdown",
      "source": [
        "### **Filtering Landsat 9 Image Collection**"
      ],
      "metadata": {
        "id": "KMvvsJdxHTnz"
      }
    },
    {
      "cell_type": "code",
      "source": [
        "# Read Landsat 9 image collection from EE\n",
        "L9 = ee.ImageCollection(\"LANDSAT/LC09/C02/T1_L2\")\n",
        "\n",
        "# Filter the image collection with roi, daterange, and cloud cover property\n",
        "L9Filtered = L9.filterBounds(roi_ee)\\\n",
        "               .filterDate(\"2022-01-01\", \"2022-12-31\")\\\n",
        "               .filterMetadata(\"CLOUD_COVER\", \"less_than\", 50)\n",
        "\n",
        "# Print the size of the filtered image collection\n",
        "L9Filtered.size().getInfo()"
      ],
      "metadata": {
        "colab": {
          "base_uri": "https://localhost:8080/",
          "height": 34
        },
        "id": "TApngSNF7Uze",
        "outputId": "471a0e9e-002f-4adc-af7f-7681e9249bf4"
      },
      "execution_count": 12,
      "outputs": [
        {
          "output_type": "display_data",
          "data": {
            "text/plain": [
              "<IPython.core.display.HTML object>"
            ],
            "text/html": [
              "\n",
              "            <style>\n",
              "                .geemap-dark {\n",
              "                    --jp-widgets-color: white;\n",
              "                    --jp-widgets-label-color: white;\n",
              "                    --jp-ui-font-color1: white;\n",
              "                    --jp-layout-color2: #454545;\n",
              "                    background-color: #383838;\n",
              "                }\n",
              "                    \n",
              "                .geemap-dark .jupyter-button {\n",
              "                    --jp-layout-color3: #383838;\n",
              "                }\n",
              "                \n",
              "                .geemap-colab {\n",
              "                    background-color: var(--colab-primary-surface-color, white);\n",
              "                }\n",
              "                    \n",
              "                .geemap-colab .jupyter-button {\n",
              "                    --jp-layout-color3: var(--colab-primary-surface-color, white);\n",
              "                }\n",
              "            </style>\n",
              "            "
            ]
          },
          "metadata": {}
        },
        {
          "output_type": "execute_result",
          "data": {
            "text/plain": [
              "27"
            ]
          },
          "metadata": {},
          "execution_count": 12
        }
      ]
    },
    {
      "cell_type": "markdown",
      "source": [
        "### **Preprocessing on Landsat Data**"
      ],
      "metadata": {
        "id": "K8Y9MoUUHZqy"
      }
    },
    {
      "cell_type": "code",
      "source": [
        "# Write a function to rename Landsat 9 band names\n",
        "def renameL9(image):\n",
        "    # Define the existing band names\n",
        "    band_names = ['SR_B1', 'SR_B2', 'SR_B3', 'SR_B4', 'SR_B5', 'SR_B6',\n",
        "                  'SR_B7', 'SR_QA_AEROSOL', 'ST_B10', 'ST_ATRAN', 'ST_CDIST', 'ST_DRAD',\n",
        "                  'ST_EMIS', 'ST_EMSD', 'ST_QA', 'ST_TRAD', 'ST_URAD', 'QA_PIXEL',\n",
        "                  'QA_RADSAT']\n",
        "\n",
        "    # Define the new band names\n",
        "    new_band_names = ['COASTAL', 'BLUE', 'GREEN', 'RED', 'NIR', 'SWIR1',\n",
        "                      'SWIR2', 'AEROSOL', 'THERMAL', 'ST_ATRAN', 'ST_CDIST', 'ST_DRAD',\n",
        "                      'ST_EMIS', 'ST_EMSD', 'ST_QA', 'ST_TRAD', 'ST_URAD', 'QA_PIXEL',\n",
        "                      'QA_RADSAT']\n",
        "\n",
        "    # Rename the band names\n",
        "    return image.rename(new_band_names)"
      ],
      "metadata": {
        "id": "od1urzmGHKAz",
        "colab": {
          "base_uri": "https://localhost:8080/",
          "height": 17
        },
        "outputId": "b2365a0e-b0c4-4f6a-c7bb-48ba66d8830e"
      },
      "execution_count": 13,
      "outputs": [
        {
          "output_type": "display_data",
          "data": {
            "text/plain": [
              "<IPython.core.display.HTML object>"
            ],
            "text/html": [
              "\n",
              "            <style>\n",
              "                .geemap-dark {\n",
              "                    --jp-widgets-color: white;\n",
              "                    --jp-widgets-label-color: white;\n",
              "                    --jp-ui-font-color1: white;\n",
              "                    --jp-layout-color2: #454545;\n",
              "                    background-color: #383838;\n",
              "                }\n",
              "                    \n",
              "                .geemap-dark .jupyter-button {\n",
              "                    --jp-layout-color3: #383838;\n",
              "                }\n",
              "                \n",
              "                .geemap-colab {\n",
              "                    background-color: var(--colab-primary-surface-color, white);\n",
              "                }\n",
              "                    \n",
              "                .geemap-colab .jupyter-button {\n",
              "                    --jp-layout-color3: var(--colab-primary-surface-color, white);\n",
              "                }\n",
              "            </style>\n",
              "            "
            ]
          },
          "metadata": {}
        }
      ]
    },
    {
      "cell_type": "code",
      "source": [
        "# Write a function to remove clouds from Landsat 9 imagery\n",
        "def maskL9CloudsAndShadows(image):\n",
        "\n",
        "    # Read the 'QA_PIXEL' (Quality Assessment) band\n",
        "    qa = image.select(\"QA_PIXEL\")\n",
        "\n",
        "    # Define all the variables\n",
        "    dilated_cloud_bitmask = 1 << 1\n",
        "    cirrus_bitmask = 1 << 2\n",
        "    cloud_bitmask = 1 << 3\n",
        "    cloud_shadow_bitmask = 1 << 4\n",
        "\n",
        "    # Create a mask\n",
        "    mask = qa.bitwiseAnd(dilated_cloud_bitmask).eq(0).And(\n",
        "           qa.bitwiseAnd(cirrus_bitmask).eq(0)).And(\n",
        "           qa.bitwiseAnd(cloud_bitmask).eq(0)).And(\n",
        "           qa.bitwiseAnd(cloud_shadow_bitmask).eq(0))\n",
        "\n",
        "    return image.updateMask(mask)"
      ],
      "metadata": {
        "colab": {
          "base_uri": "https://localhost:8080/",
          "height": 17
        },
        "id": "gxVsL_S98Tx-",
        "outputId": "1465d714-819e-4ba7-cd43-0c008275e639"
      },
      "execution_count": 14,
      "outputs": [
        {
          "output_type": "display_data",
          "data": {
            "text/plain": [
              "<IPython.core.display.HTML object>"
            ],
            "text/html": [
              "\n",
              "            <style>\n",
              "                .geemap-dark {\n",
              "                    --jp-widgets-color: white;\n",
              "                    --jp-widgets-label-color: white;\n",
              "                    --jp-ui-font-color1: white;\n",
              "                    --jp-layout-color2: #454545;\n",
              "                    background-color: #383838;\n",
              "                }\n",
              "                    \n",
              "                .geemap-dark .jupyter-button {\n",
              "                    --jp-layout-color3: #383838;\n",
              "                }\n",
              "                \n",
              "                .geemap-colab {\n",
              "                    background-color: var(--colab-primary-surface-color, white);\n",
              "                }\n",
              "                    \n",
              "                .geemap-colab .jupyter-button {\n",
              "                    --jp-layout-color3: var(--colab-primary-surface-color, white);\n",
              "                }\n",
              "            </style>\n",
              "            "
            ]
          },
          "metadata": {}
        }
      ]
    },
    {
      "cell_type": "markdown",
      "source": [
        "### **Function to Calculate Various Spectral Indices**"
      ],
      "metadata": {
        "id": "u2M0NyWQsHyE"
      }
    },
    {
      "cell_type": "code",
      "source": [
        "# Write a function to calculate NDVI, NDWI, MNDWI, NDBI, BU, SAVI, EVI, GCVI of an image\n",
        "def calculateIndices(image):\n",
        "\n",
        "    # NDVI = (NIR - RED) / (NIR + RED)\n",
        "    NDVI = image.normalizedDifference([\"NIR\", \"RED\"])\\\n",
        "                .rename(\"NDVI\")\n",
        "\n",
        "    # NDWI = (NIR – SWIR1) / (NIR + SWIR1)\n",
        "    NDWI = image.normalizedDifference([\"NIR\", \"SWIR1\"])\\\n",
        "                .rename(\"NDWI\")\n",
        "\n",
        "    # MNDWI = (Green - SWIR1) / (Green + SWIR1)\n",
        "    MNDWI = image.normalizedDifference([\"GREEN\", \"SWIR1\"])\\\n",
        "                 .rename(\"MNDWI\")\n",
        "\n",
        "    # NDBI = (SWIR – NIR) / (SWIR + NIR)\n",
        "    NDBI = image.normalizedDifference([\"SWIR1\", \"NIR\"])\\\n",
        "                .rename(\"NDBI\")\n",
        "\n",
        "    # BU = NDBI - NDVI\n",
        "    BU = NDBI.subtract(NDVI)\\\n",
        "             .rename(\"BU\")\n",
        "\n",
        "    # SAVI = ((NIR – RED) / (NIR + RED + 0.5)) * (1.5)\n",
        "    SAVI = image.expression(\n",
        "        \"((NIR - RED) / (NIR + RED + 0.5)) * (1.5)\", {\n",
        "            \"NIR\": image.select(\"NIR\"),\n",
        "            \"RED\": image.select(\"RED\")\n",
        "    }).rename(\"SAVI\")\n",
        "\n",
        "    # EVI = 2.5 * ((NIR - RED) / (NIR + 6 * RED - 7.5 * BLUE + 1))\n",
        "    EVI = image.expression(\n",
        "        \"2.5 * ((NIR - RED) / (NIR + 6 * RED - 7.5 * BLUE + 1))\", {\n",
        "            \"NIR\": image.select(\"NIR\"),\n",
        "            \"RED\": image.select(\"RED\"),\n",
        "            \"BLUE\": image.select(\"BLUE\")\n",
        "    }).rename(\"EVI\")\n",
        "\n",
        "    # GCVI = (NIR/GREEN) − 1\n",
        "    GCVI = image.expression(\n",
        "        \"(NIR / GREEN) - 1\", {\n",
        "            \"NIR\": image.select(\"NIR\"),\n",
        "            \"GREEN\": image.select(\"GREEN\")\n",
        "    }).rename(\"GCVI\")\n",
        "\n",
        "    # Add all the indices in a single ee list\n",
        "    final_image = ee.Image([NDVI, NDWI, MNDWI, NDBI, BU, SAVI, EVI, GCVI])\\\n",
        "                    .copyProperties(image, [\"system:time_start\"])\n",
        "\n",
        "    return ee.Image(final_image)"
      ],
      "metadata": {
        "colab": {
          "base_uri": "https://localhost:8080/",
          "height": 17
        },
        "id": "bfTmcvEosbpI",
        "outputId": "2826f98d-09f6-4398-a8ce-da6252a7ff88"
      },
      "execution_count": 15,
      "outputs": [
        {
          "output_type": "display_data",
          "data": {
            "text/plain": [
              "<IPython.core.display.HTML object>"
            ],
            "text/html": [
              "\n",
              "            <style>\n",
              "                .geemap-dark {\n",
              "                    --jp-widgets-color: white;\n",
              "                    --jp-widgets-label-color: white;\n",
              "                    --jp-ui-font-color1: white;\n",
              "                    --jp-layout-color2: #454545;\n",
              "                    background-color: #383838;\n",
              "                }\n",
              "                    \n",
              "                .geemap-dark .jupyter-button {\n",
              "                    --jp-layout-color3: #383838;\n",
              "                }\n",
              "                \n",
              "                .geemap-colab {\n",
              "                    background-color: var(--colab-primary-surface-color, white);\n",
              "                }\n",
              "                    \n",
              "                .geemap-colab .jupyter-button {\n",
              "                    --jp-layout-color3: var(--colab-primary-surface-color, white);\n",
              "                }\n",
              "            </style>\n",
              "            "
            ]
          },
          "metadata": {}
        }
      ]
    },
    {
      "cell_type": "markdown",
      "source": [
        "### **Implementation on an Image Collection**"
      ],
      "metadata": {
        "id": "iforZ9iNHfvE"
      }
    },
    {
      "cell_type": "code",
      "source": [
        "# Apply 'renameL9', 'maskL9CloudsAndShadows', and 'calculateIndices' function on the whole image collection\n",
        "# to create a cloud free median composite spectral indices image of the whole year\n",
        "medianIndicesL9= L9Filtered.map(renameL9)\\\n",
        "                           .map(maskL9CloudsAndShadows)\\\n",
        "                           .map(calculateIndices)\\\n",
        "                           .median()\\\n",
        "                           .clip(roi_ee)\n",
        "\n",
        "# Display only the NDVI image\n",
        "NDVI_vis = {\n",
        "    \"min\": 0,\n",
        "    \"max\": 0.3,\n",
        "    \"bands\": [\"NDVI\"],\n",
        "    \"palette\": [\"#a50026\", \"#da372a\", \"#f67b4a\", \"#fdbf6f\", \"#feeea2\",\n",
        "                \"#eaf6a2\", \"#b7e075\", \"#74c365\", \"#229c52\", \"#006837\"]\n",
        "}\n",
        "\n",
        "Map.addLayer(medianIndicesL9, NDVI_vis, \"L9 Median NDVI\")"
      ],
      "metadata": {
        "colab": {
          "base_uri": "https://localhost:8080/",
          "height": 17
        },
        "id": "NIPsgMeXHo49",
        "outputId": "ed23e391-5533-4e8c-81b4-2a5ba712fcf3"
      },
      "execution_count": 16,
      "outputs": [
        {
          "output_type": "display_data",
          "data": {
            "text/plain": [
              "<IPython.core.display.HTML object>"
            ],
            "text/html": [
              "\n",
              "            <style>\n",
              "                .geemap-dark {\n",
              "                    --jp-widgets-color: white;\n",
              "                    --jp-widgets-label-color: white;\n",
              "                    --jp-ui-font-color1: white;\n",
              "                    --jp-layout-color2: #454545;\n",
              "                    background-color: #383838;\n",
              "                }\n",
              "                    \n",
              "                .geemap-dark .jupyter-button {\n",
              "                    --jp-layout-color3: #383838;\n",
              "                }\n",
              "                \n",
              "                .geemap-colab {\n",
              "                    background-color: var(--colab-primary-surface-color, white);\n",
              "                }\n",
              "                    \n",
              "                .geemap-colab .jupyter-button {\n",
              "                    --jp-layout-color3: var(--colab-primary-surface-color, white);\n",
              "                }\n",
              "            </style>\n",
              "            "
            ]
          },
          "metadata": {}
        }
      ]
    },
    {
      "cell_type": "markdown",
      "source": [
        "## **Download the Full Image to Drive**"
      ],
      "metadata": {
        "id": "bmuvhj3ZDRc7"
      }
    },
    {
      "cell_type": "markdown",
      "source": [
        "🤔 **Note:** Prior to downloading the image, it is crucial to explicitly specify the projection of the image."
      ],
      "metadata": {
        "id": "gglVrDz3FqN2"
      }
    },
    {
      "cell_type": "code",
      "source": [
        "# Define the projection\n",
        "proj = ee.Projection(\"EPSG:32645\")\n",
        "\n",
        "# Reproject the 'medianIndicesL9' image\n",
        "medianIndicesL9 = medianIndicesL9.reproject(proj, crsTransform=None, scale=30)"
      ],
      "metadata": {
        "colab": {
          "base_uri": "https://localhost:8080/",
          "height": 17
        },
        "id": "u-yxJ4s2Fz13",
        "outputId": "f658cad4-20d5-411f-e214-4de69c6eeeb7"
      },
      "execution_count": 20,
      "outputs": [
        {
          "output_type": "display_data",
          "data": {
            "text/plain": [
              "<IPython.core.display.HTML object>"
            ],
            "text/html": [
              "\n",
              "            <style>\n",
              "                .geemap-dark {\n",
              "                    --jp-widgets-color: white;\n",
              "                    --jp-widgets-label-color: white;\n",
              "                    --jp-ui-font-color1: white;\n",
              "                    --jp-layout-color2: #454545;\n",
              "                    background-color: #383838;\n",
              "                }\n",
              "                    \n",
              "                .geemap-dark .jupyter-button {\n",
              "                    --jp-layout-color3: #383838;\n",
              "                }\n",
              "                \n",
              "                .geemap-colab {\n",
              "                    background-color: var(--colab-primary-surface-color, white);\n",
              "                }\n",
              "                    \n",
              "                .geemap-colab .jupyter-button {\n",
              "                    --jp-layout-color3: var(--colab-primary-surface-color, white);\n",
              "                }\n",
              "            </style>\n",
              "            "
            ]
          },
          "metadata": {}
        }
      ]
    },
    {
      "cell_type": "code",
      "source": [
        "# Check the current projection and scale of the image\n",
        "print(\"Projection Information:\", medianIndicesL9.projection().getInfo())\n",
        "print(\"Spatial Resolution:\", medianIndicesL9.projection().nominalScale().getInfo())"
      ],
      "metadata": {
        "colab": {
          "base_uri": "https://localhost:8080/",
          "height": 52
        },
        "id": "kR6h42LeGRQB",
        "outputId": "1de40de8-fb36-4cee-ba16-8a310406e24b"
      },
      "execution_count": 23,
      "outputs": [
        {
          "output_type": "display_data",
          "data": {
            "text/plain": [
              "<IPython.core.display.HTML object>"
            ],
            "text/html": [
              "\n",
              "            <style>\n",
              "                .geemap-dark {\n",
              "                    --jp-widgets-color: white;\n",
              "                    --jp-widgets-label-color: white;\n",
              "                    --jp-ui-font-color1: white;\n",
              "                    --jp-layout-color2: #454545;\n",
              "                    background-color: #383838;\n",
              "                }\n",
              "                    \n",
              "                .geemap-dark .jupyter-button {\n",
              "                    --jp-layout-color3: #383838;\n",
              "                }\n",
              "                \n",
              "                .geemap-colab {\n",
              "                    background-color: var(--colab-primary-surface-color, white);\n",
              "                }\n",
              "                    \n",
              "                .geemap-colab .jupyter-button {\n",
              "                    --jp-layout-color3: var(--colab-primary-surface-color, white);\n",
              "                }\n",
              "            </style>\n",
              "            "
            ]
          },
          "metadata": {}
        },
        {
          "output_type": "stream",
          "name": "stdout",
          "text": [
            "Projection Information: {'type': 'Projection', 'crs': 'EPSG:32645', 'transform': [30, 0, 0, 0, -30, 0]}\n",
            "Spatial Resolution: 30\n"
          ]
        }
      ]
    },
    {
      "cell_type": "code",
      "source": [
        "# Specify the output file path and file name\n",
        "output_path = \"/content/drive/MyDrive/GEE//\"\n",
        "file_name = \"Median_Indices_2022.tif\"\n",
        "geemap.download_ee_image(image=medianIndicesL9,\n",
        "                         filename=output_path+file_name,\n",
        "                         region=roi_ee.geometry(),\n",
        "                         scale=30)"
      ],
      "metadata": {
        "colab": {
          "base_uri": "https://localhost:8080/",
          "height": 84,
          "referenced_widgets": [
            "78e6d5a3c19e4d0fa4f4d520e989a5ee",
            "12b5483d9716435d8fc75d0d5e471da0",
            "bfb05cf8a6ba4d2c9320210f07c3e5a6",
            "0de7a765594e489e94ddcd555b6af3f4",
            "f529871ce08b4ef6b6fcc9fe361194af",
            "2c854e9a053a48139b2f3a57152e04dc",
            "0f3303a4c4b3442baf571040ca286e7a",
            "9ba7c2dda5514e6ba2969e0566ff50d7",
            "5df0ac03709a4d36970f1eaf2f6e4e6b",
            "bb35f32ed61944e2b591ad4111002984",
            "ce85141d757740fab005ce3aeab9a659"
          ]
        },
        "id": "hJtxYYkqEQ7M",
        "outputId": "b60532c1-fd32-4d6b-98f9-35ae520778b6"
      },
      "execution_count": 27,
      "outputs": [
        {
          "output_type": "display_data",
          "data": {
            "text/plain": [
              "<IPython.core.display.HTML object>"
            ],
            "text/html": [
              "\n",
              "            <style>\n",
              "                .geemap-dark {\n",
              "                    --jp-widgets-color: white;\n",
              "                    --jp-widgets-label-color: white;\n",
              "                    --jp-ui-font-color1: white;\n",
              "                    --jp-layout-color2: #454545;\n",
              "                    background-color: #383838;\n",
              "                }\n",
              "                    \n",
              "                .geemap-dark .jupyter-button {\n",
              "                    --jp-layout-color3: #383838;\n",
              "                }\n",
              "                \n",
              "                .geemap-colab {\n",
              "                    background-color: var(--colab-primary-surface-color, white);\n",
              "                }\n",
              "                    \n",
              "                .geemap-colab .jupyter-button {\n",
              "                    --jp-layout-color3: var(--colab-primary-surface-color, white);\n",
              "                }\n",
              "            </style>\n",
              "            "
            ]
          },
          "metadata": {}
        },
        {
          "output_type": "display_data",
          "data": {
            "text/plain": [
              "Median_Indices_2022.tif: |          | 0.00/952M (raw) [  0.0%] in 00:00 (eta:     ?)"
            ],
            "application/vnd.jupyter.widget-view+json": {
              "version_major": 2,
              "version_minor": 0,
              "model_id": "78e6d5a3c19e4d0fa4f4d520e989a5ee"
            }
          },
          "metadata": {
            "application/vnd.jupyter.widget-view+json": {
              "colab": {
                "custom_widget_manager": {
                  "url": "https://ssl.gstatic.com/colaboratory-static/widgets/colab-cdn-widget-manager/2b70e893a8ba7c0f/manager.min.js"
                }
              }
            }
          }
        },
        {
          "output_type": "stream",
          "name": "stderr",
          "text": [
            "There is no STAC entry for: None\n",
            "WARNING:geedim.stac:There is no STAC entry for: None\n"
          ]
        }
      ]
    },
    {
      "cell_type": "markdown",
      "source": [
        "## **Read the Image using Rasterio**"
      ],
      "metadata": {
        "id": "aTbKXcTRJVlQ"
      }
    },
    {
      "cell_type": "code",
      "source": [
        "# Read the 'Median_Indices_2022.tif' image\n",
        "src = rasterio.open(output_path+file_name)\n",
        "\n",
        "# Store all the metadata\n",
        "raster_meta = src.meta\n",
        "driver = raster_meta[\"driver\"]\n",
        "dtype = raster_meta[\"dtype\"]\n",
        "nodata = raster_meta[\"nodata\"]\n",
        "width = raster_meta[\"width\"]\n",
        "height = raster_meta[\"height\"]\n",
        "count = raster_meta[\"count\"]\n",
        "crs = raster_meta[\"crs\"]\n",
        "transform = raster_meta[\"transform\"]\n",
        "\n",
        "# Print the metadata of the raster\n",
        "src.meta"
      ],
      "metadata": {
        "colab": {
          "base_uri": "https://localhost:8080/",
          "height": 173
        },
        "id": "MwPqqW9qJdpR",
        "outputId": "2993115a-7617-4794-d661-9c5759cdf199"
      },
      "execution_count": 32,
      "outputs": [
        {
          "output_type": "display_data",
          "data": {
            "text/plain": [
              "<IPython.core.display.HTML object>"
            ],
            "text/html": [
              "\n",
              "            <style>\n",
              "                .geemap-dark {\n",
              "                    --jp-widgets-color: white;\n",
              "                    --jp-widgets-label-color: white;\n",
              "                    --jp-ui-font-color1: white;\n",
              "                    --jp-layout-color2: #454545;\n",
              "                    background-color: #383838;\n",
              "                }\n",
              "                    \n",
              "                .geemap-dark .jupyter-button {\n",
              "                    --jp-layout-color3: #383838;\n",
              "                }\n",
              "                \n",
              "                .geemap-colab {\n",
              "                    background-color: var(--colab-primary-surface-color, white);\n",
              "                }\n",
              "                    \n",
              "                .geemap-colab .jupyter-button {\n",
              "                    --jp-layout-color3: var(--colab-primary-surface-color, white);\n",
              "                }\n",
              "            </style>\n",
              "            "
            ]
          },
          "metadata": {}
        },
        {
          "output_type": "execute_result",
          "data": {
            "text/plain": [
              "{'driver': 'GTiff',\n",
              " 'dtype': 'float64',\n",
              " 'nodata': nan,\n",
              " 'width': 3964,\n",
              " 'height': 3754,\n",
              " 'count': 8,\n",
              " 'crs': CRS.from_epsg(32645),\n",
              " 'transform': Affine(30.0, 0.0, 459390.0,\n",
              "        0.0, -30.0, 2614380.0)}"
            ]
          },
          "metadata": {},
          "execution_count": 32
        }
      ]
    },
    {
      "cell_type": "code",
      "source": [
        "# Store all the band names in a variable\n",
        "band_names = src.descriptions\n",
        "band_names"
      ],
      "metadata": {
        "colab": {
          "base_uri": "https://localhost:8080/",
          "height": 34
        },
        "id": "YmhCqEPaLtuo",
        "outputId": "846dfb2c-2cb7-40ff-faa1-28043f2d7f67"
      },
      "execution_count": 33,
      "outputs": [
        {
          "output_type": "display_data",
          "data": {
            "text/plain": [
              "<IPython.core.display.HTML object>"
            ],
            "text/html": [
              "\n",
              "            <style>\n",
              "                .geemap-dark {\n",
              "                    --jp-widgets-color: white;\n",
              "                    --jp-widgets-label-color: white;\n",
              "                    --jp-ui-font-color1: white;\n",
              "                    --jp-layout-color2: #454545;\n",
              "                    background-color: #383838;\n",
              "                }\n",
              "                    \n",
              "                .geemap-dark .jupyter-button {\n",
              "                    --jp-layout-color3: #383838;\n",
              "                }\n",
              "                \n",
              "                .geemap-colab {\n",
              "                    background-color: var(--colab-primary-surface-color, white);\n",
              "                }\n",
              "                    \n",
              "                .geemap-colab .jupyter-button {\n",
              "                    --jp-layout-color3: var(--colab-primary-surface-color, white);\n",
              "                }\n",
              "            </style>\n",
              "            "
            ]
          },
          "metadata": {}
        },
        {
          "output_type": "execute_result",
          "data": {
            "text/plain": [
              "('NDVI', 'NDWI', 'MNDWI', 'NDBI', 'BU', 'SAVI', 'EVI', 'GCVI')"
            ]
          },
          "metadata": {},
          "execution_count": 33
        }
      ]
    },
    {
      "cell_type": "code",
      "source": [
        "# Convert the raster image into an array\n",
        "raster_arr = src.read()\n",
        "\n",
        "# Close the source file\n",
        "src.close()"
      ],
      "metadata": {
        "colab": {
          "base_uri": "https://localhost:8080/",
          "height": 17
        },
        "id": "J4a42pArKf7K",
        "outputId": "baecd843-590d-4cc1-cc65-d3071fee2bfb"
      },
      "execution_count": 34,
      "outputs": [
        {
          "output_type": "display_data",
          "data": {
            "text/plain": [
              "<IPython.core.display.HTML object>"
            ],
            "text/html": [
              "\n",
              "            <style>\n",
              "                .geemap-dark {\n",
              "                    --jp-widgets-color: white;\n",
              "                    --jp-widgets-label-color: white;\n",
              "                    --jp-ui-font-color1: white;\n",
              "                    --jp-layout-color2: #454545;\n",
              "                    background-color: #383838;\n",
              "                }\n",
              "                    \n",
              "                .geemap-dark .jupyter-button {\n",
              "                    --jp-layout-color3: #383838;\n",
              "                }\n",
              "                \n",
              "                .geemap-colab {\n",
              "                    background-color: var(--colab-primary-surface-color, white);\n",
              "                }\n",
              "                    \n",
              "                .geemap-colab .jupyter-button {\n",
              "                    --jp-layout-color3: var(--colab-primary-surface-color, white);\n",
              "                }\n",
              "            </style>\n",
              "            "
            ]
          },
          "metadata": {}
        }
      ]
    },
    {
      "cell_type": "code",
      "source": [
        "# Plot the NDVI image\n",
        "plt.figure()\n",
        "plt.imshow(raster_arr[0], cmap=\"RdYlGn\")\n",
        "plt.colorbar(label=\"NDVI\")\n",
        "plt.title(\"Median NDVI 2022\")\n",
        "plt.show()"
      ],
      "metadata": {
        "colab": {
          "base_uri": "https://localhost:8080/",
          "height": 452
        },
        "id": "d8wVTgmtKrA8",
        "outputId": "731f696a-e79d-4977-d72d-6e469bd70564"
      },
      "execution_count": 38,
      "outputs": [
        {
          "output_type": "display_data",
          "data": {
            "text/plain": [
              "<IPython.core.display.HTML object>"
            ],
            "text/html": [
              "\n",
              "            <style>\n",
              "                .geemap-dark {\n",
              "                    --jp-widgets-color: white;\n",
              "                    --jp-widgets-label-color: white;\n",
              "                    --jp-ui-font-color1: white;\n",
              "                    --jp-layout-color2: #454545;\n",
              "                    background-color: #383838;\n",
              "                }\n",
              "                    \n",
              "                .geemap-dark .jupyter-button {\n",
              "                    --jp-layout-color3: #383838;\n",
              "                }\n",
              "                \n",
              "                .geemap-colab {\n",
              "                    background-color: var(--colab-primary-surface-color, white);\n",
              "                }\n",
              "                    \n",
              "                .geemap-colab .jupyter-button {\n",
              "                    --jp-layout-color3: var(--colab-primary-surface-color, white);\n",
              "                }\n",
              "            </style>\n",
              "            "
            ]
          },
          "metadata": {}
        },
        {
          "output_type": "display_data",
          "data": {
            "text/plain": [
              "<Figure size 640x480 with 2 Axes>"
            ],
            "image/png": "[encoded data removed]"
          },
          "metadata": {}
        }
      ]
    },
    {
      "cell_type": "markdown",
      "source": [
        "🤔 **Note:** <br>When working with raster images, especially in scenarios involving larger regions of interest (ROIs) and high spatial resolution, it's imperative to optimize the processing strategy for efficiency. Processing the entire image at once can be computationally intensive, leading to increased memory usage and slower performance. To overcome these challenges, a more effective approach involves dividing the image into smaller tiles and processing each tile individually. This not only conserves memory but also significantly improves processing speed."
      ],
      "metadata": {
        "id": "nXNeANOXQCZR"
      }
    },
    {
      "cell_type": "markdown",
      "source": [
        "## **Download the Image by Tiles**"
      ],
      "metadata": {
        "id": "rXcW3uHjQh8k"
      }
    },
    {
      "cell_type": "code",
      "source": [
        "# Extract the bounding box of the ROI as a polygon\n",
        "roi_boundary = roi_ee.geometry().bounds()\n",
        "\n",
        "# Create a mesh grid\n",
        "mesh = geemap.fishnet(roi_boundary, rows=2, cols=2, delta=0)\n",
        "Map.addLayer(mesh.style(**vis_params), {}, \"Mesh Grid\")"
      ],
      "metadata": {
        "colab": {
          "base_uri": "https://localhost:8080/",
          "height": 17
        },
        "id": "TYfMqk7MSlA6",
        "outputId": "45cbafc9-987f-4e19-bf61-8f38d9792722"
      },
      "execution_count": 42,
      "outputs": [
        {
          "output_type": "display_data",
          "data": {
            "text/plain": [
              "<IPython.core.display.HTML object>"
            ],
            "text/html": [
              "\n",
              "            <style>\n",
              "                .geemap-dark {\n",
              "                    --jp-widgets-color: white;\n",
              "                    --jp-widgets-label-color: white;\n",
              "                    --jp-ui-font-color1: white;\n",
              "                    --jp-layout-color2: #454545;\n",
              "                    background-color: #383838;\n",
              "                }\n",
              "                    \n",
              "                .geemap-dark .jupyter-button {\n",
              "                    --jp-layout-color3: #383838;\n",
              "                }\n",
              "                \n",
              "                .geemap-colab {\n",
              "                    background-color: var(--colab-primary-surface-color, white);\n",
              "                }\n",
              "                    \n",
              "                .geemap-colab .jupyter-button {\n",
              "                    --jp-layout-color3: var(--colab-primary-surface-color, white);\n",
              "                }\n",
              "            </style>\n",
              "            "
            ]
          },
          "metadata": {}
        }
      ]
    },
    {
      "cell_type": "code",
      "source": [
        "# Download the image by tiles\n",
        "geemap.download_ee_image_tiles(image=medianIndicesL9,\n",
        "                               features=mesh,\n",
        "                               out_dir=output_path,\n",
        "                               prefix=\"Median_Indices_2022_\",\n",
        "                               crs=\"EPSG:32645\",\n",
        "                               scale=30)"
      ],
      "metadata": {
        "colab": {
          "base_uri": "https://localhost:8080/",
          "height": 232,
          "referenced_widgets": [
            "b6f95862fb2b46ee9434f9683cea279e",
            "4abc7204e00747a494eb601d3c6775e0",
            "7191b33441c243709bbc4a424b8c4090",
            "7c5ac1bc7ad64a6097f5fad3bc321e98",
            "2b731bfcfdcd47d8839490d1fdb4d1cb",
            "3b8d39c9654241bdb27db0afb09155d1",
            "534c8f3a541543c3a9faf223f20646c6",
            "f11b2e63806f48e08807458470a6ea5a",
            "22d5f253b19a4d3c8a5f1238620edfa9",
            "2ba9c97265fa4250ad424349aea7ddcf",
            "4591fabbbb1140128538f9f03c375729",
            "7347c40cf2c749e68851d029ade7c553",
            "2173c4c33cc84b77b36ee47858aebfe1",
            "acf813a7d5c144e88679a84fe1d746ef",
            "cec96e00778d46fbb8d9c08305b18ce8",
            "0ca50f2d9eab4099a3215d46d03e89ca",
            "fd6c5d312825494482f46715f64fdebd",
            "2c7dccccebf146f891ade2b83059c1fa",
            "224293e188e44ed9b47652c2415adf4c",
            "44043d51897b44d8a73b39b589f0dc7b",
            "e14a832eee834959b875debe8f1611c5",
            "99892987244247fcb6913473995f7139",
            "b4e88e23c12e4256912ce07dd32eff2c",
            "cb441c5a492b47d4930df43fc62db27b",
            "30dcec8c51534a04a7a220003a8e5025",
            "297c032db6fc4c03bf4c52996f71dc91",
            "4947659d336d4d3ca20edea8c8cc6e4d",
            "7a0c8678f1264fdd8fc9d2d1176aa362",
            "46dd069111374266b1e5d2a58568b7b9",
            "31a5ac368301435f89bb15cf1ae23059",
            "b54f81d877d643719426a1503be72211",
            "30fdc48b97e748558893a4be307bb848",
            "3af11acd9c0b421ab4da83ffd83c894e",
            "d9c93ace142a4169981ebdfac06826e2",
            "30bc3a95026840788211be12f10d7bbd",
            "b9bf2e1fe0014a9a9824a40e6c47e208",
            "128e8609d7ae44f48bd201e32ac02db5",
            "d30a07aa7bed4e6182a665db4e19ff69",
            "767782f77b6947798c54213afa637b63",
            "883d03614e7647c48c29776d6e076bb3",
            "c5c6a92f959f48b092597b905a32e59a",
            "3468eff9945b4189bb6b7661dfed9045",
            "555732f35ba8416d896f228a164e9c40",
            "fe5dd8e6817e47c4adc233727a8c38d0"
          ]
        },
        "id": "91I7l0WPUBsl",
        "outputId": "a21e65d0-72ff-40fb-de3a-89512c7a2e4d"
      },
      "execution_count": 44,
      "outputs": [
        {
          "output_type": "display_data",
          "data": {
            "text/plain": [
              "<IPython.core.display.HTML object>"
            ],
            "text/html": [
              "\n",
              "            <style>\n",
              "                .geemap-dark {\n",
              "                    --jp-widgets-color: white;\n",
              "                    --jp-widgets-label-color: white;\n",
              "                    --jp-ui-font-color1: white;\n",
              "                    --jp-layout-color2: #454545;\n",
              "                    background-color: #383838;\n",
              "                }\n",
              "                    \n",
              "                .geemap-dark .jupyter-button {\n",
              "                    --jp-layout-color3: #383838;\n",
              "                }\n",
              "                \n",
              "                .geemap-colab {\n",
              "                    background-color: var(--colab-primary-surface-color, white);\n",
              "                }\n",
              "                    \n",
              "                .geemap-colab .jupyter-button {\n",
              "                    --jp-layout-color3: var(--colab-primary-surface-color, white);\n",
              "                }\n",
              "            </style>\n",
              "            "
            ]
          },
          "metadata": {}
        },
        {
          "output_type": "stream",
          "name": "stdout",
          "text": [
            "Downloading 1/4: /content/drive/MyDrive/GEE//Median_Indices_2022_1.tif\n"
          ]
        },
        {
          "output_type": "display_data",
          "data": {
            "text/plain": [
              "Median_Indices_2022_1.tif: |          | 0.00/238M (raw) [  0.0%] in 00:00 (eta:     ?)"
            ],
            "application/vnd.jupyter.widget-view+json": {
              "version_major": 2,
              "version_minor": 0,
              "model_id": "b6f95862fb2b46ee9434f9683cea279e"
            }
          },
          "metadata": {
            "application/vnd.jupyter.widget-view+json": {
              "colab": {
                "custom_widget_manager": {
                  "url": "https://ssl.gstatic.com/colaboratory-static/widgets/colab-cdn-widget-manager/2b70e893a8ba7c0f/manager.min.js"
                }
              }
            }
          }
        },
        {
          "output_type": "stream",
          "name": "stdout",
          "text": [
            "Downloading 2/4: /content/drive/MyDrive/GEE//Median_Indices_2022_2.tif\n"
          ]
        },
        {
          "output_type": "display_data",
          "data": {
            "text/plain": [
              "Median_Indices_2022_2.tif: |          | 0.00/239M (raw) [  0.0%] in 00:00 (eta:     ?)"
            ],
            "application/vnd.jupyter.widget-view+json": {
              "version_major": 2,
              "version_minor": 0,
              "model_id": "99892987244247fcb6913473995f7139"
            }
          },
          "metadata": {
            "application/vnd.jupyter.widget-view+json": {
              "colab": {
                "custom_widget_manager": {
                  "url": "https://ssl.gstatic.com/colaboratory-static/widgets/colab-cdn-widget-manager/2b70e893a8ba7c0f/manager.min.js"
                }
              }
            }
          }
        },
        {
          "output_type": "stream",
          "name": "stdout",
          "text": [
            "Downloading 3/4: /content/drive/MyDrive/GEE//Median_Indices_2022_3.tif\n"
          ]
        },
        {
          "output_type": "display_data",
          "data": {
            "text/plain": [
              "Median_Indices_2022_3.tif: |          | 0.00/237M (raw) [  0.0%] in 00:00 (eta:     ?)"
            ],
            "application/vnd.jupyter.widget-view+json": {
              "version_major": 2,
              "version_minor": 0,
              "model_id": "3af11acd9c0b421ab4da83ffd83c894e"
            }
          },
          "metadata": {
            "application/vnd.jupyter.widget-view+json": {
              "colab": {
                "custom_widget_manager": {
                  "url": "https://ssl.gstatic.com/colaboratory-static/widgets/colab-cdn-widget-manager/2b70e893a8ba7c0f/manager.min.js"
                }
              }
            }
          }
        },
        {
          "output_type": "stream",
          "name": "stdout",
          "text": [
            "Downloading 4/4: /content/drive/MyDrive/GEE//Median_Indices_2022_4.tif\n"
          ]
        },
        {
          "output_type": "display_data",
          "data": {
            "text/plain": [
              "Median_Indices_2022_4.tif: |          | 0.00/238M (raw) [  0.0%] in 00:00 (eta:     ?)"
            ],
            "application/vnd.jupyter.widget-view+json": {
              "version_major": 2,
              "version_minor": 0,
              "model_id": "fe5dd8e6817e47c4adc233727a8c38d0"
            }
          },
          "metadata": {
            "application/vnd.jupyter.widget-view+json": {
              "colab": {
                "custom_widget_manager": {
                  "url": "https://ssl.gstatic.com/colaboratory-static/widgets/colab-cdn-widget-manager/2b70e893a8ba7c0f/manager.min.js"
                }
              }
            }
          }
        },
        {
          "output_type": "stream",
          "name": "stdout",
          "text": [
            "Downloaded 4 tiles in 319.2026135921478 seconds.\n"
          ]
        }
      ]
    }
  ]
}