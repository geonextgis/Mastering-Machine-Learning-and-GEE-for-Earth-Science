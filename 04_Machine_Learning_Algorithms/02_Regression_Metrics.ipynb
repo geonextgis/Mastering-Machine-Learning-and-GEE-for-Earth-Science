{
  "cells": [
    {
      "cell_type": "markdown",
      "metadata": {
        "id": "view-in-github",
        "colab_type": "text"
      },
      "source": [
        "<a href=\"https://colab.research.google.com/github/geonextgis/Mastering-Machine-Learning-and-GEE-for-Earth-Science/blob/main/04_Machine_Learning_Algorithms/02_Regression_Metrics.ipynb\" target=\"_parent\"><img src=\"https://colab.research.google.com/assets/colab-badge.svg\" alt=\"Open In Colab\"/></a>"
      ]
    },
    {
      "cell_type": "markdown",
      "id": "9aaa40a1-1804-4cde-9605-4cdadc610993",
      "metadata": {
        "id": "9aaa40a1-1804-4cde-9605-4cdadc610993"
      },
      "source": [
        "# **Regression Metrics**\n",
        "Regression metrics are used to evaluate the performance of predictive models that aim to estimate a continuous target variable. These metrics help assess how well the model's predictions align with the actual values, allowing you to understand the accuracy, precision, and goodness of fit of your regression model. Here are some commonly used regression metrics:"
      ]
    },
    {
      "cell_type": "markdown",
      "id": "75a46037-64d2-4a00-8644-049f09e20bf4",
      "metadata": {
        "id": "75a46037-64d2-4a00-8644-049f09e20bf4"
      },
      "source": [
        "## **Import Required Libraries**"
      ]
    },
    {
      "cell_type": "code",
      "source": [
        "from google.colab import drive\n",
        "drive.mount(\"/content/drive\")"
      ],
      "metadata": {
        "colab": {
          "base_uri": "https://localhost:8080/"
        },
        "id": "7XDqnfZD-AKe",
        "outputId": "d178172b-c2fd-4b70-99fd-4a09b1492261"
      },
      "id": "7XDqnfZD-AKe",
      "execution_count": 1,
      "outputs": [
        {
          "output_type": "stream",
          "name": "stdout",
          "text": [
            "Mounted at /content/drive\n"
          ]
        }
      ]
    },
    {
      "cell_type": "code",
      "execution_count": 15,
      "id": "92fa9d73-a883-461a-be23-6ff065abd927",
      "metadata": {
        "tags": [],
        "id": "92fa9d73-a883-461a-be23-6ff065abd927"
      },
      "outputs": [],
      "source": [
        "import numpy as np\n",
        "import pandas as pd\n",
        "import matplotlib.pyplot as plt\n",
        "import seaborn as sns\n",
        "from sklearn.model_selection import train_test_split\n",
        "from sklearn.linear_model import LinearRegression\n",
        "from sklearn.metrics import mean_absolute_error, mean_squared_error, r2_score\n",
        "\n",
        "import warnings\n",
        "warnings.filterwarnings(\"ignore\")"
      ]
    },
    {
      "cell_type": "markdown",
      "id": "cf258036-b9a6-4949-97e6-2b442098f30c",
      "metadata": {
        "id": "cf258036-b9a6-4949-97e6-2b442098f30c"
      },
      "source": [
        "## **Read the Data**"
      ]
    },
    {
      "cell_type": "code",
      "execution_count": 5,
      "id": "0c90745f-be6c-4520-a1ef-1d1aaab8e30a",
      "metadata": {
        "tags": [],
        "id": "0c90745f-be6c-4520-a1ef-1d1aaab8e30a",
        "outputId": "a9b40ed5-1244-4c2f-d003-32796b27b8c3",
        "colab": {
          "base_uri": "https://localhost:8080/",
          "height": 206
        }
      },
      "outputs": [
        {
          "output_type": "execute_result",
          "data": {
            "text/plain": [
              "   cgpa  package\n",
              "0  6.89     3.26\n",
              "1  5.12     1.98\n",
              "2  7.82     3.25\n",
              "3  7.42     3.67\n",
              "4  6.94     3.57"
            ],
            "text/html": [
              "\n",
              "  <div id=\"df-35b68438-75f6-4279-b4e3-18cb9b47a1da\" class=\"colab-df-container\">\n",
              "    <div>\n",
              "<style scoped>\n",
              "    .dataframe tbody tr th:only-of-type {\n",
              "        vertical-align: middle;\n",
              "    }\n",
              "\n",
              "    .dataframe tbody tr th {\n",
              "        vertical-align: top;\n",
              "    }\n",
              "\n",
              "    .dataframe thead th {\n",
              "        text-align: right;\n",
              "    }\n",
              "</style>\n",
              "<table border=\"1\" class=\"dataframe\">\n",
              "  <thead>\n",
              "    <tr style=\"text-align: right;\">\n",
              "      <th></th>\n",
              "      <th>cgpa</th>\n",
              "      <th>package</th>\n",
              "    </tr>\n",
              "  </thead>\n",
              "  <tbody>\n",
              "    <tr>\n",
              "      <th>0</th>\n",
              "      <td>6.89</td>\n",
              "      <td>3.26</td>\n",
              "    </tr>\n",
              "    <tr>\n",
              "      <th>1</th>\n",
              "      <td>5.12</td>\n",
              "      <td>1.98</td>\n",
              "    </tr>\n",
              "    <tr>\n",
              "      <th>2</th>\n",
              "      <td>7.82</td>\n",
              "      <td>3.25</td>\n",
              "    </tr>\n",
              "    <tr>\n",
              "      <th>3</th>\n",
              "      <td>7.42</td>\n",
              "      <td>3.67</td>\n",
              "    </tr>\n",
              "    <tr>\n",
              "      <th>4</th>\n",
              "      <td>6.94</td>\n",
              "      <td>3.57</td>\n",
              "    </tr>\n",
              "  </tbody>\n",
              "</table>\n",
              "</div>\n",
              "    <div class=\"colab-df-buttons\">\n",
              "\n",
              "  <div class=\"colab-df-container\">\n",
              "    <button class=\"colab-df-convert\" onclick=\"convertToInteractive('df-35b68438-75f6-4279-b4e3-18cb9b47a1da')\"\n",
              "            title=\"Convert this dataframe to an interactive table.\"\n",
              "            style=\"display:none;\">\n",
              "\n",
              "  <svg xmlns=\"http://www.w3.org/2000/svg\" height=\"24px\" viewBox=\"0 -960 960 960\">\n",
              "    <path d=\"M120-120v-720h720v720H120Zm60-500h600v-160H180v160Zm220 220h160v-160H400v160Zm0 220h160v-160H400v160ZM180-400h160v-160H180v160Zm440 0h160v-160H620v160ZM180-180h160v-160H180v160Zm440 0h160v-160H620v160Z\"/>\n",
              "  </svg>\n",
              "    </button>\n",
              "\n",
              "  <style>\n",
              "    .colab-df-container {\n",
              "      display:flex;\n",
              "      gap: 12px;\n",
              "    }\n",
              "\n",
              "    .colab-df-convert {\n",
              "      background-color: #E8F0FE;\n",
              "      border: none;\n",
              "      border-radius: 50%;\n",
              "      cursor: pointer;\n",
              "      display: none;\n",
              "      fill: #1967D2;\n",
              "      height: 32px;\n",
              "      padding: 0 0 0 0;\n",
              "      width: 32px;\n",
              "    }\n",
              "\n",
              "    .colab-df-convert:hover {\n",
              "      background-color: #E2EBFA;\n",
              "      box-shadow: 0px 1px 2px rgba(60, 64, 67, 0.3), 0px 1px 3px 1px rgba(60, 64, 67, 0.15);\n",
              "      fill: #174EA6;\n",
              "    }\n",
              "\n",
              "    .colab-df-buttons div {\n",
              "      margin-bottom: 4px;\n",
              "    }\n",
              "\n",
              "    [theme=dark] .colab-df-convert {\n",
              "      background-color: #3B4455;\n",
              "      fill: #D2E3FC;\n",
              "    }\n",
              "\n",
              "    [theme=dark] .colab-df-convert:hover {\n",
              "      background-color: #434B5C;\n",
              "      box-shadow: 0px 1px 3px 1px rgba(0, 0, 0, 0.15);\n",
              "      filter: drop-shadow(0px 1px 2px rgba(0, 0, 0, 0.3));\n",
              "      fill: #FFFFFF;\n",
              "    }\n",
              "  </style>\n",
              "\n",
              "    <script>\n",
              "      const buttonEl =\n",
              "        document.querySelector('#df-35b68438-75f6-4279-b4e3-18cb9b47a1da button.colab-df-convert');\n",
              "      buttonEl.style.display =\n",
              "        google.colab.kernel.accessAllowed ? 'block' : 'none';\n",
              "\n",
              "      async function convertToInteractive(key) {\n",
              "        const element = document.querySelector('#df-35b68438-75f6-4279-b4e3-18cb9b47a1da');\n",
              "        const dataTable =\n",
              "          await google.colab.kernel.invokeFunction('convertToInteractive',\n",
              "                                                    [key], {});\n",
              "        if (!dataTable) return;\n",
              "\n",
              "        const docLinkHtml = 'Like what you see? Visit the ' +\n",
              "          '<a target=\"_blank\" href=https://colab.research.google.com/notebooks/data_table.ipynb>data table notebook</a>'\n",
              "          + ' to learn more about interactive tables.';\n",
              "        element.innerHTML = '';\n",
              "        dataTable['output_type'] = 'display_data';\n",
              "        await google.colab.output.renderOutput(dataTable, element);\n",
              "        const docLink = document.createElement('div');\n",
              "        docLink.innerHTML = docLinkHtml;\n",
              "        element.appendChild(docLink);\n",
              "      }\n",
              "    </script>\n",
              "  </div>\n",
              "\n",
              "\n",
              "<div id=\"df-61a50043-08ce-43c0-9a37-03eeeb0964f3\">\n",
              "  <button class=\"colab-df-quickchart\" onclick=\"quickchart('df-61a50043-08ce-43c0-9a37-03eeeb0964f3')\"\n",
              "            title=\"Suggest charts\"\n",
              "            style=\"display:none;\">\n",
              "\n",
              "<svg xmlns=\"http://www.w3.org/2000/svg\" height=\"24px\"viewBox=\"0 0 24 24\"\n",
              "     width=\"24px\">\n",
              "    <g>\n",
              "        <path d=\"M19 3H5c-1.1 0-2 .9-2 2v14c0 1.1.9 2 2 2h14c1.1 0 2-.9 2-2V5c0-1.1-.9-2-2-2zM9 17H7v-7h2v7zm4 0h-2V7h2v10zm4 0h-2v-4h2v4z\"/>\n",
              "    </g>\n",
              "</svg>\n",
              "  </button>\n",
              "\n",
              "<style>\n",
              "  .colab-df-quickchart {\n",
              "      --bg-color: #E8F0FE;\n",
              "      --fill-color: #1967D2;\n",
              "      --hover-bg-color: #E2EBFA;\n",
              "      --hover-fill-color: #174EA6;\n",
              "      --disabled-fill-color: #AAA;\n",
              "      --disabled-bg-color: #DDD;\n",
              "  }\n",
              "\n",
              "  [theme=dark] .colab-df-quickchart {\n",
              "      --bg-color: #3B4455;\n",
              "      --fill-color: #D2E3FC;\n",
              "      --hover-bg-color: #434B5C;\n",
              "      --hover-fill-color: #FFFFFF;\n",
              "      --disabled-bg-color: #3B4455;\n",
              "      --disabled-fill-color: #666;\n",
              "  }\n",
              "\n",
              "  .colab-df-quickchart {\n",
              "    background-color: var(--bg-color);\n",
              "    border: none;\n",
              "    border-radius: 50%;\n",
              "    cursor: pointer;\n",
              "    display: none;\n",
              "    fill: var(--fill-color);\n",
              "    height: 32px;\n",
              "    padding: 0;\n",
              "    width: 32px;\n",
              "  }\n",
              "\n",
              "  .colab-df-quickchart:hover {\n",
              "    background-color: var(--hover-bg-color);\n",
              "    box-shadow: 0 1px 2px rgba(60, 64, 67, 0.3), 0 1px 3px 1px rgba(60, 64, 67, 0.15);\n",
              "    fill: var(--button-hover-fill-color);\n",
              "  }\n",
              "\n",
              "  .colab-df-quickchart-complete:disabled,\n",
              "  .colab-df-quickchart-complete:disabled:hover {\n",
              "    background-color: var(--disabled-bg-color);\n",
              "    fill: var(--disabled-fill-color);\n",
              "    box-shadow: none;\n",
              "  }\n",
              "\n",
              "  .colab-df-spinner {\n",
              "    border: 2px solid var(--fill-color);\n",
              "    border-color: transparent;\n",
              "    border-bottom-color: var(--fill-color);\n",
              "    animation:\n",
              "      spin 1s steps(1) infinite;\n",
              "  }\n",
              "\n",
              "  @keyframes spin {\n",
              "    0% {\n",
              "      border-color: transparent;\n",
              "      border-bottom-color: var(--fill-color);\n",
              "      border-left-color: var(--fill-color);\n",
              "    }\n",
              "    20% {\n",
              "      border-color: transparent;\n",
              "      border-left-color: var(--fill-color);\n",
              "      border-top-color: var(--fill-color);\n",
              "    }\n",
              "    30% {\n",
              "      border-color: transparent;\n",
              "      border-left-color: var(--fill-color);\n",
              "      border-top-color: var(--fill-color);\n",
              "      border-right-color: var(--fill-color);\n",
              "    }\n",
              "    40% {\n",
              "      border-color: transparent;\n",
              "      border-right-color: var(--fill-color);\n",
              "      border-top-color: var(--fill-color);\n",
              "    }\n",
              "    60% {\n",
              "      border-color: transparent;\n",
              "      border-right-color: var(--fill-color);\n",
              "    }\n",
              "    80% {\n",
              "      border-color: transparent;\n",
              "      border-right-color: var(--fill-color);\n",
              "      border-bottom-color: var(--fill-color);\n",
              "    }\n",
              "    90% {\n",
              "      border-color: transparent;\n",
              "      border-bottom-color: var(--fill-color);\n",
              "    }\n",
              "  }\n",
              "</style>\n",
              "\n",
              "  <script>\n",
              "    async function quickchart(key) {\n",
              "      const quickchartButtonEl =\n",
              "        document.querySelector('#' + key + ' button');\n",
              "      quickchartButtonEl.disabled = true;  // To prevent multiple clicks.\n",
              "      quickchartButtonEl.classList.add('colab-df-spinner');\n",
              "      try {\n",
              "        const charts = await google.colab.kernel.invokeFunction(\n",
              "            'suggestCharts', [key], {});\n",
              "      } catch (error) {\n",
              "        console.error('Error during call to suggestCharts:', error);\n",
              "      }\n",
              "      quickchartButtonEl.classList.remove('colab-df-spinner');\n",
              "      quickchartButtonEl.classList.add('colab-df-quickchart-complete');\n",
              "    }\n",
              "    (() => {\n",
              "      let quickchartButtonEl =\n",
              "        document.querySelector('#df-61a50043-08ce-43c0-9a37-03eeeb0964f3 button');\n",
              "      quickchartButtonEl.style.display =\n",
              "        google.colab.kernel.accessAllowed ? 'block' : 'none';\n",
              "    })();\n",
              "  </script>\n",
              "</div>\n",
              "\n",
              "    </div>\n",
              "  </div>\n"
            ],
            "application/vnd.google.colaboratory.intrinsic+json": {
              "type": "dataframe",
              "variable_name": "df",
              "summary": "{\n  \"name\": \"df\",\n  \"rows\": 200,\n  \"fields\": [\n    {\n      \"column\": \"cgpa\",\n      \"properties\": {\n        \"dtype\": \"number\",\n        \"std\": 1.0694086798895526,\n        \"min\": 4.26,\n        \"max\": 9.58,\n        \"num_unique_values\": 163,\n        \"samples\": [\n          8.71,\n          6.37,\n          7.94\n        ],\n        \"semantic_type\": \"\",\n        \"description\": \"\"\n      }\n    },\n    {\n      \"column\": \"package\",\n      \"properties\": {\n        \"dtype\": \"number\",\n        \"std\": 0.6916442411250215,\n        \"min\": 1.37,\n        \"max\": 4.62,\n        \"num_unique_values\": 138,\n        \"samples\": [\n          3.76,\n          3.13,\n          2.89\n        ],\n        \"semantic_type\": \"\",\n        \"description\": \"\"\n      }\n    }\n  ]\n}"
            }
          },
          "metadata": {},
          "execution_count": 5
        }
      ],
      "source": [
        "df = pd.read_csv(\"/content/drive/MyDrive/Colab Notebooks/GitHub Repo/Mastering-Machine-Learning-and-GEE-for-Earth-Science/Datasets/Placement_SLR.csv\")\n",
        "df.head()"
      ]
    },
    {
      "cell_type": "code",
      "execution_count": 6,
      "id": "71b20f08-238d-4103-8a81-0018d371d418",
      "metadata": {
        "tags": [],
        "id": "71b20f08-238d-4103-8a81-0018d371d418",
        "outputId": "adf8d71d-ea83-48e3-9142-af4b3117623f",
        "colab": {
          "base_uri": "https://localhost:8080/"
        }
      },
      "outputs": [
        {
          "output_type": "execute_result",
          "data": {
            "text/plain": [
              "cgpa       0\n",
              "package    0\n",
              "dtype: int64"
            ]
          },
          "metadata": {},
          "execution_count": 6
        }
      ],
      "source": [
        "# Check for the null values\n",
        "df.isnull().sum()"
      ]
    },
    {
      "cell_type": "markdown",
      "id": "6b51e43c-96ae-4dc0-ba9c-8c098a01c92a",
      "metadata": {
        "id": "6b51e43c-96ae-4dc0-ba9c-8c098a01c92a"
      },
      "source": [
        "## **Train Test Split**"
      ]
    },
    {
      "cell_type": "code",
      "execution_count": 8,
      "id": "0d8d40ae-1e86-431b-bdf8-e1a047659f11",
      "metadata": {
        "tags": [],
        "id": "0d8d40ae-1e86-431b-bdf8-e1a047659f11",
        "outputId": "a5781459-fb88-4f27-f00c-5217595aa6b3",
        "colab": {
          "base_uri": "https://localhost:8080/"
        }
      },
      "outputs": [
        {
          "output_type": "execute_result",
          "data": {
            "text/plain": [
              "((140, 1), (60, 1))"
            ]
          },
          "metadata": {},
          "execution_count": 8
        }
      ],
      "source": [
        "X_train, X_test, y_train, y_test = train_test_split(df.drop(\"package\", axis=1),\n",
        "                                                    df[\"package\"],\n",
        "                                                    test_size=0.3,\n",
        "                                                    random_state=0)\n",
        "X_train.shape , X_test.shape"
      ]
    },
    {
      "cell_type": "markdown",
      "id": "2efd8c32-fe7d-4674-8853-fc0008b6b88b",
      "metadata": {
        "id": "2efd8c32-fe7d-4674-8853-fc0008b6b88b"
      },
      "source": [
        "## **Plot the Data**"
      ]
    },
    {
      "cell_type": "code",
      "execution_count": 10,
      "id": "26fd9ae8-e051-4c95-a84e-fb65e532ce8c",
      "metadata": {
        "tags": [],
        "id": "26fd9ae8-e051-4c95-a84e-fb65e532ce8c",
        "outputId": "3c760943-94cb-495b-bc89-fc062d3c9dcd",
        "colab": {
          "base_uri": "https://localhost:8080/",
          "height": 472
        }
      },
      "outputs": [
        {
          "output_type": "display_data",
          "data": {
            "text/plain": [
              "<Figure size 640x480 with 1 Axes>"
            ],
            "image/png": "[encoded data removed]"
          },
          "metadata": {}
        }
      ],
      "source": [
        "sns.scatterplot(x=X_train[\"cgpa\"], y=y_train)\n",
        "plt.title(\"Scatterplot between CGPA and Package\")\n",
        "plt.show()"
      ]
    },
    {
      "cell_type": "markdown",
      "id": "a1cadfec-6964-442e-bac9-b098789926f5",
      "metadata": {
        "id": "a1cadfec-6964-442e-bac9-b098789926f5"
      },
      "source": [
        "## **Train a Simple Linear Regression Model**"
      ]
    },
    {
      "cell_type": "code",
      "execution_count": 12,
      "id": "4df83756-2eb4-489c-b513-755c8228e9e8",
      "metadata": {
        "tags": [],
        "id": "4df83756-2eb4-489c-b513-755c8228e9e8",
        "outputId": "01fc8a15-5896-45f2-eefb-96212fe4f791",
        "colab": {
          "base_uri": "https://localhost:8080/",
          "height": 74
        }
      },
      "outputs": [
        {
          "output_type": "execute_result",
          "data": {
            "text/plain": [
              "LinearRegression()"
            ],
            "text/html": [
              "<style>#sk-container-id-1 {color: black;background-color: white;}#sk-container-id-1 pre{padding: 0;}#sk-container-id-1 div.sk-toggleable {background-color: white;}#sk-container-id-1 label.sk-toggleable__label {cursor: pointer;display: block;width: 100%;margin-bottom: 0;padding: 0.3em;box-sizing: border-box;text-align: center;}#sk-container-id-1 label.sk-toggleable__label-arrow:before {content: \"▸\";float: left;margin-right: 0.25em;color: #696969;}#sk-container-id-1 label.sk-toggleable__label-arrow:hover:before {color: black;}#sk-container-id-1 div.sk-estimator:hover label.sk-toggleable__label-arrow:before {color: black;}#sk-container-id-1 div.sk-toggleable__content {max-height: 0;max-width: 0;overflow: hidden;text-align: left;background-color: #f0f8ff;}#sk-container-id-1 div.sk-toggleable__content pre {margin: 0.2em;color: black;border-radius: 0.25em;background-color: #f0f8ff;}#sk-container-id-1 input.sk-toggleable__control:checked~div.sk-toggleable__content {max-height: 200px;max-width: 100%;overflow: auto;}#sk-container-id-1 input.sk-toggleable__control:checked~label.sk-toggleable__label-arrow:before {content: \"▾\";}#sk-container-id-1 div.sk-estimator input.sk-toggleable__control:checked~label.sk-toggleable__label {background-color: #d4ebff;}#sk-container-id-1 div.sk-label input.sk-toggleable__control:checked~label.sk-toggleable__label {background-color: #d4ebff;}#sk-container-id-1 input.sk-hidden--visually {border: 0;clip: rect(1px 1px 1px 1px);clip: rect(1px, 1px, 1px, 1px);height: 1px;margin: -1px;overflow: hidden;padding: 0;position: absolute;width: 1px;}#sk-container-id-1 div.sk-estimator {font-family: monospace;background-color: #f0f8ff;border: 1px dotted black;border-radius: 0.25em;box-sizing: border-box;margin-bottom: 0.5em;}#sk-container-id-1 div.sk-estimator:hover {background-color: #d4ebff;}#sk-container-id-1 div.sk-parallel-item::after {content: \"\";width: 100%;border-bottom: 1px solid gray;flex-grow: 1;}#sk-container-id-1 div.sk-label:hover label.sk-toggleable__label {background-color: #d4ebff;}#sk-container-id-1 div.sk-serial::before {content: \"\";position: absolute;border-left: 1px solid gray;box-sizing: border-box;top: 0;bottom: 0;left: 50%;z-index: 0;}#sk-container-id-1 div.sk-serial {display: flex;flex-direction: column;align-items: center;background-color: white;padding-right: 0.2em;padding-left: 0.2em;position: relative;}#sk-container-id-1 div.sk-item {position: relative;z-index: 1;}#sk-container-id-1 div.sk-parallel {display: flex;align-items: stretch;justify-content: center;background-color: white;position: relative;}#sk-container-id-1 div.sk-item::before, #sk-container-id-1 div.sk-parallel-item::before {content: \"\";position: absolute;border-left: 1px solid gray;box-sizing: border-box;top: 0;bottom: 0;left: 50%;z-index: -1;}#sk-container-id-1 div.sk-parallel-item {display: flex;flex-direction: column;z-index: 1;position: relative;background-color: white;}#sk-container-id-1 div.sk-parallel-item:first-child::after {align-self: flex-end;width: 50%;}#sk-container-id-1 div.sk-parallel-item:last-child::after {align-self: flex-start;width: 50%;}#sk-container-id-1 div.sk-parallel-item:only-child::after {width: 0;}#sk-container-id-1 div.sk-dashed-wrapped {border: 1px dashed gray;margin: 0 0.4em 0.5em 0.4em;box-sizing: border-box;padding-bottom: 0.4em;background-color: white;}#sk-container-id-1 div.sk-label label {font-family: monospace;font-weight: bold;display: inline-block;line-height: 1.2em;}#sk-container-id-1 div.sk-label-container {text-align: center;}#sk-container-id-1 div.sk-container {/* jupyter's `normalize.less` sets `[hidden] { display: none; }` but bootstrap.min.css set `[hidden] { display: none !important; }` so we also need the `!important` here to be able to override the default hidden behavior on the sphinx rendered scikit-learn.org. See: https://github.com/scikit-learn/scikit-learn/issues/21755 */display: inline-block !important;position: relative;}#sk-container-id-1 div.sk-text-repr-fallback {display: none;}</style><div id=\"sk-container-id-1\" class=\"sk-top-container\"><div class=\"sk-text-repr-fallback\"><pre>LinearRegression()</pre><b>In a Jupyter environment, please rerun this cell to show the HTML representation or trust the notebook. <br />On GitHub, the HTML representation is unable to render, please try loading this page with nbviewer.org.</b></div><div class=\"sk-container\" hidden><div class=\"sk-item\"><div class=\"sk-estimator sk-toggleable\"><input class=\"sk-toggleable__control sk-hidden--visually\" id=\"sk-estimator-id-1\" type=\"checkbox\" checked><label for=\"sk-estimator-id-1\" class=\"sk-toggleable__label sk-toggleable__label-arrow\">LinearRegression</label><div class=\"sk-toggleable__content\"><pre>LinearRegression()</pre></div></div></div></div></div>"
            ]
          },
          "metadata": {},
          "execution_count": 12
        }
      ],
      "source": [
        "# Instantiate an object of the LinearRegression class\n",
        "lr = LinearRegression()\n",
        "\n",
        "# Fit the training data\n",
        "lr.fit(X_train, y_train)"
      ]
    },
    {
      "cell_type": "code",
      "execution_count": 13,
      "id": "ac6c7219-eddf-474c-9764-c6a2c312a95d",
      "metadata": {
        "tags": [],
        "id": "ac6c7219-eddf-474c-9764-c6a2c312a95d",
        "outputId": "012abb3d-44cd-4076-da64-7e6366fd09a0",
        "colab": {
          "base_uri": "https://localhost:8080/"
        }
      },
      "outputs": [
        {
          "output_type": "execute_result",
          "data": {
            "text/plain": [
              "array([2.98741886, 2.56299265, 2.62783555, 3.4295295 , 3.07584099,\n",
              "       2.36256917, 3.54742567, 2.47457053, 4.16638056, 3.24089563,\n",
              "       2.12677683, 3.2173164 , 2.54530823, 3.06994618, 3.39416065,\n",
              "       2.8754175 , 2.63962516, 2.83415384, 2.37435878, 2.93436559,\n",
              "       3.18784235, 2.33898993, 3.53563605, 4.03079997, 2.20340934,\n",
              "       1.9027741 , 3.10531503, 2.61604593, 1.91456372, 1.8968793 ,\n",
              "       2.92847078, 3.73016473, 2.61015112, 2.09140798, 2.51583419,\n",
              "       3.67711146, 3.19373716, 2.98741886, 3.87164014, 2.50993938,\n",
              "       3.14068389, 1.90866891, 3.79500763, 2.98741886, 3.99543112,\n",
              "       4.29606635, 2.48636014, 3.00510329, 3.25858005, 1.75540389,\n",
              "       3.29984371, 2.46867572, 3.54153086, 2.42151725, 3.7773232 ,\n",
              "       2.74573172, 3.23500082, 3.09942023, 4.42575213, 2.33898993])"
            ]
          },
          "metadata": {},
          "execution_count": 13
        }
      ],
      "source": [
        "# Predict the test data\n",
        "y_pred = lr.predict(X_test)\n",
        "y_pred"
      ]
    },
    {
      "cell_type": "markdown",
      "id": "8d046beb-61a9-4288-a720-85e4a8368a70",
      "metadata": {
        "id": "8d046beb-61a9-4288-a720-85e4a8368a70"
      },
      "source": [
        "## **Plot the Regression Line**"
      ]
    },
    {
      "cell_type": "code",
      "execution_count": 14,
      "id": "866160c1-d413-46b0-a1b7-6f62ae7bd853",
      "metadata": {
        "tags": [],
        "id": "866160c1-d413-46b0-a1b7-6f62ae7bd853",
        "outputId": "c9a526fe-e518-44b8-990e-a0dd87fffcc1",
        "colab": {
          "base_uri": "https://localhost:8080/",
          "height": 472
        }
      },
      "outputs": [
        {
          "output_type": "display_data",
          "data": {
            "text/plain": [
              "<Figure size 640x480 with 1 Axes>"
            ],
            "image/png": "[encoded data removed]"
          },
          "metadata": {}
        }
      ],
      "source": [
        "sns.scatterplot(x=X_train[\"cgpa\"], y=y_train)\n",
        "sns.lineplot(x=X_test[\"cgpa\"], y=lr.predict(X_test), c=\"red\", label=\"Regression Line\")\n",
        "plt.title(\"Scatterplot between CGPA and Package\")\n",
        "plt.show()"
      ]
    },
    {
      "cell_type": "markdown",
      "id": "bc21deeb-702b-405a-bfca-b8d739d6fb06",
      "metadata": {
        "id": "bc21deeb-702b-405a-bfca-b8d739d6fb06"
      },
      "source": [
        "## **Check the Accuracy using Regression Metrics**"
      ]
    },
    {
      "cell_type": "markdown",
      "id": "4e3945c7-3068-46cd-be62-7bdc17c80740",
      "metadata": {
        "tags": [],
        "id": "4e3945c7-3068-46cd-be62-7bdc17c80740"
      },
      "source": [
        "### **Mean Absolute Error (MAE):**\n",
        "MAE is the average of the absolute differences between the predicted and actual values. It measures the average magnitude of errors and is easy to understand.\n",
        "\n",
        "**Advantages:**\n",
        "* Easy to interpret as it represents the average absolute error.\n",
        "* Resistant to outliers, as it does not square errors.\n",
        "\n",
        "**Disadvantages:**\n",
        "* Does not penalize larger errors more heavily.\n",
        "* May not work well if the error distribution is not symmetric.\n",
        "\n",
        "**Formula:**<br>\n",
        "<center><img src=\"https://editor.analyticsvidhya.com/uploads/42439Screenshot%202021-10-26%20at%209.34.08%20PM.png\" width=\"40%\"></center>"
      ]
    },
    {
      "cell_type": "code",
      "execution_count": 17,
      "id": "08dfb84d-645b-4c15-88a7-2d30096ce3d3",
      "metadata": {
        "tags": [],
        "id": "08dfb84d-645b-4c15-88a7-2d30096ce3d3",
        "outputId": "81c25808-f665-40e3-e24e-9bbf7defd170",
        "colab": {
          "base_uri": "https://localhost:8080/"
        }
      },
      "outputs": [
        {
          "output_type": "stream",
          "name": "stdout",
          "text": [
            "Mean Absolute Error (MAE): 0.26\n"
          ]
        }
      ],
      "source": [
        "mae = mean_absolute_error(y_test, y_pred)\n",
        "print(\"Mean Absolute Error (MAE):\", mae.round(2))"
      ]
    },
    {
      "cell_type": "markdown",
      "id": "4b34ebba-d396-4f10-8f50-75492c4b438f",
      "metadata": {
        "id": "4b34ebba-d396-4f10-8f50-75492c4b438f"
      },
      "source": [
        "### **Mean Squared Error (MSE):**\n",
        "MSE measures the average of the squared differences between the predicted and actual values. It gives more weight to larger errors and penalizes them.\n",
        "\n",
        "**Advantages:**\n",
        "* Provides a measure of how well the model performs while penalizing larger errors.\n",
        "* Mathematically convenient and commonly used in optimization algorithms.\n",
        "\n",
        "**Disadvantages:**\n",
        "* The squared nature of the metric makes it sensitive to outliers.\n",
        "* The units of MSE are not the same as the target variable, making it less interpretable.\n",
        "\n",
        "**Formula:**<br>\n",
        "<center><img src=\"https://cdn-media-1.freecodecamp.org/images/hmZydSW9YegiMVPWq2JBpOpai3CejzQpGkNG\" width=\"40%\"> </center>"
      ]
    },
    {
      "cell_type": "code",
      "execution_count": 18,
      "id": "b7e7a16c-3857-40c5-a624-e53725d30e6b",
      "metadata": {
        "tags": [],
        "id": "b7e7a16c-3857-40c5-a624-e53725d30e6b",
        "outputId": "7b324f5a-a2e3-4166-ff4c-65799a48a92c",
        "colab": {
          "base_uri": "https://localhost:8080/"
        }
      },
      "outputs": [
        {
          "output_type": "stream",
          "name": "stdout",
          "text": [
            "Mean Squared Error (MSE): 0.1\n"
          ]
        }
      ],
      "source": [
        "mse = mean_squared_error(y_test, y_pred)\n",
        "print(\"Mean Squared Error (MSE):\", mse.round(2))"
      ]
    },
    {
      "cell_type": "markdown",
      "id": "d37a581c-b5b4-4e52-bf46-b6fa31da7e20",
      "metadata": {
        "id": "d37a581c-b5b4-4e52-bf46-b6fa31da7e20"
      },
      "source": [
        "### **Root Mean Squared Error (RMSE):**\n",
        "RMSE is the square root of the MSE. It provides a more interpretable metric in the same units as the target variable.\n",
        "\n",
        "**Advantages:**\n",
        "* Shares the same unit as the target variable, which makes it more interpretable than MSE.\n",
        "* Balances the sensitivity to outliers found in MSE.\n",
        "\n",
        "**Disadvantages:**\n",
        "* Like MSE, it can still be sensitive to outliers.\n",
        "* Not as intuitive as MAE.\n",
        "\n",
        "**Formula:**<br>\n",
        "<center><img src=\"https://miro.medium.com/v2/resize:fit:966/1*lqDsPkfXPGen32Uem1PTNg.png\" width=\"40%\"> </center>"
      ]
    },
    {
      "cell_type": "code",
      "execution_count": 19,
      "id": "000db115-7940-4475-b8dd-274b706a9e23",
      "metadata": {
        "tags": [],
        "id": "000db115-7940-4475-b8dd-274b706a9e23",
        "outputId": "31558fb9-5372-4fb4-bad5-473ce0ccc718",
        "colab": {
          "base_uri": "https://localhost:8080/"
        }
      },
      "outputs": [
        {
          "output_type": "stream",
          "name": "stdout",
          "text": [
            "Root Mean Squared Error (RMSE): 0.32\n"
          ]
        }
      ],
      "source": [
        "rmse = np.sqrt(mean_squared_error(y_test, y_pred))\n",
        "print(\"Root Mean Squared Error (RMSE):\", rmse.round(2))"
      ]
    },
    {
      "cell_type": "markdown",
      "id": "8035fa4b-9d22-443b-8bbe-42da5e1884f9",
      "metadata": {
        "id": "8035fa4b-9d22-443b-8bbe-42da5e1884f9"
      },
      "source": [
        "### **R-squared (R²):**\n",
        "R-squared measures the proportion of the variance in the target variable that is explained by the model. It ranges from 0 to 1, with higher values indicating a better fit.\n",
        "\n",
        "**Advantages:**\n",
        "* Provides a measure of goodness of fit, indicating how well the model explains the variance in the data.\n",
        "* Values range from 0 to 1, where higher values suggest a better fit.\n",
        "\n",
        "**Disadvantages:**\n",
        "* It may increase when adding more predictors, even if they are irrelevant (overfitting).\n",
        "* R-squared alone doesn't reveal the direction or magnitude of individual errors.\n",
        "\n",
        "**Formula:**<br>\n",
        "<center><img src=\"https://i0.wp.com/www.fairlynerdy.com/wp-content/uploads/2017/01/r_squared_5.png?resize=625%2C193\" width=\"40%\"> </center>\n",
        "\n",
        "<center><img src=\"https://miro.medium.com/v2/resize:fit:828/format:webp/1*EjMnICEPkm0VzoLetqeYbw.jpeg\" width=\"60%\"> </center>"
      ]
    },
    {
      "cell_type": "code",
      "execution_count": 20,
      "id": "a1f28b62-2f25-4fdc-9d0d-a6547bd72e4f",
      "metadata": {
        "tags": [],
        "id": "a1f28b62-2f25-4fdc-9d0d-a6547bd72e4f",
        "outputId": "6268239b-1947-48c2-f131-a77de12fddf3",
        "colab": {
          "base_uri": "https://localhost:8080/"
        }
      },
      "outputs": [
        {
          "output_type": "stream",
          "name": "stdout",
          "text": [
            "R2 Score: 0.75\n"
          ]
        }
      ],
      "source": [
        "r2 = r2_score(y_test, y_pred)\n",
        "print(\"R2 Score:\", r2.round(2))"
      ]
    },
    {
      "cell_type": "markdown",
      "id": "5e67c7ac-44b3-4361-92d1-6ecb99381664",
      "metadata": {
        "id": "5e67c7ac-44b3-4361-92d1-6ecb99381664"
      },
      "source": [
        "### **Adjusted R-squared:**\n",
        "Adjusted R-squared is a modified version of R-squared that accounts for the number of predictors in the model. It penalizes the addition of irrelevant predictors.\n",
        "\n",
        "**Advantages:**\n",
        "* Adjusts R-squared to account for the number of predictors, helping to mitigate overfitting.\n",
        "* Offers a more realistic assessment of model fit in multiple regression.\n",
        "\n",
        "**Disadvantages:**\n",
        "* It can still be influenced by outliers and unrepresentative samples.\n",
        "\n",
        "**Formula:**<br>\n",
        "<center><img src=\"https://i.stack.imgur.com/RcGf6.png\" width=\"50%\"> </center>"
      ]
    },
    {
      "cell_type": "code",
      "execution_count": 21,
      "id": "8e5d2a56-bcc8-4603-948c-f0958f2c56c0",
      "metadata": {
        "tags": [],
        "id": "8e5d2a56-bcc8-4603-948c-f0958f2c56c0"
      },
      "outputs": [],
      "source": [
        "n = len(X_test) # Total Sample Size\n",
        "p = len(X_test.columns) # Number of independent variable"
      ]
    },
    {
      "cell_type": "code",
      "execution_count": 22,
      "id": "5410b9bc-be16-4b66-8faa-812635d462ef",
      "metadata": {
        "tags": [],
        "id": "5410b9bc-be16-4b66-8faa-812635d462ef",
        "outputId": "c7396f77-113c-41c5-95a3-0692c8061be6",
        "colab": {
          "base_uri": "https://localhost:8080/"
        }
      },
      "outputs": [
        {
          "output_type": "stream",
          "name": "stdout",
          "text": [
            "Adjusted R2 Score: 0.75\n"
          ]
        }
      ],
      "source": [
        "adusted_r2 = 1 - ((1 - r2)*(n - 1) / (n - p - 1))\n",
        "print(\"Adjusted R2 Score:\", adusted_r2.round(2))"
      ]
    }
  ],
  "metadata": {
    "kernelspec": {
      "display_name": "Python 3 (ipykernel)",
      "language": "python",
      "name": "python3"
    },
    "language_info": {
      "codemirror_mode": {
        "name": "ipython",
        "version": 3
      },
      "file_extension": ".py",
      "mimetype": "text/x-python",
      "name": "python",
      "nbconvert_exporter": "python",
      "pygments_lexer": "ipython3",
      "version": "3.11.4"
    },
    "colab": {
      "provenance": [],
      "include_colab_link": true
    }
  },
  "nbformat": 4,
  "nbformat_minor": 5
}