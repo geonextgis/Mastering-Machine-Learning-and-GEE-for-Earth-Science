{
  "cells": [
    {
      "cell_type": "markdown",
      "metadata": {
        "id": "view-in-github",
        "colab_type": "text"
      },
      "source": [
        "<a href=\"https://colab.research.google.com/github/geonextgis/Mastering-Machine-Learning-and-GEE-for-Earth-Science/blob/main/04_Machine_Learning_Algorithms/03_Multiple_Linear_Regression.ipynb\" target=\"_parent\"><img src=\"https://colab.research.google.com/assets/colab-badge.svg\" alt=\"Open In Colab\"/></a>"
      ]
    },
    {
      "cell_type": "markdown",
      "id": "5bd4e2da-eff3-46f0-b598-ef42e17255fd",
      "metadata": {
        "tags": [],
        "id": "5bd4e2da-eff3-46f0-b598-ef42e17255fd"
      },
      "source": [
        "# **Multiple Linear Regression**\n",
        "Multiple linear regression is a statistical method used in predictive modeling and data analysis. It extends simple linear regression, which involves modeling the relationship between a dependent variable (also known as the response variable) and a single independent variable (predictor), to cases where there are multiple independent variables. In multiple linear regression, you have more than one predictor variable."
      ]
    },
    {
      "cell_type": "markdown",
      "id": "fdb8ea46-591f-48b5-b028-c626e897091f",
      "metadata": {
        "id": "fdb8ea46-591f-48b5-b028-c626e897091f"
      },
      "source": [
        "<center><img src=\"https://miro.medium.com/v2/resize:fit:1400/0*pJsp76_deJvdDean\" width=\"60%\"></center>"
      ]
    },
    {
      "cell_type": "markdown",
      "id": "857ff8c8-fd7e-424c-810f-96e8bc5fb813",
      "metadata": {
        "id": "857ff8c8-fd7e-424c-810f-96e8bc5fb813"
      },
      "source": [
        "<center><img src=\"https://aegis4048.github.io/images/featured_images/multiple_linear_regression_and_visualization.png\" width=\"60%\"></center>"
      ]
    },
    {
      "cell_type": "markdown",
      "id": "c0a6dc83-bdec-44a9-bd3d-f35d992b53a3",
      "metadata": {
        "id": "c0a6dc83-bdec-44a9-bd3d-f35d992b53a3"
      },
      "source": [
        "## **Import Required Libraries**"
      ]
    },
    {
      "cell_type": "code",
      "source": [
        "from google.colab import drive\n",
        "drive.mount(\"/content/drive\")"
      ],
      "metadata": {
        "colab": {
          "base_uri": "https://localhost:8080/"
        },
        "id": "SmwCeFYMeEg5",
        "outputId": "f19d2f71-68af-48df-e11f-64511a6c0a37"
      },
      "id": "SmwCeFYMeEg5",
      "execution_count": 1,
      "outputs": [
        {
          "output_type": "stream",
          "name": "stdout",
          "text": [
            "Mounted at /content/drive\n"
          ]
        }
      ]
    },
    {
      "cell_type": "code",
      "execution_count": 23,
      "id": "ce7070f2-9e93-4722-87b1-86362f9c8bcd",
      "metadata": {
        "tags": [],
        "id": "ce7070f2-9e93-4722-87b1-86362f9c8bcd"
      },
      "outputs": [],
      "source": [
        "import numpy as np\n",
        "import pandas as pd\n",
        "import matplotlib.pyplot as plt\n",
        "import seaborn as sns\n",
        "from sklearn.datasets import make_regression\n",
        "from sklearn.model_selection import train_test_split\n",
        "from sklearn.linear_model import LinearRegression\n",
        "from sklearn.metrics import mean_absolute_error, mean_squared_error, r2_score\n",
        "import plotly.express as px\n",
        "import plotly.graph_objects as go\n",
        "\n",
        "import warnings\n",
        "warnings.filterwarnings(\"ignore\")"
      ]
    },
    {
      "cell_type": "markdown",
      "id": "33a1f01f-1dbc-422e-9821-e9d2d71c5d11",
      "metadata": {
        "id": "33a1f01f-1dbc-422e-9821-e9d2d71c5d11"
      },
      "source": [
        "## **Generate a Data for Regression**"
      ]
    },
    {
      "cell_type": "code",
      "execution_count": 4,
      "id": "8b042bfd-f474-4b4a-882a-682f81e16080",
      "metadata": {
        "tags": [],
        "id": "8b042bfd-f474-4b4a-882a-682f81e16080"
      },
      "outputs": [],
      "source": [
        "# Generate a data for regression\n",
        "# X = independent featues\n",
        "# y = dependent feature\n",
        "X, y = make_regression(n_samples=100,\n",
        "                       n_features=2,\n",
        "                       n_informative=2,\n",
        "                       n_targets=1,\n",
        "                       noise=50)"
      ]
    },
    {
      "cell_type": "code",
      "execution_count": 10,
      "id": "e60f7f09-257f-476f-9661-cb2a1a1ffcf2",
      "metadata": {
        "tags": [],
        "colab": {
          "base_uri": "https://localhost:8080/",
          "height": 223
        },
        "id": "e60f7f09-257f-476f-9661-cb2a1a1ffcf2",
        "outputId": "efad2867-007d-40a3-d6b3-0b82a89ee20e"
      },
      "outputs": [
        {
          "output_type": "stream",
          "name": "stdout",
          "text": [
            "(100, 3)\n"
          ]
        },
        {
          "output_type": "execute_result",
          "data": {
            "text/plain": [
              "   feature1  feature2      target\n",
              "0  0.372361 -0.963456   18.631810\n",
              "1  0.189188  1.496411  107.140201\n",
              "2  0.538128  0.010721   90.762397\n",
              "3 -0.343460 -0.952194   49.038528\n",
              "4 -0.667832  2.133493  106.942583"
            ],
            "text/html": [
              "\n",
              "  <div id=\"df-e1672f3f-a82f-4d15-a58b-a9c4941c764d\" class=\"colab-df-container\">\n",
              "    <div>\n",
              "<style scoped>\n",
              "    .dataframe tbody tr th:only-of-type {\n",
              "        vertical-align: middle;\n",
              "    }\n",
              "\n",
              "    .dataframe tbody tr th {\n",
              "        vertical-align: top;\n",
              "    }\n",
              "\n",
              "    .dataframe thead th {\n",
              "        text-align: right;\n",
              "    }\n",
              "</style>\n",
              "<table border=\"1\" class=\"dataframe\">\n",
              "  <thead>\n",
              "    <tr style=\"text-align: right;\">\n",
              "      <th></th>\n",
              "      <th>feature1</th>\n",
              "      <th>feature2</th>\n",
              "      <th>target</th>\n",
              "    </tr>\n",
              "  </thead>\n",
              "  <tbody>\n",
              "    <tr>\n",
              "      <th>0</th>\n",
              "      <td>0.372361</td>\n",
              "      <td>-0.963456</td>\n",
              "      <td>18.631810</td>\n",
              "    </tr>\n",
              "    <tr>\n",
              "      <th>1</th>\n",
              "      <td>0.189188</td>\n",
              "      <td>1.496411</td>\n",
              "      <td>107.140201</td>\n",
              "    </tr>\n",
              "    <tr>\n",
              "      <th>2</th>\n",
              "      <td>0.538128</td>\n",
              "      <td>0.010721</td>\n",
              "      <td>90.762397</td>\n",
              "    </tr>\n",
              "    <tr>\n",
              "      <th>3</th>\n",
              "      <td>-0.343460</td>\n",
              "      <td>-0.952194</td>\n",
              "      <td>49.038528</td>\n",
              "    </tr>\n",
              "    <tr>\n",
              "      <th>4</th>\n",
              "      <td>-0.667832</td>\n",
              "      <td>2.133493</td>\n",
              "      <td>106.942583</td>\n",
              "    </tr>\n",
              "  </tbody>\n",
              "</table>\n",
              "</div>\n",
              "    <div class=\"colab-df-buttons\">\n",
              "\n",
              "  <div class=\"colab-df-container\">\n",
              "    <button class=\"colab-df-convert\" onclick=\"convertToInteractive('df-e1672f3f-a82f-4d15-a58b-a9c4941c764d')\"\n",
              "            title=\"Convert this dataframe to an interactive table.\"\n",
              "            style=\"display:none;\">\n",
              "\n",
              "  <svg xmlns=\"http://www.w3.org/2000/svg\" height=\"24px\" viewBox=\"0 -960 960 960\">\n",
              "    <path d=\"M120-120v-720h720v720H120Zm60-500h600v-160H180v160Zm220 220h160v-160H400v160Zm0 220h160v-160H400v160ZM180-400h160v-160H180v160Zm440 0h160v-160H620v160ZM180-180h160v-160H180v160Zm440 0h160v-160H620v160Z\"/>\n",
              "  </svg>\n",
              "    </button>\n",
              "\n",
              "  <style>\n",
              "    .colab-df-container {\n",
              "      display:flex;\n",
              "      gap: 12px;\n",
              "    }\n",
              "\n",
              "    .colab-df-convert {\n",
              "      background-color: #E8F0FE;\n",
              "      border: none;\n",
              "      border-radius: 50%;\n",
              "      cursor: pointer;\n",
              "      display: none;\n",
              "      fill: #1967D2;\n",
              "      height: 32px;\n",
              "      padding: 0 0 0 0;\n",
              "      width: 32px;\n",
              "    }\n",
              "\n",
              "    .colab-df-convert:hover {\n",
              "      background-color: #E2EBFA;\n",
              "      box-shadow: 0px 1px 2px rgba(60, 64, 67, 0.3), 0px 1px 3px 1px rgba(60, 64, 67, 0.15);\n",
              "      fill: #174EA6;\n",
              "    }\n",
              "\n",
              "    .colab-df-buttons div {\n",
              "      margin-bottom: 4px;\n",
              "    }\n",
              "\n",
              "    [theme=dark] .colab-df-convert {\n",
              "      background-color: #3B4455;\n",
              "      fill: #D2E3FC;\n",
              "    }\n",
              "\n",
              "    [theme=dark] .colab-df-convert:hover {\n",
              "      background-color: #434B5C;\n",
              "      box-shadow: 0px 1px 3px 1px rgba(0, 0, 0, 0.15);\n",
              "      filter: drop-shadow(0px 1px 2px rgba(0, 0, 0, 0.3));\n",
              "      fill: #FFFFFF;\n",
              "    }\n",
              "  </style>\n",
              "\n",
              "    <script>\n",
              "      const buttonEl =\n",
              "        document.querySelector('#df-e1672f3f-a82f-4d15-a58b-a9c4941c764d button.colab-df-convert');\n",
              "      buttonEl.style.display =\n",
              "        google.colab.kernel.accessAllowed ? 'block' : 'none';\n",
              "\n",
              "      async function convertToInteractive(key) {\n",
              "        const element = document.querySelector('#df-e1672f3f-a82f-4d15-a58b-a9c4941c764d');\n",
              "        const dataTable =\n",
              "          await google.colab.kernel.invokeFunction('convertToInteractive',\n",
              "                                                    [key], {});\n",
              "        if (!dataTable) return;\n",
              "\n",
              "        const docLinkHtml = 'Like what you see? Visit the ' +\n",
              "          '<a target=\"_blank\" href=https://colab.research.google.com/notebooks/data_table.ipynb>data table notebook</a>'\n",
              "          + ' to learn more about interactive tables.';\n",
              "        element.innerHTML = '';\n",
              "        dataTable['output_type'] = 'display_data';\n",
              "        await google.colab.output.renderOutput(dataTable, element);\n",
              "        const docLink = document.createElement('div');\n",
              "        docLink.innerHTML = docLinkHtml;\n",
              "        element.appendChild(docLink);\n",
              "      }\n",
              "    </script>\n",
              "  </div>\n",
              "\n",
              "\n",
              "<div id=\"df-73288928-e866-463c-a4c2-1219344dadcf\">\n",
              "  <button class=\"colab-df-quickchart\" onclick=\"quickchart('df-73288928-e866-463c-a4c2-1219344dadcf')\"\n",
              "            title=\"Suggest charts\"\n",
              "            style=\"display:none;\">\n",
              "\n",
              "<svg xmlns=\"http://www.w3.org/2000/svg\" height=\"24px\"viewBox=\"0 0 24 24\"\n",
              "     width=\"24px\">\n",
              "    <g>\n",
              "        <path d=\"M19 3H5c-1.1 0-2 .9-2 2v14c0 1.1.9 2 2 2h14c1.1 0 2-.9 2-2V5c0-1.1-.9-2-2-2zM9 17H7v-7h2v7zm4 0h-2V7h2v10zm4 0h-2v-4h2v4z\"/>\n",
              "    </g>\n",
              "</svg>\n",
              "  </button>\n",
              "\n",
              "<style>\n",
              "  .colab-df-quickchart {\n",
              "      --bg-color: #E8F0FE;\n",
              "      --fill-color: #1967D2;\n",
              "      --hover-bg-color: #E2EBFA;\n",
              "      --hover-fill-color: #174EA6;\n",
              "      --disabled-fill-color: #AAA;\n",
              "      --disabled-bg-color: #DDD;\n",
              "  }\n",
              "\n",
              "  [theme=dark] .colab-df-quickchart {\n",
              "      --bg-color: #3B4455;\n",
              "      --fill-color: #D2E3FC;\n",
              "      --hover-bg-color: #434B5C;\n",
              "      --hover-fill-color: #FFFFFF;\n",
              "      --disabled-bg-color: #3B4455;\n",
              "      --disabled-fill-color: #666;\n",
              "  }\n",
              "\n",
              "  .colab-df-quickchart {\n",
              "    background-color: var(--bg-color);\n",
              "    border: none;\n",
              "    border-radius: 50%;\n",
              "    cursor: pointer;\n",
              "    display: none;\n",
              "    fill: var(--fill-color);\n",
              "    height: 32px;\n",
              "    padding: 0;\n",
              "    width: 32px;\n",
              "  }\n",
              "\n",
              "  .colab-df-quickchart:hover {\n",
              "    background-color: var(--hover-bg-color);\n",
              "    box-shadow: 0 1px 2px rgba(60, 64, 67, 0.3), 0 1px 3px 1px rgba(60, 64, 67, 0.15);\n",
              "    fill: var(--button-hover-fill-color);\n",
              "  }\n",
              "\n",
              "  .colab-df-quickchart-complete:disabled,\n",
              "  .colab-df-quickchart-complete:disabled:hover {\n",
              "    background-color: var(--disabled-bg-color);\n",
              "    fill: var(--disabled-fill-color);\n",
              "    box-shadow: none;\n",
              "  }\n",
              "\n",
              "  .colab-df-spinner {\n",
              "    border: 2px solid var(--fill-color);\n",
              "    border-color: transparent;\n",
              "    border-bottom-color: var(--fill-color);\n",
              "    animation:\n",
              "      spin 1s steps(1) infinite;\n",
              "  }\n",
              "\n",
              "  @keyframes spin {\n",
              "    0% {\n",
              "      border-color: transparent;\n",
              "      border-bottom-color: var(--fill-color);\n",
              "      border-left-color: var(--fill-color);\n",
              "    }\n",
              "    20% {\n",
              "      border-color: transparent;\n",
              "      border-left-color: var(--fill-color);\n",
              "      border-top-color: var(--fill-color);\n",
              "    }\n",
              "    30% {\n",
              "      border-color: transparent;\n",
              "      border-left-color: var(--fill-color);\n",
              "      border-top-color: var(--fill-color);\n",
              "      border-right-color: var(--fill-color);\n",
              "    }\n",
              "    40% {\n",
              "      border-color: transparent;\n",
              "      border-right-color: var(--fill-color);\n",
              "      border-top-color: var(--fill-color);\n",
              "    }\n",
              "    60% {\n",
              "      border-color: transparent;\n",
              "      border-right-color: var(--fill-color);\n",
              "    }\n",
              "    80% {\n",
              "      border-color: transparent;\n",
              "      border-right-color: var(--fill-color);\n",
              "      border-bottom-color: var(--fill-color);\n",
              "    }\n",
              "    90% {\n",
              "      border-color: transparent;\n",
              "      border-bottom-color: var(--fill-color);\n",
              "    }\n",
              "  }\n",
              "</style>\n",
              "\n",
              "  <script>\n",
              "    async function quickchart(key) {\n",
              "      const quickchartButtonEl =\n",
              "        document.querySelector('#' + key + ' button');\n",
              "      quickchartButtonEl.disabled = true;  // To prevent multiple clicks.\n",
              "      quickchartButtonEl.classList.add('colab-df-spinner');\n",
              "      try {\n",
              "        const charts = await google.colab.kernel.invokeFunction(\n",
              "            'suggestCharts', [key], {});\n",
              "      } catch (error) {\n",
              "        console.error('Error during call to suggestCharts:', error);\n",
              "      }\n",
              "      quickchartButtonEl.classList.remove('colab-df-spinner');\n",
              "      quickchartButtonEl.classList.add('colab-df-quickchart-complete');\n",
              "    }\n",
              "    (() => {\n",
              "      let quickchartButtonEl =\n",
              "        document.querySelector('#df-73288928-e866-463c-a4c2-1219344dadcf button');\n",
              "      quickchartButtonEl.style.display =\n",
              "        google.colab.kernel.accessAllowed ? 'block' : 'none';\n",
              "    })();\n",
              "  </script>\n",
              "</div>\n",
              "\n",
              "    </div>\n",
              "  </div>\n"
            ],
            "application/vnd.google.colaboratory.intrinsic+json": {
              "type": "dataframe",
              "variable_name": "df",
              "summary": "{\n  \"name\": \"df\",\n  \"rows\": 100,\n  \"fields\": [\n    {\n      \"column\": \"feature1\",\n      \"properties\": {\n        \"dtype\": \"number\",\n        \"std\": 0.9384475416869744,\n        \"min\": -2.079584734748839,\n        \"max\": 2.1629383351244984,\n        \"num_unique_values\": 100,\n        \"samples\": [\n          -0.2531687018848489,\n          -1.11801795574522,\n          0.04285451625709338\n        ],\n        \"semantic_type\": \"\",\n        \"description\": \"\"\n      }\n    },\n    {\n      \"column\": \"feature2\",\n      \"properties\": {\n        \"dtype\": \"number\",\n        \"std\": 0.9505344818913039,\n        \"min\": -2.7680872291617646,\n        \"max\": 2.1334934461816366,\n        \"num_unique_values\": 100,\n        \"samples\": [\n          -1.534345889122143,\n          0.7078007550185499,\n          0.015108973998294419\n        ],\n        \"semantic_type\": \"\",\n        \"description\": \"\"\n      }\n    },\n    {\n      \"column\": \"target\",\n      \"properties\": {\n        \"dtype\": \"number\",\n        \"std\": 59.52833872283324,\n        \"min\": -118.57917028398089,\n        \"max\": 145.509741574047,\n        \"num_unique_values\": 100,\n        \"samples\": [\n          46.076434186416094,\n          -19.144940357784897,\n          -10.784585929429833\n        ],\n        \"semantic_type\": \"\",\n        \"description\": \"\"\n      }\n    }\n  ]\n}"
            }
          },
          "metadata": {},
          "execution_count": 10
        }
      ],
      "source": [
        "# Create a dataframe\n",
        "data_dict = {\"feature1\": X[:, 0], \"feature2\": X[:, 1], \"target\":y}\n",
        "df = pd.DataFrame(data=data_dict)\n",
        "print(df.shape)\n",
        "df.head()"
      ]
    },
    {
      "cell_type": "markdown",
      "id": "fe4b08c7-b70f-4ea3-85a4-da8f930c2ac0",
      "metadata": {
        "id": "fe4b08c7-b70f-4ea3-85a4-da8f930c2ac0"
      },
      "source": [
        "## **Plot the Data**"
      ]
    },
    {
      "cell_type": "code",
      "execution_count": 15,
      "id": "20b43982-e95d-4912-ab0b-48e07cb10725",
      "metadata": {
        "tags": [],
        "colab": {
          "base_uri": "https://localhost:8080/",
          "height": 617
        },
        "id": "20b43982-e95d-4912-ab0b-48e07cb10725",
        "outputId": "f1cdb3bb-ea58-4cbc-b548-158973c1ee4a"
      },
      "outputs": [
        {
          "output_type": "display_data",
          "data": {
            "text/html": [
              "<html>\n",
              "<head><meta charset=\"utf-8\" /></head>\n",
              "<body>\n",
              "    <div>            <script src=\"https://cdnjs.cloudflare.com/ajax/libs/mathjax/2.7.5/MathJax.js?config=TeX-AMS-MML_SVG\"></script><script type=\"text/javascript\">if (window.MathJax && window.MathJax.Hub && window.MathJax.Hub.Config) {window.MathJax.Hub.Config({SVG: {font: \"STIX-Web\"}});}</script>                <script type=\"text/javascript\">window.PlotlyConfig = {MathJaxConfig: 'local'};</script>\n",
              "        <script charset=\"utf-8\" src=\"https://cdn.plot.ly/plotly-2.24.1.min.js\"></script>                <div id=\"69471026-e898-4f29-b266-1a285ed82dc4\" class=\"plotly-graph-div\" style=\"height:600px; width:600px;\"></div>            <script type=\"text/javascript\">                                    window.PLOTLYENV=window.PLOTLYENV || {};                                    if (document.getElementById(\"69471026-e898-4f29-b266-1a285ed82dc4\")) {                    Plotly.newPlot(                        \"69471026-e898-4f29-b266-1a285ed82dc4\",                        [{\"hovertemplate\":\"feature1=%{x}\\u003cbr\\u003efeature2=%{y}\\u003cbr\\u003etarget=%{z}\\u003cextra\\u003e\\u003c\\u002fextra\\u003e\",\"legendgroup\":\"\",\"marker\":{\"color\":\"#636efa\",\"symbol\":\"circle\",\"size\":4},\"mode\":\"markers\",\"name\":\"\",\"scene\":\"scene\",\"showlegend\":false,\"x\":[0.3723610889742351,0.1891884967308723,0.5381278552705613,-0.3434595634648203,-0.667831852445695,1.1432275485440364,0.4676273121426091,0.29266378502467194,0.8270426394154957,-0.580307307671429,0.546782390214874,0.6845861313503633,-1.151134112081627,-1.654789662015525,0.6339909329569423,1.7478549051265257,-1.5268275351296818,-0.11075275314265844,0.15013337368831312,1.3201127955796501,-0.3662672799310357,0.8030433394798805,1.4649802016725226,-0.5938791192218079,-0.40372733843860004,0.5640994306500762,-0.13159997445206006,-0.5136571008167429,0.8061968918727979,-0.7293565531592657,1.0824523461379154,0.5933745807360221,-0.4689902911179893,2.1407455579394536,-0.08206576712777187,0.5954115421720173,0.6477296341324997,-0.24552142049531409,1.6604863316915113,1.0979480769967538,0.7435536799172483,0.9871272315244962,-1.618446886718936,-1.099089323409019,-0.9874930032898827,-0.027645407226353225,-0.19645166563702487,-0.32722958151320647,0.4212110153243905,0.1376594651715789,0.1728237335775421,0.6873096602177984,-1.269341137298813,-1.11801795574522,-0.10734944836118385,-0.2834698792020088,1.1195039626909198,1.1734988786103446,-1.0524673759078766,0.8787072749359265,-0.5939922282399765,0.6779344296009329,0.9642104062221154,0.19787266524563363,1.5080016397431655,0.3091211196563472,1.6828933564989303,-1.0384813008348666,-0.2565466807871801,0.26988873320998163,0.04285451625709338,0.6878571149484375,0.7983254324725134,-0.7487968663725034,-1.6826558665046027,1.6552742822263788,-0.28851641134891104,-0.5238835810238264,1.9692524131062952,-2.079584734748839,-0.7141593851964142,0.40269887303792407,-1.1075790789320643,-0.2531687018848489,0.2759568880877082,0.37102527744216396,2.1629383351244984,-0.8286877672097074,0.5353886676890672,0.38491432420942745,0.8200801328975336,1.5589731870086951,-0.5628486875929833,-0.22359461187247603,-1.1338042337401009,-0.2599010890054611,-1.2720849245334578,1.2271435315755201,-1.3421928827394978,-0.017983997536824232],\"y\":[-0.9634559663247908,1.4964106181141559,0.010721047036986942,-0.9521938468250941,2.1334934461816366,-0.3699639116778846,0.1939806501164373,0.23313466868212201,-1.427459615238304,0.46415640779934325,0.961970817126117,0.8834249816057074,0.4395985748221526,-0.07068044041889845,-0.4381890410957531,-1.6062777933653505,0.6876781102945267,-0.4119845558241297,-1.166575854048494,-0.38306845260647926,0.3567983352455082,-0.7601130795101978,-1.5529016625565903,0.5078323067299527,1.3615350409811058,-1.8691521503906154,0.6103412272610256,0.583907951701399,0.11879919122701682,-1.0751131639471603,-0.0738032921127884,0.27524380913946106,0.3110411297953696,-0.9415901182546433,0.8870180851343173,-0.7260578021643125,-0.1186547535237324,0.22068572400258077,-1.745056748875714,-0.5008130569774171,-1.0663775599963974,0.5315780309126324,-0.6316846937631846,-0.12615339478822102,-0.07324162243734395,0.8156829682461653,-0.4902354277330718,1.0444882347096716,-1.7867098166363191,0.5116844907011474,-1.3574245592195087,-1.4684132173056446,-1.0280518487911372,0.7078007550185499,-0.7706349913015644,0.06714986704095346,1.146396787890788,1.8319406711808985,0.3635023879430872,0.9443474729163748,-1.1350916339529395,1.0505755060455821,1.4351741633623256,-0.14421237684925725,0.3071671096270926,0.4454341325687428,-0.3857904393508356,0.1721494819914873,-2.7680872291617646,-0.3380980163290368,0.015108973998294419,0.41197872235501065,-0.23304677725884482,-0.2094841221488905,0.7078963695159539,-0.5371977806769057,-0.5933705274448189,-1.5016627693662492,0.9447993308830812,-1.880908059055564,-1.1708075943865592,-0.3111101817782315,-0.256229196281992,-1.534345889122143,0.04953199439225269,0.3609412739677177,-2.342573069730313,-1.110642525796416,-0.11963589973077414,-0.01061023690371122,-0.15792799425629708,-0.30049747647846775,0.656111416829632,-0.5980595721265549,-0.12083915601191424,-0.9204348059392617,0.8367284876481386,1.0215804404441085,0.05936567026961416,1.6860203958556863],\"z\":[18.63180977372165,107.14020081067645,90.76239709783613,49.038527972888744,106.94258349045573,-98.87897218080965,-58.4143263430382,63.33856011109737,65.49451212467596,-38.88244056679323,-21.179326971646017,73.1563206834058,-11.932323855076998,-33.43776807891709,59.339602594157,-48.65566095415327,-9.859813122207125,18.234954298575694,-20.72752761317112,27.713827170446734,-7.1665801732346495,7.010234791902274,69.99827430918357,42.32322657551955,115.31525462060165,-13.908178387579452,-43.877997454568906,45.923746178417055,-66.11512677073206,-63.29912612613683,78.42740274607206,139.53390914780746,-24.318555378343703,31.49361759315329,-19.739730168081365,-81.25020234783261,-13.713675846666769,36.194722441807535,109.83459820736357,106.33734764528757,-110.32396347147699,46.52609574347109,-4.866013899675647,-45.4641286053171,0.6145322460033533,-96.80292364409539,17.146203762495986,-23.42672822056826,-21.386516928664296,-16.776876021857476,25.428860157503678,-0.2802036676581574,-13.785115521709965,-19.144940357784897,-8.241379464803773,96.71752199767907,54.049552700383146,18.136197363429837,-84.0868473322473,45.65761179940144,-6.515244313420853,56.90018178132634,22.343748075427747,4.605434329868196,30.560284809923328,69.01141117164327,-47.80874320195667,4.21832882737808,-26.61923526549578,69.85368861964953,-10.784585929429833,-41.37324066011392,32.29904862752929,-56.35407724826128,-4.059273238172182,33.430026037523064,-11.994354325729443,-13.489839105075276,109.85141253021494,-108.26822664112797,-4.6554228941325135,12.720543969081865,2.1712282899448887,46.076434186416094,66.69232544828701,-3.426892714829318,7.449414961971314,-92.63762566317529,-59.278191875765906,35.77845432816711,66.38592113265315,24.155922948242694,-49.808157808146646,-46.276555262537215,130.29623050241793,31.29566986008829,-118.57917028398089,145.509741574047,-100.87887549162063,58.93885505628268],\"type\":\"scatter3d\"}],                        {\"template\":{\"data\":{\"histogram2dcontour\":[{\"type\":\"histogram2dcontour\",\"colorbar\":{\"outlinewidth\":0,\"ticks\":\"\"},\"colorscale\":[[0.0,\"#0d0887\"],[0.1111111111111111,\"#46039f\"],[0.2222222222222222,\"#7201a8\"],[0.3333333333333333,\"#9c179e\"],[0.4444444444444444,\"#bd3786\"],[0.5555555555555556,\"#d8576b\"],[0.6666666666666666,\"#ed7953\"],[0.7777777777777778,\"#fb9f3a\"],[0.8888888888888888,\"#fdca26\"],[1.0,\"#f0f921\"]]}],\"choropleth\":[{\"type\":\"choropleth\",\"colorbar\":{\"outlinewidth\":0,\"ticks\":\"\"}}],\"histogram2d\":[{\"type\":\"histogram2d\",\"colorbar\":{\"outlinewidth\":0,\"ticks\":\"\"},\"colorscale\":[[0.0,\"#0d0887\"],[0.1111111111111111,\"#46039f\"],[0.2222222222222222,\"#7201a8\"],[0.3333333333333333,\"#9c179e\"],[0.4444444444444444,\"#bd3786\"],[0.5555555555555556,\"#d8576b\"],[0.6666666666666666,\"#ed7953\"],[0.7777777777777778,\"#fb9f3a\"],[0.8888888888888888,\"#fdca26\"],[1.0,\"#f0f921\"]]}],\"heatmap\":[{\"type\":\"heatmap\",\"colorbar\":{\"outlinewidth\":0,\"ticks\":\"\"},\"colorscale\":[[0.0,\"#0d0887\"],[0.1111111111111111,\"#46039f\"],[0.2222222222222222,\"#7201a8\"],[0.3333333333333333,\"#9c179e\"],[0.4444444444444444,\"#bd3786\"],[0.5555555555555556,\"#d8576b\"],[0.6666666666666666,\"#ed7953\"],[0.7777777777777778,\"#fb9f3a\"],[0.8888888888888888,\"#fdca26\"],[1.0,\"#f0f921\"]]}],\"heatmapgl\":[{\"type\":\"heatmapgl\",\"colorbar\":{\"outlinewidth\":0,\"ticks\":\"\"},\"colorscale\":[[0.0,\"#0d0887\"],[0.1111111111111111,\"#46039f\"],[0.2222222222222222,\"#7201a8\"],[0.3333333333333333,\"#9c179e\"],[0.4444444444444444,\"#bd3786\"],[0.5555555555555556,\"#d8576b\"],[0.6666666666666666,\"#ed7953\"],[0.7777777777777778,\"#fb9f3a\"],[0.8888888888888888,\"#fdca26\"],[1.0,\"#f0f921\"]]}],\"contourcarpet\":[{\"type\":\"contourcarpet\",\"colorbar\":{\"outlinewidth\":0,\"ticks\":\"\"}}],\"contour\":[{\"type\":\"contour\",\"colorbar\":{\"outlinewidth\":0,\"ticks\":\"\"},\"colorscale\":[[0.0,\"#0d0887\"],[0.1111111111111111,\"#46039f\"],[0.2222222222222222,\"#7201a8\"],[0.3333333333333333,\"#9c179e\"],[0.4444444444444444,\"#bd3786\"],[0.5555555555555556,\"#d8576b\"],[0.6666666666666666,\"#ed7953\"],[0.7777777777777778,\"#fb9f3a\"],[0.8888888888888888,\"#fdca26\"],[1.0,\"#f0f921\"]]}],\"surface\":[{\"type\":\"surface\",\"colorbar\":{\"outlinewidth\":0,\"ticks\":\"\"},\"colorscale\":[[0.0,\"#0d0887\"],[0.1111111111111111,\"#46039f\"],[0.2222222222222222,\"#7201a8\"],[0.3333333333333333,\"#9c179e\"],[0.4444444444444444,\"#bd3786\"],[0.5555555555555556,\"#d8576b\"],[0.6666666666666666,\"#ed7953\"],[0.7777777777777778,\"#fb9f3a\"],[0.8888888888888888,\"#fdca26\"],[1.0,\"#f0f921\"]]}],\"mesh3d\":[{\"type\":\"mesh3d\",\"colorbar\":{\"outlinewidth\":0,\"ticks\":\"\"}}],\"scatter\":[{\"fillpattern\":{\"fillmode\":\"overlay\",\"size\":10,\"solidity\":0.2},\"type\":\"scatter\"}],\"parcoords\":[{\"type\":\"parcoords\",\"line\":{\"colorbar\":{\"outlinewidth\":0,\"ticks\":\"\"}}}],\"scatterpolargl\":[{\"type\":\"scatterpolargl\",\"marker\":{\"colorbar\":{\"outlinewidth\":0,\"ticks\":\"\"}}}],\"bar\":[{\"error_x\":{\"color\":\"#2a3f5f\"},\"error_y\":{\"color\":\"#2a3f5f\"},\"marker\":{\"line\":{\"color\":\"#E5ECF6\",\"width\":0.5},\"pattern\":{\"fillmode\":\"overlay\",\"size\":10,\"solidity\":0.2}},\"type\":\"bar\"}],\"scattergeo\":[{\"type\":\"scattergeo\",\"marker\":{\"colorbar\":{\"outlinewidth\":0,\"ticks\":\"\"}}}],\"scatterpolar\":[{\"type\":\"scatterpolar\",\"marker\":{\"colorbar\":{\"outlinewidth\":0,\"ticks\":\"\"}}}],\"histogram\":[{\"marker\":{\"pattern\":{\"fillmode\":\"overlay\",\"size\":10,\"solidity\":0.2}},\"type\":\"histogram\"}],\"scattergl\":[{\"type\":\"scattergl\",\"marker\":{\"colorbar\":{\"outlinewidth\":0,\"ticks\":\"\"}}}],\"scatter3d\":[{\"type\":\"scatter3d\",\"line\":{\"colorbar\":{\"outlinewidth\":0,\"ticks\":\"\"}},\"marker\":{\"colorbar\":{\"outlinewidth\":0,\"ticks\":\"\"}}}],\"scattermapbox\":[{\"type\":\"scattermapbox\",\"marker\":{\"colorbar\":{\"outlinewidth\":0,\"ticks\":\"\"}}}],\"scatterternary\":[{\"type\":\"scatterternary\",\"marker\":{\"colorbar\":{\"outlinewidth\":0,\"ticks\":\"\"}}}],\"scattercarpet\":[{\"type\":\"scattercarpet\",\"marker\":{\"colorbar\":{\"outlinewidth\":0,\"ticks\":\"\"}}}],\"carpet\":[{\"aaxis\":{\"endlinecolor\":\"#2a3f5f\",\"gridcolor\":\"white\",\"linecolor\":\"white\",\"minorgridcolor\":\"white\",\"startlinecolor\":\"#2a3f5f\"},\"baxis\":{\"endlinecolor\":\"#2a3f5f\",\"gridcolor\":\"white\",\"linecolor\":\"white\",\"minorgridcolor\":\"white\",\"startlinecolor\":\"#2a3f5f\"},\"type\":\"carpet\"}],\"table\":[{\"cells\":{\"fill\":{\"color\":\"#EBF0F8\"},\"line\":{\"color\":\"white\"}},\"header\":{\"fill\":{\"color\":\"#C8D4E3\"},\"line\":{\"color\":\"white\"}},\"type\":\"table\"}],\"barpolar\":[{\"marker\":{\"line\":{\"color\":\"#E5ECF6\",\"width\":0.5},\"pattern\":{\"fillmode\":\"overlay\",\"size\":10,\"solidity\":0.2}},\"type\":\"barpolar\"}],\"pie\":[{\"automargin\":true,\"type\":\"pie\"}]},\"layout\":{\"autotypenumbers\":\"strict\",\"colorway\":[\"#636efa\",\"#EF553B\",\"#00cc96\",\"#ab63fa\",\"#FFA15A\",\"#19d3f3\",\"#FF6692\",\"#B6E880\",\"#FF97FF\",\"#FECB52\"],\"font\":{\"color\":\"#2a3f5f\"},\"hovermode\":\"closest\",\"hoverlabel\":{\"align\":\"left\"},\"paper_bgcolor\":\"white\",\"plot_bgcolor\":\"#E5ECF6\",\"polar\":{\"bgcolor\":\"#E5ECF6\",\"angularaxis\":{\"gridcolor\":\"white\",\"linecolor\":\"white\",\"ticks\":\"\"},\"radialaxis\":{\"gridcolor\":\"white\",\"linecolor\":\"white\",\"ticks\":\"\"}},\"ternary\":{\"bgcolor\":\"#E5ECF6\",\"aaxis\":{\"gridcolor\":\"white\",\"linecolor\":\"white\",\"ticks\":\"\"},\"baxis\":{\"gridcolor\":\"white\",\"linecolor\":\"white\",\"ticks\":\"\"},\"caxis\":{\"gridcolor\":\"white\",\"linecolor\":\"white\",\"ticks\":\"\"}},\"coloraxis\":{\"colorbar\":{\"outlinewidth\":0,\"ticks\":\"\"}},\"colorscale\":{\"sequential\":[[0.0,\"#0d0887\"],[0.1111111111111111,\"#46039f\"],[0.2222222222222222,\"#7201a8\"],[0.3333333333333333,\"#9c179e\"],[0.4444444444444444,\"#bd3786\"],[0.5555555555555556,\"#d8576b\"],[0.6666666666666666,\"#ed7953\"],[0.7777777777777778,\"#fb9f3a\"],[0.8888888888888888,\"#fdca26\"],[1.0,\"#f0f921\"]],\"sequentialminus\":[[0.0,\"#0d0887\"],[0.1111111111111111,\"#46039f\"],[0.2222222222222222,\"#7201a8\"],[0.3333333333333333,\"#9c179e\"],[0.4444444444444444,\"#bd3786\"],[0.5555555555555556,\"#d8576b\"],[0.6666666666666666,\"#ed7953\"],[0.7777777777777778,\"#fb9f3a\"],[0.8888888888888888,\"#fdca26\"],[1.0,\"#f0f921\"]],\"diverging\":[[0,\"#8e0152\"],[0.1,\"#c51b7d\"],[0.2,\"#de77ae\"],[0.3,\"#f1b6da\"],[0.4,\"#fde0ef\"],[0.5,\"#f7f7f7\"],[0.6,\"#e6f5d0\"],[0.7,\"#b8e186\"],[0.8,\"#7fbc41\"],[0.9,\"#4d9221\"],[1,\"#276419\"]]},\"xaxis\":{\"gridcolor\":\"white\",\"linecolor\":\"white\",\"ticks\":\"\",\"title\":{\"standoff\":15},\"zerolinecolor\":\"white\",\"automargin\":true,\"zerolinewidth\":2},\"yaxis\":{\"gridcolor\":\"white\",\"linecolor\":\"white\",\"ticks\":\"\",\"title\":{\"standoff\":15},\"zerolinecolor\":\"white\",\"automargin\":true,\"zerolinewidth\":2},\"scene\":{\"xaxis\":{\"backgroundcolor\":\"#E5ECF6\",\"gridcolor\":\"white\",\"linecolor\":\"white\",\"showbackground\":true,\"ticks\":\"\",\"zerolinecolor\":\"white\",\"gridwidth\":2},\"yaxis\":{\"backgroundcolor\":\"#E5ECF6\",\"gridcolor\":\"white\",\"linecolor\":\"white\",\"showbackground\":true,\"ticks\":\"\",\"zerolinecolor\":\"white\",\"gridwidth\":2},\"zaxis\":{\"backgroundcolor\":\"#E5ECF6\",\"gridcolor\":\"white\",\"linecolor\":\"white\",\"showbackground\":true,\"ticks\":\"\",\"zerolinecolor\":\"white\",\"gridwidth\":2}},\"shapedefaults\":{\"line\":{\"color\":\"#2a3f5f\"}},\"annotationdefaults\":{\"arrowcolor\":\"#2a3f5f\",\"arrowhead\":0,\"arrowwidth\":1},\"geo\":{\"bgcolor\":\"white\",\"landcolor\":\"#E5ECF6\",\"subunitcolor\":\"white\",\"showland\":true,\"showlakes\":true,\"lakecolor\":\"white\"},\"title\":{\"x\":0.05},\"mapbox\":{\"style\":\"light\"}}},\"scene\":{\"domain\":{\"x\":[0.0,1.0],\"y\":[0.0,1.0]},\"xaxis\":{\"title\":{\"text\":\"feature1\"}},\"yaxis\":{\"title\":{\"text\":\"feature2\"}},\"zaxis\":{\"title\":{\"text\":\"target\"}}},\"legend\":{\"tracegroupgap\":0},\"margin\":{\"t\":60},\"height\":600,\"width\":600},                        {\"responsive\": true}                    ).then(function(){\n",
              "                            \n",
              "var gd = document.getElementById('69471026-e898-4f29-b266-1a285ed82dc4');\n",
              "var x = new MutationObserver(function (mutations, observer) {{\n",
              "        var display = window.getComputedStyle(gd).display;\n",
              "        if (!display || display === 'none') {{\n",
              "            console.log([gd, 'removed!']);\n",
              "            Plotly.purge(gd);\n",
              "            observer.disconnect();\n",
              "        }}\n",
              "}});\n",
              "\n",
              "// Listen for the removal of the full notebook cells\n",
              "var notebookContainer = gd.closest('#notebook-container');\n",
              "if (notebookContainer) {{\n",
              "    x.observe(notebookContainer, {childList: true});\n",
              "}}\n",
              "\n",
              "// Listen for the clearing of the current output cell\n",
              "var outputEl = gd.closest('.output');\n",
              "if (outputEl) {{\n",
              "    x.observe(outputEl, {childList: true});\n",
              "}}\n",
              "\n",
              "                        })                };                            </script>        </div>\n",
              "</body>\n",
              "</html>"
            ]
          },
          "metadata": {}
        }
      ],
      "source": [
        "# Plot a 3-dimensional scatter plot\n",
        "fig = px.scatter_3d(data_frame=df, x=\"feature1\", y=\"feature2\",\n",
        "                    z=\"target\", width=600, height=600)\n",
        "fig.update_traces(marker={'size': 4})\n",
        "fig.show()"
      ]
    },
    {
      "cell_type": "markdown",
      "id": "910fbb6d-fd5e-4e99-916b-d4abe87803e6",
      "metadata": {
        "id": "910fbb6d-fd5e-4e99-916b-d4abe87803e6"
      },
      "source": [
        "## **Train Test Split**"
      ]
    },
    {
      "cell_type": "code",
      "execution_count": 17,
      "id": "5b45d5b7-60b3-4957-80b9-1d40930f0057",
      "metadata": {
        "tags": [],
        "colab": {
          "base_uri": "https://localhost:8080/"
        },
        "id": "5b45d5b7-60b3-4957-80b9-1d40930f0057",
        "outputId": "42e62175-130d-4021-ea06-e6e3d9bb27f4"
      },
      "outputs": [
        {
          "output_type": "execute_result",
          "data": {
            "text/plain": [
              "((70, 2), (30, 2))"
            ]
          },
          "metadata": {},
          "execution_count": 17
        }
      ],
      "source": [
        "X_train, X_test, y_train, y_test = train_test_split(df.drop(\"target\", axis=1),\n",
        "                                                    df[\"target\"],\n",
        "                                                    test_size=0.3,\n",
        "                                                    random_state=0)\n",
        "X_train.shape, X_test.shape"
      ]
    },
    {
      "cell_type": "markdown",
      "id": "c34d7e65-75aa-482d-94cb-8dace550ff16",
      "metadata": {
        "id": "c34d7e65-75aa-482d-94cb-8dace550ff16"
      },
      "source": [
        "## **Train a Linear Regression Model**"
      ]
    },
    {
      "cell_type": "code",
      "execution_count": 19,
      "id": "5589bca6-c63b-4756-b2ff-6fe7e6f4ce4e",
      "metadata": {
        "tags": [],
        "colab": {
          "base_uri": "https://localhost:8080/",
          "height": 74
        },
        "id": "5589bca6-c63b-4756-b2ff-6fe7e6f4ce4e",
        "outputId": "c8761826-446f-4bc5-81b7-14d8fa8c95c3"
      },
      "outputs": [
        {
          "output_type": "execute_result",
          "data": {
            "text/plain": [
              "LinearRegression()"
            ],
            "text/html": [
              "<style>#sk-container-id-1 {color: black;background-color: white;}#sk-container-id-1 pre{padding: 0;}#sk-container-id-1 div.sk-toggleable {background-color: white;}#sk-container-id-1 label.sk-toggleable__label {cursor: pointer;display: block;width: 100%;margin-bottom: 0;padding: 0.3em;box-sizing: border-box;text-align: center;}#sk-container-id-1 label.sk-toggleable__label-arrow:before {content: \"▸\";float: left;margin-right: 0.25em;color: #696969;}#sk-container-id-1 label.sk-toggleable__label-arrow:hover:before {color: black;}#sk-container-id-1 div.sk-estimator:hover label.sk-toggleable__label-arrow:before {color: black;}#sk-container-id-1 div.sk-toggleable__content {max-height: 0;max-width: 0;overflow: hidden;text-align: left;background-color: #f0f8ff;}#sk-container-id-1 div.sk-toggleable__content pre {margin: 0.2em;color: black;border-radius: 0.25em;background-color: #f0f8ff;}#sk-container-id-1 input.sk-toggleable__control:checked~div.sk-toggleable__content {max-height: 200px;max-width: 100%;overflow: auto;}#sk-container-id-1 input.sk-toggleable__control:checked~label.sk-toggleable__label-arrow:before {content: \"▾\";}#sk-container-id-1 div.sk-estimator input.sk-toggleable__control:checked~label.sk-toggleable__label {background-color: #d4ebff;}#sk-container-id-1 div.sk-label input.sk-toggleable__control:checked~label.sk-toggleable__label {background-color: #d4ebff;}#sk-container-id-1 input.sk-hidden--visually {border: 0;clip: rect(1px 1px 1px 1px);clip: rect(1px, 1px, 1px, 1px);height: 1px;margin: -1px;overflow: hidden;padding: 0;position: absolute;width: 1px;}#sk-container-id-1 div.sk-estimator {font-family: monospace;background-color: #f0f8ff;border: 1px dotted black;border-radius: 0.25em;box-sizing: border-box;margin-bottom: 0.5em;}#sk-container-id-1 div.sk-estimator:hover {background-color: #d4ebff;}#sk-container-id-1 div.sk-parallel-item::after {content: \"\";width: 100%;border-bottom: 1px solid gray;flex-grow: 1;}#sk-container-id-1 div.sk-label:hover label.sk-toggleable__label {background-color: #d4ebff;}#sk-container-id-1 div.sk-serial::before {content: \"\";position: absolute;border-left: 1px solid gray;box-sizing: border-box;top: 0;bottom: 0;left: 50%;z-index: 0;}#sk-container-id-1 div.sk-serial {display: flex;flex-direction: column;align-items: center;background-color: white;padding-right: 0.2em;padding-left: 0.2em;position: relative;}#sk-container-id-1 div.sk-item {position: relative;z-index: 1;}#sk-container-id-1 div.sk-parallel {display: flex;align-items: stretch;justify-content: center;background-color: white;position: relative;}#sk-container-id-1 div.sk-item::before, #sk-container-id-1 div.sk-parallel-item::before {content: \"\";position: absolute;border-left: 1px solid gray;box-sizing: border-box;top: 0;bottom: 0;left: 50%;z-index: -1;}#sk-container-id-1 div.sk-parallel-item {display: flex;flex-direction: column;z-index: 1;position: relative;background-color: white;}#sk-container-id-1 div.sk-parallel-item:first-child::after {align-self: flex-end;width: 50%;}#sk-container-id-1 div.sk-parallel-item:last-child::after {align-self: flex-start;width: 50%;}#sk-container-id-1 div.sk-parallel-item:only-child::after {width: 0;}#sk-container-id-1 div.sk-dashed-wrapped {border: 1px dashed gray;margin: 0 0.4em 0.5em 0.4em;box-sizing: border-box;padding-bottom: 0.4em;background-color: white;}#sk-container-id-1 div.sk-label label {font-family: monospace;font-weight: bold;display: inline-block;line-height: 1.2em;}#sk-container-id-1 div.sk-label-container {text-align: center;}#sk-container-id-1 div.sk-container {/* jupyter's `normalize.less` sets `[hidden] { display: none; }` but bootstrap.min.css set `[hidden] { display: none !important; }` so we also need the `!important` here to be able to override the default hidden behavior on the sphinx rendered scikit-learn.org. See: https://github.com/scikit-learn/scikit-learn/issues/21755 */display: inline-block !important;position: relative;}#sk-container-id-1 div.sk-text-repr-fallback {display: none;}</style><div id=\"sk-container-id-1\" class=\"sk-top-container\"><div class=\"sk-text-repr-fallback\"><pre>LinearRegression()</pre><b>In a Jupyter environment, please rerun this cell to show the HTML representation or trust the notebook. <br />On GitHub, the HTML representation is unable to render, please try loading this page with nbviewer.org.</b></div><div class=\"sk-container\" hidden><div class=\"sk-item\"><div class=\"sk-estimator sk-toggleable\"><input class=\"sk-toggleable__control sk-hidden--visually\" id=\"sk-estimator-id-1\" type=\"checkbox\" checked><label for=\"sk-estimator-id-1\" class=\"sk-toggleable__label sk-toggleable__label-arrow\">LinearRegression</label><div class=\"sk-toggleable__content\"><pre>LinearRegression()</pre></div></div></div></div></div>"
            ]
          },
          "metadata": {},
          "execution_count": 19
        }
      ],
      "source": [
        "# Instantiate a linear Regression object\n",
        "lr = LinearRegression()\n",
        "\n",
        "# Fit the training data\n",
        "lr.fit(X_train, y_train)"
      ]
    },
    {
      "cell_type": "code",
      "execution_count": 20,
      "id": "d41bfcff-3ce3-446b-9787-1acdd82c1fb3",
      "metadata": {
        "tags": [],
        "colab": {
          "base_uri": "https://localhost:8080/"
        },
        "id": "d41bfcff-3ce3-446b-9787-1acdd82c1fb3",
        "outputId": "a23162cf-ded5-46ef-b8dd-05dacd031ffb"
      },
      "outputs": [
        {
          "output_type": "stream",
          "name": "stdout",
          "text": [
            "Coefficients: [19.57314123 18.20392878]\n"
          ]
        }
      ],
      "source": [
        "# Print the coefficients\n",
        "print(\"Coefficients:\", lr.coef_)"
      ]
    },
    {
      "cell_type": "code",
      "execution_count": 21,
      "id": "b3bbab38-d22d-421b-8876-b44e0ef2f0ea",
      "metadata": {
        "tags": [],
        "colab": {
          "base_uri": "https://localhost:8080/"
        },
        "id": "b3bbab38-d22d-421b-8876-b44e0ef2f0ea",
        "outputId": "094edf3f-c1b4-4e20-e626-bdfc440b4f8d"
      },
      "outputs": [
        {
          "output_type": "stream",
          "name": "stdout",
          "text": [
            "Intercept: 7.958513589526762\n"
          ]
        }
      ],
      "source": [
        "# Print the intercept value\n",
        "print(\"Intercept:\", lr.intercept_)"
      ]
    },
    {
      "cell_type": "code",
      "execution_count": 22,
      "id": "cf692a92-d1e0-418b-ad8c-eb120497af9c",
      "metadata": {
        "tags": [],
        "colab": {
          "base_uri": "https://localhost:8080/"
        },
        "id": "cf692a92-d1e0-418b-ad8c-eb120497af9c",
        "outputId": "66638a39-10a9-469f-c9d7-b46f835ab5a2"
      },
      "outputs": [
        {
          "output_type": "execute_result",
          "data": {
            "text/plain": [
              "array([ 16.49329693,   7.64997778,  18.68653128,   3.63250901,\n",
              "        30.57832075,  -7.30496918,  -9.40785405, -10.51122727,\n",
              "        -8.17123682, -13.88409678,  -1.03985522,   8.88560224,\n",
              "        63.70202891, -25.71757987,  17.93083009,  27.80199636,\n",
              "         8.36386671,  24.84158829,  32.71898928,  -1.83903719,\n",
              "       -15.85060437,  52.95694829, -16.09773792,  28.92166936,\n",
              "        22.26604079, -16.32220197,  20.64265895,  38.29870547,\n",
              "       -18.38466618,  -8.4903337 ])"
            ]
          },
          "metadata": {},
          "execution_count": 22
        }
      ],
      "source": [
        "# Predict the test data\n",
        "y_pred = lr.predict(X_test)\n",
        "y_pred"
      ]
    },
    {
      "cell_type": "markdown",
      "id": "3ce30ed8-611f-41cc-bcda-a6356cdc9b91",
      "metadata": {
        "id": "3ce30ed8-611f-41cc-bcda-a6356cdc9b91"
      },
      "source": [
        "## **Accuracy Assessment**"
      ]
    },
    {
      "cell_type": "code",
      "execution_count": 24,
      "id": "404fef22-da23-4ec3-9f7e-60b46a8af64b",
      "metadata": {
        "tags": [],
        "colab": {
          "base_uri": "https://localhost:8080/"
        },
        "id": "404fef22-da23-4ec3-9f7e-60b46a8af64b",
        "outputId": "cd69c8ba-a6b9-4be7-eb23-2a711c76a073"
      },
      "outputs": [
        {
          "output_type": "stream",
          "name": "stdout",
          "text": [
            "Mean Absolute Error (MAE): 41.66725079437291\n",
            "Mean Squared Error (MSE): 2753.101344149744\n",
            "R2 Score: 0.13484580575844196\n"
          ]
        }
      ],
      "source": [
        "print(\"Mean Absolute Error (MAE):\", mean_absolute_error(y_test, y_pred))\n",
        "print(\"Mean Squared Error (MSE):\", mean_squared_error(y_test, y_pred))\n",
        "print(\"R2 Score:\", r2_score(y_test, y_pred))"
      ]
    },
    {
      "cell_type": "markdown",
      "id": "2b6a4230-f855-4a7c-b5bf-d7dcae582b7f",
      "metadata": {
        "id": "2b6a4230-f855-4a7c-b5bf-d7dcae582b7f"
      },
      "source": [
        "## **Plot the Regression Plane**"
      ]
    },
    {
      "cell_type": "code",
      "execution_count": 25,
      "id": "1ec1f958-7584-4a94-af2d-10b58bd4e0a2",
      "metadata": {
        "tags": [],
        "colab": {
          "base_uri": "https://localhost:8080/"
        },
        "id": "1ec1f958-7584-4a94-af2d-10b58bd4e0a2",
        "outputId": "1765c27f-c269-4fb9-f3d6-094d3960b921"
      },
      "outputs": [
        {
          "output_type": "execute_result",
          "data": {
            "text/plain": [
              "feature1     -2.079585\n",
              "feature2     -2.768087\n",
              "target     -118.579170\n",
              "dtype: float64"
            ]
          },
          "metadata": {},
          "execution_count": 25
        }
      ],
      "source": [
        "# Check the minimum value of the data\n",
        "df.min()"
      ]
    },
    {
      "cell_type": "code",
      "execution_count": 26,
      "id": "b5fbd295-00ae-4e4a-9f25-011dbce3adbc",
      "metadata": {
        "tags": [],
        "colab": {
          "base_uri": "https://localhost:8080/"
        },
        "id": "b5fbd295-00ae-4e4a-9f25-011dbce3adbc",
        "outputId": "5a7aacea-72c6-496e-c11d-368c54f205a1"
      },
      "outputs": [
        {
          "output_type": "execute_result",
          "data": {
            "text/plain": [
              "feature1      2.162938\n",
              "feature2      2.133493\n",
              "target      145.509742\n",
              "dtype: float64"
            ]
          },
          "metadata": {},
          "execution_count": 26
        }
      ],
      "source": [
        "# Check the maximum value of the data\n",
        "df.max()"
      ]
    },
    {
      "cell_type": "code",
      "execution_count": 29,
      "id": "cb8f49e9-9be0-414f-8c43-565486ff4d48",
      "metadata": {
        "tags": [],
        "id": "cb8f49e9-9be0-414f-8c43-565486ff4d48"
      },
      "outputs": [],
      "source": [
        "# Make a mesh grid\n",
        "x = np.linspace(start=-3, stop=3, num=10)\n",
        "y = np.linspace(start=-3, stop=3, num=10)\n",
        "xGrid, yGrid = np.meshgrid(y, x)"
      ]
    },
    {
      "cell_type": "code",
      "execution_count": 34,
      "id": "b1752ad3-95fe-4201-a87a-0b1be3f7082b",
      "metadata": {
        "tags": [],
        "id": "b1752ad3-95fe-4201-a87a-0b1be3f7082b"
      },
      "outputs": [],
      "source": [
        "# Combine x and y cor=ordinates grid\n",
        "final = np.vstack((xGrid.ravel().reshape(1, 100), yGrid.ravel().reshape(1, 100))).T\n",
        "\n",
        "# Predict the z value\n",
        "final_z = lr.predict(final).reshape(10, 10)\n",
        "z = final_z"
      ]
    },
    {
      "cell_type": "code",
      "execution_count": 39,
      "id": "8540897f-c374-48fb-8419-22a43916e7ba",
      "metadata": {
        "tags": [],
        "colab": {
          "base_uri": "https://localhost:8080/",
          "height": 617
        },
        "id": "8540897f-c374-48fb-8419-22a43916e7ba",
        "outputId": "628a7e34-babc-488f-afaf-caf9c771563c"
      },
      "outputs": [
        {
          "output_type": "display_data",
          "data": {
            "text/html": [
              "<html>\n",
              "<head><meta charset=\"utf-8\" /></head>\n",
              "<body>\n",
              "    <div>            <script src=\"https://cdnjs.cloudflare.com/ajax/libs/mathjax/2.7.5/MathJax.js?config=TeX-AMS-MML_SVG\"></script><script type=\"text/javascript\">if (window.MathJax && window.MathJax.Hub && window.MathJax.Hub.Config) {window.MathJax.Hub.Config({SVG: {font: \"STIX-Web\"}});}</script>                <script type=\"text/javascript\">window.PlotlyConfig = {MathJaxConfig: 'local'};</script>\n",
              "        <script charset=\"utf-8\" src=\"https://cdn.plot.ly/plotly-2.24.1.min.js\"></script>                <div id=\"038e6986-62f5-449a-b4b6-318e09095cb8\" class=\"plotly-graph-div\" style=\"height:600px; width:600px;\"></div>            <script type=\"text/javascript\">                                    window.PLOTLYENV=window.PLOTLYENV || {};                                    if (document.getElementById(\"038e6986-62f5-449a-b4b6-318e09095cb8\")) {                    Plotly.newPlot(                        \"038e6986-62f5-449a-b4b6-318e09095cb8\",                        [{\"hovertemplate\":\"feature1=%{x}\\u003cbr\\u003efeature2=%{y}\\u003cbr\\u003etarget=%{z}\\u003cextra\\u003e\\u003c\\u002fextra\\u003e\",\"legendgroup\":\"\",\"marker\":{\"color\":\"#636efa\",\"symbol\":\"circle\",\"size\":4},\"mode\":\"markers\",\"name\":\"\",\"scene\":\"scene\",\"showlegend\":false,\"x\":[0.3723610889742351,0.1891884967308723,0.5381278552705613,-0.3434595634648203,-0.667831852445695,1.1432275485440364,0.4676273121426091,0.29266378502467194,0.8270426394154957,-0.580307307671429,0.546782390214874,0.6845861313503633,-1.151134112081627,-1.654789662015525,0.6339909329569423,1.7478549051265257,-1.5268275351296818,-0.11075275314265844,0.15013337368831312,1.3201127955796501,-0.3662672799310357,0.8030433394798805,1.4649802016725226,-0.5938791192218079,-0.40372733843860004,0.5640994306500762,-0.13159997445206006,-0.5136571008167429,0.8061968918727979,-0.7293565531592657,1.0824523461379154,0.5933745807360221,-0.4689902911179893,2.1407455579394536,-0.08206576712777187,0.5954115421720173,0.6477296341324997,-0.24552142049531409,1.6604863316915113,1.0979480769967538,0.7435536799172483,0.9871272315244962,-1.618446886718936,-1.099089323409019,-0.9874930032898827,-0.027645407226353225,-0.19645166563702487,-0.32722958151320647,0.4212110153243905,0.1376594651715789,0.1728237335775421,0.6873096602177984,-1.269341137298813,-1.11801795574522,-0.10734944836118385,-0.2834698792020088,1.1195039626909198,1.1734988786103446,-1.0524673759078766,0.8787072749359265,-0.5939922282399765,0.6779344296009329,0.9642104062221154,0.19787266524563363,1.5080016397431655,0.3091211196563472,1.6828933564989303,-1.0384813008348666,-0.2565466807871801,0.26988873320998163,0.04285451625709338,0.6878571149484375,0.7983254324725134,-0.7487968663725034,-1.6826558665046027,1.6552742822263788,-0.28851641134891104,-0.5238835810238264,1.9692524131062952,-2.079584734748839,-0.7141593851964142,0.40269887303792407,-1.1075790789320643,-0.2531687018848489,0.2759568880877082,0.37102527744216396,2.1629383351244984,-0.8286877672097074,0.5353886676890672,0.38491432420942745,0.8200801328975336,1.5589731870086951,-0.5628486875929833,-0.22359461187247603,-1.1338042337401009,-0.2599010890054611,-1.2720849245334578,1.2271435315755201,-1.3421928827394978,-0.017983997536824232],\"y\":[-0.9634559663247908,1.4964106181141559,0.010721047036986942,-0.9521938468250941,2.1334934461816366,-0.3699639116778846,0.1939806501164373,0.23313466868212201,-1.427459615238304,0.46415640779934325,0.961970817126117,0.8834249816057074,0.4395985748221526,-0.07068044041889845,-0.4381890410957531,-1.6062777933653505,0.6876781102945267,-0.4119845558241297,-1.166575854048494,-0.38306845260647926,0.3567983352455082,-0.7601130795101978,-1.5529016625565903,0.5078323067299527,1.3615350409811058,-1.8691521503906154,0.6103412272610256,0.583907951701399,0.11879919122701682,-1.0751131639471603,-0.0738032921127884,0.27524380913946106,0.3110411297953696,-0.9415901182546433,0.8870180851343173,-0.7260578021643125,-0.1186547535237324,0.22068572400258077,-1.745056748875714,-0.5008130569774171,-1.0663775599963974,0.5315780309126324,-0.6316846937631846,-0.12615339478822102,-0.07324162243734395,0.8156829682461653,-0.4902354277330718,1.0444882347096716,-1.7867098166363191,0.5116844907011474,-1.3574245592195087,-1.4684132173056446,-1.0280518487911372,0.7078007550185499,-0.7706349913015644,0.06714986704095346,1.146396787890788,1.8319406711808985,0.3635023879430872,0.9443474729163748,-1.1350916339529395,1.0505755060455821,1.4351741633623256,-0.14421237684925725,0.3071671096270926,0.4454341325687428,-0.3857904393508356,0.1721494819914873,-2.7680872291617646,-0.3380980163290368,0.015108973998294419,0.41197872235501065,-0.23304677725884482,-0.2094841221488905,0.7078963695159539,-0.5371977806769057,-0.5933705274448189,-1.5016627693662492,0.9447993308830812,-1.880908059055564,-1.1708075943865592,-0.3111101817782315,-0.256229196281992,-1.534345889122143,0.04953199439225269,0.3609412739677177,-2.342573069730313,-1.110642525796416,-0.11963589973077414,-0.01061023690371122,-0.15792799425629708,-0.30049747647846775,0.656111416829632,-0.5980595721265549,-0.12083915601191424,-0.9204348059392617,0.8367284876481386,1.0215804404441085,0.05936567026961416,1.6860203958556863],\"z\":[18.63180977372165,107.14020081067645,90.76239709783613,49.038527972888744,106.94258349045573,-98.87897218080965,-58.4143263430382,63.33856011109737,65.49451212467596,-38.88244056679323,-21.179326971646017,73.1563206834058,-11.932323855076998,-33.43776807891709,59.339602594157,-48.65566095415327,-9.859813122207125,18.234954298575694,-20.72752761317112,27.713827170446734,-7.1665801732346495,7.010234791902274,69.99827430918357,42.32322657551955,115.31525462060165,-13.908178387579452,-43.877997454568906,45.923746178417055,-66.11512677073206,-63.29912612613683,78.42740274607206,139.53390914780746,-24.318555378343703,31.49361759315329,-19.739730168081365,-81.25020234783261,-13.713675846666769,36.194722441807535,109.83459820736357,106.33734764528757,-110.32396347147699,46.52609574347109,-4.866013899675647,-45.4641286053171,0.6145322460033533,-96.80292364409539,17.146203762495986,-23.42672822056826,-21.386516928664296,-16.776876021857476,25.428860157503678,-0.2802036676581574,-13.785115521709965,-19.144940357784897,-8.241379464803773,96.71752199767907,54.049552700383146,18.136197363429837,-84.0868473322473,45.65761179940144,-6.515244313420853,56.90018178132634,22.343748075427747,4.605434329868196,30.560284809923328,69.01141117164327,-47.80874320195667,4.21832882737808,-26.61923526549578,69.85368861964953,-10.784585929429833,-41.37324066011392,32.29904862752929,-56.35407724826128,-4.059273238172182,33.430026037523064,-11.994354325729443,-13.489839105075276,109.85141253021494,-108.26822664112797,-4.6554228941325135,12.720543969081865,2.1712282899448887,46.076434186416094,66.69232544828701,-3.426892714829318,7.449414961971314,-92.63762566317529,-59.278191875765906,35.77845432816711,66.38592113265315,24.155922948242694,-49.808157808146646,-46.276555262537215,130.29623050241793,31.29566986008829,-118.57917028398089,145.509741574047,-100.87887549162063,58.93885505628268],\"type\":\"scatter3d\"},{\"x\":[-3.0,-2.3333333333333335,-1.6666666666666667,-1.0,-0.3333333333333335,0.33333333333333304,1.0,1.666666666666666,2.333333333333333,3.0],\"y\":[-3.0,-2.3333333333333335,-1.6666666666666667,-1.0,-0.3333333333333335,0.33333333333333304,1.0,1.666666666666666,2.333333333333333,3.0],\"z\":[[-105.37269642204176,-92.3239356032686,-79.27517478449542,-66.22641396572224,-53.17765314694908,-40.128892328175915,-27.080131509402747,-14.031370690629585,-0.9826098718564094,12.066150946916759],[-93.2367439049108,-80.18798308613763,-67.13922226736447,-54.0904614485913,-41.04170062981814,-27.99293981104497,-14.944178992271796,-1.8954181734986388,11.153342645274536,24.202103464047703],[-81.10079138777986,-68.0520305690067,-55.00326975023353,-41.95450893146035,-28.905748112687192,-15.856987293914026,-2.8082264751408506,10.240534343632307,23.28929516240548,36.33805598117865],[-68.9648388706489,-55.91607805187575,-42.86731723310258,-29.818556414329407,-16.769795595556246,-3.72103477678308,9.327726041990095,22.37648686076325,35.425247679536426,48.474008498309594],[-56.82888635351797,-43.780125534744805,-30.731364715971637,-17.68260389719847,-4.633843078425301,8.414917740347864,21.463678559121036,34.5124393778942,47.56120019666737,60.60996101544054],[-44.69293383638703,-31.644173017613866,-18.595412198840698,-5.546651380067523,7.502109438705642,20.550870257478806,33.59963107625198,46.648391895025135,59.69715271379831,72.74591353257148],[-32.556981319256074,-19.508220500482913,-6.459459681709744,6.589301137063428,19.63806195583659,32.68682277460976,45.73558359338293,58.78434441215609,71.83310523092926,84.88186604970242],[-20.421028802125136,-7.372267983351977,5.676492835421191,18.72525365419436,31.77401447296753,44.82277529174069,57.871536110513865,70.92029692928702,83.9690577480602,97.01781856683337],[-8.285076284994188,4.763684533778973,17.81244535255214,30.861206171325314,43.909966990098475,56.95872780887164,70.00748862764482,83.05624944641797,96.10501026519115,109.15377108396432],[3.8508762321367644,16.899637050909924,29.94839786968309,42.99715868845627,56.04591950722943,69.0946803260026,82.14344114477576,95.19220196354892,108.2409627823221,121.28972360109528]],\"type\":\"surface\"}],                        {\"template\":{\"data\":{\"histogram2dcontour\":[{\"type\":\"histogram2dcontour\",\"colorbar\":{\"outlinewidth\":0,\"ticks\":\"\"},\"colorscale\":[[0.0,\"#0d0887\"],[0.1111111111111111,\"#46039f\"],[0.2222222222222222,\"#7201a8\"],[0.3333333333333333,\"#9c179e\"],[0.4444444444444444,\"#bd3786\"],[0.5555555555555556,\"#d8576b\"],[0.6666666666666666,\"#ed7953\"],[0.7777777777777778,\"#fb9f3a\"],[0.8888888888888888,\"#fdca26\"],[1.0,\"#f0f921\"]]}],\"choropleth\":[{\"type\":\"choropleth\",\"colorbar\":{\"outlinewidth\":0,\"ticks\":\"\"}}],\"histogram2d\":[{\"type\":\"histogram2d\",\"colorbar\":{\"outlinewidth\":0,\"ticks\":\"\"},\"colorscale\":[[0.0,\"#0d0887\"],[0.1111111111111111,\"#46039f\"],[0.2222222222222222,\"#7201a8\"],[0.3333333333333333,\"#9c179e\"],[0.4444444444444444,\"#bd3786\"],[0.5555555555555556,\"#d8576b\"],[0.6666666666666666,\"#ed7953\"],[0.7777777777777778,\"#fb9f3a\"],[0.8888888888888888,\"#fdca26\"],[1.0,\"#f0f921\"]]}],\"heatmap\":[{\"type\":\"heatmap\",\"colorbar\":{\"outlinewidth\":0,\"ticks\":\"\"},\"colorscale\":[[0.0,\"#0d0887\"],[0.1111111111111111,\"#46039f\"],[0.2222222222222222,\"#7201a8\"],[0.3333333333333333,\"#9c179e\"],[0.4444444444444444,\"#bd3786\"],[0.5555555555555556,\"#d8576b\"],[0.6666666666666666,\"#ed7953\"],[0.7777777777777778,\"#fb9f3a\"],[0.8888888888888888,\"#fdca26\"],[1.0,\"#f0f921\"]]}],\"heatmapgl\":[{\"type\":\"heatmapgl\",\"colorbar\":{\"outlinewidth\":0,\"ticks\":\"\"},\"colorscale\":[[0.0,\"#0d0887\"],[0.1111111111111111,\"#46039f\"],[0.2222222222222222,\"#7201a8\"],[0.3333333333333333,\"#9c179e\"],[0.4444444444444444,\"#bd3786\"],[0.5555555555555556,\"#d8576b\"],[0.6666666666666666,\"#ed7953\"],[0.7777777777777778,\"#fb9f3a\"],[0.8888888888888888,\"#fdca26\"],[1.0,\"#f0f921\"]]}],\"contourcarpet\":[{\"type\":\"contourcarpet\",\"colorbar\":{\"outlinewidth\":0,\"ticks\":\"\"}}],\"contour\":[{\"type\":\"contour\",\"colorbar\":{\"outlinewidth\":0,\"ticks\":\"\"},\"colorscale\":[[0.0,\"#0d0887\"],[0.1111111111111111,\"#46039f\"],[0.2222222222222222,\"#7201a8\"],[0.3333333333333333,\"#9c179e\"],[0.4444444444444444,\"#bd3786\"],[0.5555555555555556,\"#d8576b\"],[0.6666666666666666,\"#ed7953\"],[0.7777777777777778,\"#fb9f3a\"],[0.8888888888888888,\"#fdca26\"],[1.0,\"#f0f921\"]]}],\"surface\":[{\"type\":\"surface\",\"colorbar\":{\"outlinewidth\":0,\"ticks\":\"\"},\"colorscale\":[[0.0,\"#0d0887\"],[0.1111111111111111,\"#46039f\"],[0.2222222222222222,\"#7201a8\"],[0.3333333333333333,\"#9c179e\"],[0.4444444444444444,\"#bd3786\"],[0.5555555555555556,\"#d8576b\"],[0.6666666666666666,\"#ed7953\"],[0.7777777777777778,\"#fb9f3a\"],[0.8888888888888888,\"#fdca26\"],[1.0,\"#f0f921\"]]}],\"mesh3d\":[{\"type\":\"mesh3d\",\"colorbar\":{\"outlinewidth\":0,\"ticks\":\"\"}}],\"scatter\":[{\"fillpattern\":{\"fillmode\":\"overlay\",\"size\":10,\"solidity\":0.2},\"type\":\"scatter\"}],\"parcoords\":[{\"type\":\"parcoords\",\"line\":{\"colorbar\":{\"outlinewidth\":0,\"ticks\":\"\"}}}],\"scatterpolargl\":[{\"type\":\"scatterpolargl\",\"marker\":{\"colorbar\":{\"outlinewidth\":0,\"ticks\":\"\"}}}],\"bar\":[{\"error_x\":{\"color\":\"#2a3f5f\"},\"error_y\":{\"color\":\"#2a3f5f\"},\"marker\":{\"line\":{\"color\":\"#E5ECF6\",\"width\":0.5},\"pattern\":{\"fillmode\":\"overlay\",\"size\":10,\"solidity\":0.2}},\"type\":\"bar\"}],\"scattergeo\":[{\"type\":\"scattergeo\",\"marker\":{\"colorbar\":{\"outlinewidth\":0,\"ticks\":\"\"}}}],\"scatterpolar\":[{\"type\":\"scatterpolar\",\"marker\":{\"colorbar\":{\"outlinewidth\":0,\"ticks\":\"\"}}}],\"histogram\":[{\"marker\":{\"pattern\":{\"fillmode\":\"overlay\",\"size\":10,\"solidity\":0.2}},\"type\":\"histogram\"}],\"scattergl\":[{\"type\":\"scattergl\",\"marker\":{\"colorbar\":{\"outlinewidth\":0,\"ticks\":\"\"}}}],\"scatter3d\":[{\"type\":\"scatter3d\",\"line\":{\"colorbar\":{\"outlinewidth\":0,\"ticks\":\"\"}},\"marker\":{\"colorbar\":{\"outlinewidth\":0,\"ticks\":\"\"}}}],\"scattermapbox\":[{\"type\":\"scattermapbox\",\"marker\":{\"colorbar\":{\"outlinewidth\":0,\"ticks\":\"\"}}}],\"scatterternary\":[{\"type\":\"scatterternary\",\"marker\":{\"colorbar\":{\"outlinewidth\":0,\"ticks\":\"\"}}}],\"scattercarpet\":[{\"type\":\"scattercarpet\",\"marker\":{\"colorbar\":{\"outlinewidth\":0,\"ticks\":\"\"}}}],\"carpet\":[{\"aaxis\":{\"endlinecolor\":\"#2a3f5f\",\"gridcolor\":\"white\",\"linecolor\":\"white\",\"minorgridcolor\":\"white\",\"startlinecolor\":\"#2a3f5f\"},\"baxis\":{\"endlinecolor\":\"#2a3f5f\",\"gridcolor\":\"white\",\"linecolor\":\"white\",\"minorgridcolor\":\"white\",\"startlinecolor\":\"#2a3f5f\"},\"type\":\"carpet\"}],\"table\":[{\"cells\":{\"fill\":{\"color\":\"#EBF0F8\"},\"line\":{\"color\":\"white\"}},\"header\":{\"fill\":{\"color\":\"#C8D4E3\"},\"line\":{\"color\":\"white\"}},\"type\":\"table\"}],\"barpolar\":[{\"marker\":{\"line\":{\"color\":\"#E5ECF6\",\"width\":0.5},\"pattern\":{\"fillmode\":\"overlay\",\"size\":10,\"solidity\":0.2}},\"type\":\"barpolar\"}],\"pie\":[{\"automargin\":true,\"type\":\"pie\"}]},\"layout\":{\"autotypenumbers\":\"strict\",\"colorway\":[\"#636efa\",\"#EF553B\",\"#00cc96\",\"#ab63fa\",\"#FFA15A\",\"#19d3f3\",\"#FF6692\",\"#B6E880\",\"#FF97FF\",\"#FECB52\"],\"font\":{\"color\":\"#2a3f5f\"},\"hovermode\":\"closest\",\"hoverlabel\":{\"align\":\"left\"},\"paper_bgcolor\":\"white\",\"plot_bgcolor\":\"#E5ECF6\",\"polar\":{\"bgcolor\":\"#E5ECF6\",\"angularaxis\":{\"gridcolor\":\"white\",\"linecolor\":\"white\",\"ticks\":\"\"},\"radialaxis\":{\"gridcolor\":\"white\",\"linecolor\":\"white\",\"ticks\":\"\"}},\"ternary\":{\"bgcolor\":\"#E5ECF6\",\"aaxis\":{\"gridcolor\":\"white\",\"linecolor\":\"white\",\"ticks\":\"\"},\"baxis\":{\"gridcolor\":\"white\",\"linecolor\":\"white\",\"ticks\":\"\"},\"caxis\":{\"gridcolor\":\"white\",\"linecolor\":\"white\",\"ticks\":\"\"}},\"coloraxis\":{\"colorbar\":{\"outlinewidth\":0,\"ticks\":\"\"}},\"colorscale\":{\"sequential\":[[0.0,\"#0d0887\"],[0.1111111111111111,\"#46039f\"],[0.2222222222222222,\"#7201a8\"],[0.3333333333333333,\"#9c179e\"],[0.4444444444444444,\"#bd3786\"],[0.5555555555555556,\"#d8576b\"],[0.6666666666666666,\"#ed7953\"],[0.7777777777777778,\"#fb9f3a\"],[0.8888888888888888,\"#fdca26\"],[1.0,\"#f0f921\"]],\"sequentialminus\":[[0.0,\"#0d0887\"],[0.1111111111111111,\"#46039f\"],[0.2222222222222222,\"#7201a8\"],[0.3333333333333333,\"#9c179e\"],[0.4444444444444444,\"#bd3786\"],[0.5555555555555556,\"#d8576b\"],[0.6666666666666666,\"#ed7953\"],[0.7777777777777778,\"#fb9f3a\"],[0.8888888888888888,\"#fdca26\"],[1.0,\"#f0f921\"]],\"diverging\":[[0,\"#8e0152\"],[0.1,\"#c51b7d\"],[0.2,\"#de77ae\"],[0.3,\"#f1b6da\"],[0.4,\"#fde0ef\"],[0.5,\"#f7f7f7\"],[0.6,\"#e6f5d0\"],[0.7,\"#b8e186\"],[0.8,\"#7fbc41\"],[0.9,\"#4d9221\"],[1,\"#276419\"]]},\"xaxis\":{\"gridcolor\":\"white\",\"linecolor\":\"white\",\"ticks\":\"\",\"title\":{\"standoff\":15},\"zerolinecolor\":\"white\",\"automargin\":true,\"zerolinewidth\":2},\"yaxis\":{\"gridcolor\":\"white\",\"linecolor\":\"white\",\"ticks\":\"\",\"title\":{\"standoff\":15},\"zerolinecolor\":\"white\",\"automargin\":true,\"zerolinewidth\":2},\"scene\":{\"xaxis\":{\"backgroundcolor\":\"#E5ECF6\",\"gridcolor\":\"white\",\"linecolor\":\"white\",\"showbackground\":true,\"ticks\":\"\",\"zerolinecolor\":\"white\",\"gridwidth\":2},\"yaxis\":{\"backgroundcolor\":\"#E5ECF6\",\"gridcolor\":\"white\",\"linecolor\":\"white\",\"showbackground\":true,\"ticks\":\"\",\"zerolinecolor\":\"white\",\"gridwidth\":2},\"zaxis\":{\"backgroundcolor\":\"#E5ECF6\",\"gridcolor\":\"white\",\"linecolor\":\"white\",\"showbackground\":true,\"ticks\":\"\",\"zerolinecolor\":\"white\",\"gridwidth\":2}},\"shapedefaults\":{\"line\":{\"color\":\"#2a3f5f\"}},\"annotationdefaults\":{\"arrowcolor\":\"#2a3f5f\",\"arrowhead\":0,\"arrowwidth\":1},\"geo\":{\"bgcolor\":\"white\",\"landcolor\":\"#E5ECF6\",\"subunitcolor\":\"white\",\"showland\":true,\"showlakes\":true,\"lakecolor\":\"white\"},\"title\":{\"x\":0.05},\"mapbox\":{\"style\":\"light\"}}},\"scene\":{\"domain\":{\"x\":[0.0,1.0],\"y\":[0.0,1.0]},\"xaxis\":{\"title\":{\"text\":\"feature1\"}},\"yaxis\":{\"title\":{\"text\":\"feature2\"}},\"zaxis\":{\"title\":{\"text\":\"target\"}}},\"legend\":{\"tracegroupgap\":0},\"margin\":{\"t\":60},\"height\":600,\"width\":600},                        {\"responsive\": true}                    ).then(function(){\n",
              "                            \n",
              "var gd = document.getElementById('038e6986-62f5-449a-b4b6-318e09095cb8');\n",
              "var x = new MutationObserver(function (mutations, observer) {{\n",
              "        var display = window.getComputedStyle(gd).display;\n",
              "        if (!display || display === 'none') {{\n",
              "            console.log([gd, 'removed!']);\n",
              "            Plotly.purge(gd);\n",
              "            observer.disconnect();\n",
              "        }}\n",
              "}});\n",
              "\n",
              "// Listen for the removal of the full notebook cells\n",
              "var notebookContainer = gd.closest('#notebook-container');\n",
              "if (notebookContainer) {{\n",
              "    x.observe(notebookContainer, {childList: true});\n",
              "}}\n",
              "\n",
              "// Listen for the clearing of the current output cell\n",
              "var outputEl = gd.closest('.output');\n",
              "if (outputEl) {{\n",
              "    x.observe(outputEl, {childList: true});\n",
              "}}\n",
              "\n",
              "                        })                };                            </script>        </div>\n",
              "</body>\n",
              "</html>"
            ]
          },
          "metadata": {}
        }
      ],
      "source": [
        "fig = px.scatter_3d(data_frame=df, x=\"feature1\", y=\"feature2\",\n",
        "                    z=\"target\", width=600, height=600)\n",
        "fig.update_traces(marker={'size': 4})\n",
        "fig.add_trace(go.Surface(x=x, y=y, z=z))\n",
        "fig.show()"
      ]
    }
  ],
  "metadata": {
    "kernelspec": {
      "display_name": "Python 3 (ipykernel)",
      "language": "python",
      "name": "python3"
    },
    "language_info": {
      "codemirror_mode": {
        "name": "ipython",
        "version": 3
      },
      "file_extension": ".py",
      "mimetype": "text/x-python",
      "name": "python",
      "nbconvert_exporter": "python",
      "pygments_lexer": "ipython3",
      "version": "3.11.4"
    },
    "colab": {
      "provenance": [],
      "include_colab_link": true
    }
  },
  "nbformat": 4,
  "nbformat_minor": 5
}